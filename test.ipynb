{
 "cells": [
  {
   "cell_type": "code",
   "execution_count": 1,
   "metadata": {},
   "outputs": [],
   "source": [
    "import numpy as np\n",
    "import networkx as nx\n",
    "import matplotlib.pyplot as plt\n",
    "import math\n",
    "import scipy as sp\n",
    "from mec import make_circle\n",
    "import itertools\n",
    "from networkx.algorithms.approximation import maximum_independent_set\n",
    "%matplotlib inline"
   ]
  },
  {
   "cell_type": "code",
   "execution_count": 2,
   "metadata": {},
   "outputs": [],
   "source": [
    "def distance(H):\n",
    "    for i in range(1, 2**len(H[0])):\n",
    "        num = bin(i)[2:].zfill(len(H[0]))\n",
    "        sum = np.zeros(len(H), dtype=np.int8)\n",
    "        for j in range(len(num)):\n",
    "            if (num[j] == '1'):\n",
    "                sum = sum^H[:,j]\n",
    "        if ((sum == np.zeros(len(H))).all()):\n",
    "            return num.count('1')"
   ]
  },
  {
   "cell_type": "code",
   "execution_count": 3,
   "metadata": {},
   "outputs": [],
   "source": [
    "# (3, 4)-LDPC code using Gallager's construction. eg w_c = 3 and w_r = 4. Let n = 16\n",
    "rng = np.random.default_rng()\n",
    "\n",
    "m1 = np.array([\n",
    "    [1, 1, 1, 1, 0, 0, 0, 0, 0, 0, 0, 0, 0, 0, 0, 0, 0, 0, 0, 0],\n",
    "    [0, 0, 0, 0, 1, 1, 1, 1, 0, 0, 0, 0, 0, 0, 0, 0, 0, 0, 0, 0],\n",
    "    [0, 0, 0, 0, 0, 0, 0, 0, 1, 1, 1, 1, 0, 0, 0, 0, 0, 0, 0, 0],\n",
    "    [0, 0, 0, 0, 0, 0, 0, 0, 0, 0, 0, 0, 1, 1, 1, 1, 0, 0, 0, 0],\n",
    "    [0, 0, 0, 0, 0, 0, 0, 0, 0, 0, 0, 0, 0, 0, 0, 0, 1, 1, 1, 1]\n",
    "])\n",
    "\n",
    "m2 = m1.copy()\n",
    "rng.shuffle(m2, axis=1)\n",
    "m3 = m1.copy()\n",
    "rng.shuffle(m3, axis=1)\n",
    "\n",
    "m = np.vstack([m1, m2, m3])"
   ]
  },
  {
   "cell_type": "code",
   "execution_count": 5,
   "metadata": {},
   "outputs": [],
   "source": [
    "# configuration model\n",
    "# https://en.wikipedia.org/wiki/Configuration_model\n",
    "\n",
    "n = 16\n",
    "deg_c = 4 # w_r. Every check has this many bits in it\n",
    "deg_v = 3 # w_c. Every bit is in this many checks\n",
    "num_checks = (n*deg_v)//deg_c\n",
    "k = n - num_checks\n",
    "\n",
    "vs = np.array([[j for i in range(deg_v)] for j in range(n)]).flatten()\n",
    "cs = np.array([[j for i in range(deg_c)] for j in range(num_checks)]).flatten()\n",
    "\n",
    "H = np.zeros((num_checks, n), np.int64)\n",
    "\n",
    "while (vs.size and cs.size):\n",
    "    # choose random 'stub' from each array\n",
    "    double_edge = True\n",
    "    while(double_edge):\n",
    "        v_ind = np.random.randint(0, len(vs))\n",
    "        c_ind = np.random.randint(0, len(cs))\n",
    "\n",
    "        if (H[cs[c_ind]][vs[v_ind]] != 1):\n",
    "            double_edge = False\n",
    "            H[cs[c_ind]][vs[v_ind]] = 1\n",
    "            vs = np.delete(vs, v_ind)\n",
    "            cs =np.delete(cs, c_ind)"
   ]
  },
  {
   "cell_type": "code",
   "execution_count": 6,
   "metadata": {},
   "outputs": [],
   "source": [
    "class Qubit(object):\n",
    "    def __init__(self):\n",
    "        self.loc = None\n",
    "        # self.X = []\n",
    "        # self.Z = []\n",
    "\n",
    "class Stabilizer(object):\n",
    "    def __init__(self, qbs):\n",
    "        self.qbs = qbs\n",
    "        self.c = None\n",
    "        self.r = None\n",
    "\n",
    "class HPG_embedding(object):\n",
    "    def __init__(self, H, dim):\n",
    "        # where H is a classical parity check matrix for an LDPC code\n",
    "        hx1 = np.kron(H, np.eye(len(H[0])))\n",
    "        hx2 = np.kron(np.eye(len(H)), H.T)\n",
    "        self.Hx = np.hstack([hx1, hx2])\n",
    "        self.X = []\n",
    "\n",
    "        hz1 = np.kron(np.eye(len(H[0])), H)\n",
    "        hz2 = np.kron(H.T, np.eye(len(H)))\n",
    "        self.Hz = np.hstack([hz1, hz2])\n",
    "        self.Z = []\n",
    "\n",
    "        self.num_qb = len(self.Hx[0])\n",
    "        self.dim = dim\n",
    "        self.qbs = [Qubit() for _ in range(self.num_qb)]\n",
    "\n",
    "        for gen in self.Hx:\n",
    "            self.X.append(Stabilizer([self.qbs[i] for i in np.argwhere(gen==1).flatten()]))\n",
    "        for gen in self.Hz:\n",
    "            self.Z.append(Stabilizer([self.qbs[i] for i in np.argwhere(gen==1).flatten()]))\n",
    "        \n",
    "        self.grid = np.array([[{'x':i, 'y':j} for i in range(self.dim)] for j in range(self.dim)]).flatten()\n",
    "\n",
    "    def calculate_radii(self):\n",
    "        for s in self.X + self.Z: # just Hx for right now\n",
    "            coords = []\n",
    "            for qb in s.qbs:\n",
    "                coords.append((qb.loc['x'], qb.loc['y']))\n",
    "            s.c = make_circle(coords)\n",
    "        \n",
    "        r = [s.c[2] for s in self.X + self.Z]\n",
    "        self.r_mean = np.mean(r)\n",
    "\n",
    "    def randomly_assign(self):\n",
    "        # just assigns each qubit to a random location in the grid\n",
    "        grid = self.grid.copy()\n",
    "        np.random.shuffle(grid)\n",
    "        for i in range(len(self.qbs)):\n",
    "            self.qbs[i].loc = grid[i]\n",
    "            \n",
    "        self.calculate_radii()        \n",
    "\n",
    "    def mis_assign(self):\n",
    "        # calculates the maximum independent set of disjoint stabilizer generators and places those first, randomly,\n",
    "        # then go back and place remaining qubits\n",
    "\n",
    "        def disjoint_stabilizers(s1, s2):\n",
    "            if (np.count_nonzero(np.logical_xor(s1, s2)) == np.count_nonzero(s1) + np.count_nonzero(s2)):\n",
    "                return True\n",
    "            else:\n",
    "                return False\n",
    "        \n",
    "        def valid_placement(sub_grid, grid, loc):\n",
    "            # checks to see if sub_grid with bottom left corner at loc can fit into grid \n",
    "            if (loc['x'] > (self.dim - np.sqrt(len(sub_grid)))) or (loc['y'] > (self.dim - np.sqrt(len(sub_grid)))):\n",
    "                return False\n",
    "            for coord in sub_grid:\n",
    "                if ({'x':loc['x'] + coord['x'], 'y':loc['y'] + coord['y']} not in grid):\n",
    "                    return False\n",
    "            return True            \n",
    "\n",
    "        H = np.vstack([self.Hx, self.Hz]) # use both X and Z generators\n",
    "        G = nx.Graph()\n",
    "        G.add_nodes_from(np.arange(len(H)))\n",
    "        for i in range(len(H)):\n",
    "            for j in range(len(H)):\n",
    "                if (not disjoint_stabilizers(H[i], H[j])) and i != j:\n",
    "                    G.add_edge(i, j)\n",
    "        mis = list(maximum_independent_set(G))\n",
    "        print(len(mis), mis)\n",
    "        grid = self.grid.copy()\n",
    "\n",
    "        for i in range(len(mis)):\n",
    "            s = self.X[mis[i]]\n",
    "            size = len(s.qbs)\n",
    "            grid_size = int(np.ceil(np.sqrt(len(s.qbs))))\n",
    "            valid = False\n",
    "\n",
    "            while (not valid):\n",
    "                origin = np.random.choice(grid, 1)[0]\n",
    "                sub_grid = np.array([[{'x':i, 'y':j} for i in range(grid_size)] for j in range(grid_size)]).flatten()\n",
    "                np.random.shuffle(sub_grid)\n",
    "                sub_grid = sub_grid[:size]\n",
    "\n",
    "                valid = valid_placement(sub_grid, grid, origin)\n",
    "            for j in range(size):\n",
    "                coord = {'x': origin['x'] + sub_grid[j]['x'], 'y': origin['y'] + sub_grid[j]['y']}\n",
    "                s.qbs[j].loc = coord\n",
    "                grid = np.delete(grid, np.where(grid == coord))\n",
    "            print(f'{i}. placed one. {len(grid)} spots left')\n",
    "\n",
    "        \n",
    "        np.random.shuffle(grid)\n",
    "        for i in range(len(self.qbs)):\n",
    "            if (self.qbs[i].loc == None):\n",
    "                last, grid = grid[-1], grid[:-1]\n",
    "                self.qbs[i].loc = last\n",
    "                    \n",
    "        self.calculate_radii()\n",
    "\n",
    "    def iteratively_assign(self):\n",
    "        # go stabilizer by stabilizer and optimize after each\n",
    "        pass\n",
    "\n",
    "    def greedily_improve(self, n):\n",
    "        print(self.r_mean)\n",
    "        for i in range(n):\n",
    "            switch = np.random.choice(self.qbs, 2, replace=False)\n",
    "            temp = switch[0].loc\n",
    "            switch[0].loc = switch[1].loc\n",
    "            switch[1].loc = temp\n",
    "            old_mean = self.r_mean\n",
    "\n",
    "            self.calculate_radii()\n",
    "            if (old_mean < self.r_mean):\n",
    "                temp = switch[0].loc\n",
    "                switch[0].loc = switch[1].loc\n",
    "                switch[1].loc = temp\n",
    "                self.calculate_radii()\n",
    "                continue\n",
    "\n",
    "            print('.', end='')\n",
    "        print(self.r_mean)\n",
    "\n",
    "    def plot_histogram(self):\n",
    "        r = [s.c[2] for s in self.X + self.Z] # just X stabilizers, don't forget to change back !!!!\n",
    "        plt.hist(r)\n",
    "\n",
    "    \n",
    "class HPG_embedding_1D(object): \n",
    "    def __init__(self, H):\n",
    "        # where H is a classical parity check matrix for an LDPC code\n",
    "        hx1 = np.kron(H, np.eye(len(H[0])))\n",
    "        hx2 = np.kron(np.eye(len(H)), H.T)\n",
    "        self.Hx = np.hstack([hx1, hx2])\n",
    "        self.X = []\n",
    "\n",
    "        hz1 = np.kron(np.eye(len(H[0])), H)\n",
    "        hz2 = np.kron(H.T, np.eye(len(H)))\n",
    "        self.Hz = np.hstack([hz1, hz2])\n",
    "        self.Z = []\n",
    "\n",
    "        self.num_qb = len(self.Hx[0])\n",
    "        self.qbs = [Qubit() for _ in range(self.num_qb)]\n",
    "\n",
    "        for gen in self.Hx:\n",
    "            self.X.append(Stabilizer([self.qbs[i] for i in np.argwhere(gen==1).flatten()]))\n",
    "        for gen in self.Hz:\n",
    "            self.Z.append(Stabilizer([self.qbs[i] for i in np.argwhere(gen==1).flatten()]))\n",
    "        \n",
    "        self.line = np.arange(self.num_qb)\n",
    "\n",
    "    def randomly_assign(self):\n",
    "        # just assigns each qubit to a random location on the line\n",
    "        line = self.line.copy()\n",
    "        np.random.shuffle(line)\n",
    "        for i in range(len(self.qbs)):\n",
    "            self.qbs[i].loc = line[i]\n",
    "            \n",
    "        self.calculate_radii()  \n",
    "\n",
    "    def calculate_radii(self):\n",
    "        for s in self.X + self.Z: # just Hx for right now\n",
    "            coords = []\n",
    "            for qb in s.qbs:\n",
    "                coords.append(qb.loc)\n",
    "            s.r = np.max(coords) - np.min(coords)\n",
    "        \n",
    "        r = [s.r for s in self.X + self.Z]\n",
    "        self.r_mean = np.mean(r)\n",
    "\n",
    "    def greedily_improve(self, n):\n",
    "        print(self.r_mean)\n",
    "        for i in range(n):\n",
    "            switch = np.random.choice(self.qbs, 2, replace=False)\n",
    "            temp = switch[0].loc\n",
    "            switch[0].loc = switch[1].loc\n",
    "            switch[1].loc = temp\n",
    "            old_mean = self.r_mean\n",
    "\n",
    "            self.calculate_radii()\n",
    "            if (old_mean < self.r_mean):\n",
    "                temp = switch[0].loc\n",
    "                switch[0].loc = switch[1].loc\n",
    "                switch[1].loc = temp\n",
    "                self.calculate_radii()\n",
    "                continue\n",
    "\n",
    "            print('.', end='')\n",
    "        print(self.r_mean)\n",
    "\n",
    "    def plot_histogram(self):\n",
    "        r = [s.r for s in self.X + self.Z]\n",
    "        plt.hist(r)"
   ]
  },
  {
   "cell_type": "code",
   "execution_count": 7,
   "metadata": {},
   "outputs": [
    {
     "data": {
      "image/png": "[encoded data removed]",
      "text/plain": [
       "<Figure size 432x288 with 1 Axes>"
      ]
     },
     "metadata": {
      "needs_background": "light"
     },
     "output_type": "display_data"
    }
   ],
   "source": [
    "e = HPG_embedding(H, 20)\n",
    "e.randomly_assign()\n",
    "e.plot_histogram()\n",
    "# e.greedily_improve(20000)"
   ]
  },
  {
   "cell_type": "code",
   "execution_count": 73,
   "metadata": {},
   "outputs": [
    {
     "name": "stdout",
     "output_type": "stream",
     "text": [
      "668.6157407407408\n",
      "...........................................................................................................................................................................................................................................................................................................................................................................................................................................................................................................................................................................................................................................................................................................................................................................................................................................................................................................................................................................................................................................................................................................................................................................................................................................................................................................................................................................................................................................................................................................................................................................................................................................................................................................................................................................................................................................................................................................................................................................................................................................................................................................................................................................................................................................................................................................................................................................................................................................................................................................................................................................................................................................................................................................336.78472222222223\n"
     ]
    }
   ],
   "source": [
    "e.greedily_improve(20000)"
   ]
  },
  {
   "cell_type": "code",
   "execution_count": 74,
   "metadata": {},
   "outputs": [
    {
     "data": {
      "image/png": "[encoded data removed]",
      "text/plain": [
       "<Figure size 432x288 with 1 Axes>"
      ]
     },
     "metadata": {
      "needs_background": "light"
     },
     "output_type": "display_data"
    }
   ],
   "source": [
    "e.plot_histogram()"
   ]
  },
  {
   "cell_type": "code",
   "execution_count": 27,
   "metadata": {},
   "outputs": [
    {
     "data": {
      "image/png": "[encoded data removed]",
      "text/plain": [
       "<Figure size 432x288 with 1 Axes>"
      ]
     },
     "metadata": {
      "needs_background": "light"
     },
     "output_type": "display_data"
    }
   ],
   "source": [
    "e = HPG_embedding(H, int(np.sqrt(hz.shape[1])))\n",
    "e.randomly_assign()\n",
    "# e.greedily_improve(1000)\n",
    "e.plot_histogram()"
   ]
  },
  {
   "cell_type": "code",
   "execution_count": 29,
   "metadata": {},
   "outputs": [
    {
     "name": "stdout",
     "output_type": "stream",
     "text": [
      "10.946508051577753\n",
      "..............................................................................................................................................................................10.36308060892447\n"
     ]
    },
    {
     "data": {
      "image/png": "[encoded data removed]",
      "text/plain": [
       "<Figure size 432x288 with 1 Axes>"
      ]
     },
     "metadata": {
      "needs_background": "light"
     },
     "output_type": "display_data"
    }
   ],
   "source": [
    "e.greedily_improve(1000)\n",
    "e.plot_histogram()"
   ]
  },
  {
   "cell_type": "code",
   "execution_count": 81,
   "metadata": {},
   "outputs": [
    {
     "name": "stdout",
     "output_type": "stream",
     "text": [
      "35 [0, 3, 133, 136, 9, 140, 16, 146, 19, 151, 25, 154, 33, 36, 166, 171, 46, 177, 50, 55, 184, 58, 189, 64, 67, 73, 81, 84, 94, 98, 103, 106, 117, 120, 124]\n",
      "0. placed one. 393 spots left\n",
      "1. placed one. 386 spots left\n",
      "2. placed one. 379 spots left\n",
      "3. placed one. 372 spots left\n",
      "4. placed one. 365 spots left\n",
      "5. placed one. 358 spots left\n",
      "6. placed one. 351 spots left\n",
      "7. placed one. 344 spots left\n",
      "8. placed one. 337 spots left\n",
      "9. placed one. 330 spots left\n",
      "10. placed one. 323 spots left\n",
      "11. placed one. 316 spots left\n",
      "12. placed one. 309 spots left\n",
      "13. placed one. 302 spots left\n",
      "14. placed one. 295 spots left\n",
      "15. placed one. 288 spots left\n",
      "16. placed one. 281 spots left\n",
      "17. placed one. 274 spots left\n",
      "18. placed one. 267 spots left\n",
      "19. placed one. 260 spots left\n",
      "20. placed one. 253 spots left\n",
      "21. placed one. 246 spots left\n",
      "22. placed one. 239 spots left\n",
      "23. placed one. 232 spots left\n",
      "24. placed one. 225 spots left\n",
      "25. placed one. 218 spots left\n",
      "26. placed one. 211 spots left\n",
      "27. placed one. 204 spots left\n",
      "28. placed one. 197 spots left\n",
      "29. placed one. 190 spots left\n",
      "30. placed one. 183 spots left\n",
      "31. placed one. 176 spots left\n",
      "32. placed one. 169 spots left\n",
      "33. placed one. 162 spots left\n",
      "34. placed one. 155 spots left\n"
     ]
    }
   ],
   "source": [
    "e.mis_assign()"
   ]
  },
  {
   "cell_type": "code",
   "execution_count": 82,
   "metadata": {},
   "outputs": [
    {
     "data": {
      "image/png": "[encoded data removed]",
      "text/plain": [
       "<Figure size 432x288 with 1 Axes>"
      ]
     },
     "metadata": {
      "needs_background": "light"
     },
     "output_type": "display_data"
    }
   ],
   "source": [
    "e.plot_histogram()"
   ]
  },
  {
   "cell_type": "code",
   "execution_count": 55,
   "metadata": {},
   "outputs": [
    {
     "data": {
      "image/png": "[encoded data removed]",
      "text/plain": [
       "<Figure size 360x360 with 1 Axes>"
      ]
     },
     "metadata": {
      "needs_background": "light"
     },
     "output_type": "display_data"
    }
   ],
   "source": [
    "fig, ax = plt.subplots(1, 1, figsize=(5,5))\n",
    "pts = itertools.product(np.arange(20), np.arange(20))\n",
    "\n",
    "i = 22\n",
    "plt.scatter(*zip(*pts), s=7, c='k')\n",
    "plt.scatter([qb.loc['x'] for qb in e.X[i].qbs], [qb.loc['y'] for qb in e.X[i].qbs], s=50, c='r')\n",
    "# plt.scatter(list(zip([c]))[0], list(zip(*stabilizer_coords[c]))[1], s=30, c='r')\n",
    "c = plt.Circle((e.X[i].c[0], e.X[i].c[1]), e.X[i].c[2], alpha=0.3)\n",
    "ax.add_artist(c)\n",
    "ax.axis('off')\n",
    "plt.show()"
   ]
  },
  {
   "cell_type": "code",
   "execution_count": 85,
   "metadata": {},
   "outputs": [
    {
     "name": "stdout",
     "output_type": "stream",
     "text": [
      "8.374267937462006\n",
      "...............................................................................................7.926533850317216\n"
     ]
    }
   ],
   "source": [
    "e.greedily_improve(1000)"
   ]
  },
  {
   "cell_type": "code",
   "execution_count": 35,
   "metadata": {},
   "outputs": [
    {
     "data": {
      "image/png": "[encoded data removed]",
      "text/plain": [
       "<Figure size 432x288 with 1 Axes>"
      ]
     },
     "metadata": {
      "needs_background": "light"
     },
     "output_type": "display_data"
    }
   ],
   "source": [
    "e.plot_histogram()"
   ]
  },
  {
   "cell_type": "code",
   "execution_count": 45,
   "metadata": {},
   "outputs": [
    {
     "data": {
      "text/plain": [
       "159"
      ]
     },
     "execution_count": 45,
     "metadata": {},
     "output_type": "execute_result"
    }
   ],
   "source": [
    "r =  [s.c[2] for s in e.X + e.Z]\n",
    "np.argmin(r)"
   ]
  },
  {
   "cell_type": "code",
   "execution_count": null,
   "metadata": {},
   "outputs": [],
   "source": []
  }
 ],
 "metadata": {
  "interpreter": {
   "hash": "0ec6a07b5680b7cd4331b54bc02dbe3823b9a431e7975ff6d8e95dcfb04b0c38"
  },
  "kernelspec": {
   "display_name": "Python 3.8.12 ('qc')",
   "language": "python",
   "name": "python3"
  },
  "language_info": {
   "codemirror_mode": {
    "name": "ipython",
    "version": 3
   },
   "file_extension": ".py",
   "mimetype": "text/x-python",
   "name": "python",
   "nbconvert_exporter": "python",
   "pygments_lexer": "ipython3",
   "version": "3.8.12"
  },
  "orig_nbformat": 4
 },
 "nbformat": 4,
 "nbformat_minor": 2
}
