{
 "cells": [
  {
   "cell_type": "code",
   "execution_count": 34,
   "metadata": {},
   "outputs": [],
   "source": [
    "from classical_code import *\n",
    "from lookup_table_cy import LookupTable, MaskedLookupTable, decode, random_error, compute_synd_matrix\n",
    "import numpy as np"
   ]
  },
  {
   "cell_type": "code",
   "execution_count": 40,
   "metadata": {},
   "outputs": [],
   "source": [
    "ccode = read_code(\"./ccodes/20_15_3_4.txt\")\n",
    "# ccode = read_code(\"./ccodes/16_12_3_4.txt\")"
   ]
  },
  {
   "cell_type": "code",
   "execution_count": 37,
   "metadata": {},
   "outputs": [],
   "source": [
    "# synd = compute_synd_matrix(ccode, error)\n",
    "# table = LookupTable(ccode, synd)\n",
    "synd_gen = [\n",
    "    [False, False, True],\n",
    "    [False, False, True],\n",
    "    [True, True, True],\n",
    "    [False, False, False]\n",
    "]"
   ]
  },
  {
   "cell_type": "code",
   "execution_count": 38,
   "metadata": {},
   "outputs": [
    {
     "name": "stdout",
     "output_type": "stream",
     "text": [
      "10.5 µs ± 921 ns per loop (mean ± std. dev. of 7 runs, 100000 loops each)\n"
     ]
    }
   ],
   "source": [
    "%timeit table.score_gen(synd_gen)"
   ]
  },
  {
   "cell_type": "code",
   "execution_count": 24,
   "metadata": {},
   "outputs": [
    {
     "name": "stdout",
     "output_type": "stream",
     "text": [
      "3.78 ms ± 461 µs per loop (mean ± std. dev. of 7 runs, 100 loops each)\n"
     ]
    }
   ],
   "source": [
    "%timeit decode(ccode, synd)"
   ]
  },
  {
   "cell_type": "code",
   "execution_count": 41,
   "metadata": {},
   "outputs": [
    {
     "name": "stdout",
     "output_type": "stream",
     "text": [
      "49741\n"
     ]
    }
   ],
   "source": [
    "sum = 0\n",
    "for i in range(50000):\n",
    "    error = random_error(ccode, 0.002)\n",
    "    # error = ([(0,0)], [])\n",
    "    synd = compute_synd_matrix(ccode, error)\n",
    "    # mask = [(v1,v2) for v1 in range(ccode.n) for v2 in range(ccode.m) if mask_p > np.random.uniform(0,1)]\n",
    "    # mask = [(0, 10)]\n",
    "    # mask = []\n",
    "    # print(mask)\n",
    "    # table = MaskedLookupTable(ccode, synd, mask)\n",
    "    # table = LookupTable(ccode, synd)\n",
    "\n",
    "    # gen = table.find_best_gen()\n",
    "    # print(gen)\n",
    "    # print(table.lookup_table[gen[0]][gen[1]])\n",
    "    synd_weight, guessed_error = decode(ccode, synd)\n",
    "    # print(synd_weight)\n",
    "    # print(mask)\n",
    "    # print(synd_weight)\n",
    "    # print(error)\n",
    "    # print(guessed_error)\n",
    "    # print()\n",
    "\n",
    "    # passed = True\n",
    "    # if (len(error[0]) == len(guessed_error[0]) and len(error[1]) == len(guessed_error[1])):\n",
    "    #     for vv_error in error[0]:\n",
    "    #         if (vv_error not in guessed_error[0]):\n",
    "    #             passed = False\n",
    "    #     for cc_error in error[1]:\n",
    "    #         if (cc_error not in guessed_error[1]):\n",
    "    #             passed = False\n",
    "    # else:\n",
    "    #     passed = False\n",
    "    vv_applied = error[0] + guessed_error[0]\n",
    "    cc_applied = error[1] + guessed_error[1]\n",
    "\n",
    "    # if passed:\n",
    "    #     sum += 1\n",
    "    if (not synd_weight):\n",
    "        sum += 1\n",
    "    else:\n",
    "        applied_synd = compute_synd_matrix(ccode, (vv_applied, cc_applied))\n",
    "        if (not np.any(applied_synd)):\n",
    "            sum += 1\n",
    "\n",
    "\n",
    "print(sum)"
   ]
  },
  {
   "cell_type": "code",
   "execution_count": 32,
   "metadata": {},
   "outputs": [
    {
     "data": {
      "text/plain": [
       "([(2, 4), (16, 16)], [])"
      ]
     },
     "execution_count": 32,
     "metadata": {},
     "output_type": "execute_result"
    }
   ],
   "source": [
    "error"
   ]
  },
  {
   "cell_type": "code",
   "execution_count": 33,
   "metadata": {},
   "outputs": [
    {
     "data": {
      "text/plain": [
       "([(2, 4), (16, 16)], [])"
      ]
     },
     "execution_count": 33,
     "metadata": {},
     "output_type": "execute_result"
    }
   ],
   "source": [
    "49882"
   ]
  },
  {
   "cell_type": "code",
   "execution_count": null,
   "metadata": {},
   "outputs": [],
   "source": []
  }
 ],
 "metadata": {
  "interpreter": {
   "hash": "36076d0e02b8d1858d0bd5b32bffaa710811761ccb670f476492e9c2dea26ac0"
  },
  "kernelspec": {
   "display_name": "Python 3.8.12 ('qc')",
   "language": "python",
   "name": "python3"
  },
  "language_info": {
   "codemirror_mode": {
    "name": "ipython",
    "version": 3
   },
   "file_extension": ".py",
   "mimetype": "text/x-python",
   "name": "python",
   "nbconvert_exporter": "python",
   "pygments_lexer": "ipython3",
   "version": "3.8.12"
  },
  "orig_nbformat": 4
 },
 "nbformat": 4,
 "nbformat_minor": 2
}
