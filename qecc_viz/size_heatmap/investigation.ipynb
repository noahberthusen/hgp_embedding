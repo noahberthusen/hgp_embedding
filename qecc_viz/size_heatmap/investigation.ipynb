{
 "cells": [
  {
   "cell_type": "code",
   "execution_count": 79,
   "metadata": {},
   "outputs": [
    {
     "name": "stdout",
     "output_type": "stream",
     "text": [
      "   0  1  2  3  4  5  6  7  8  9  ...  193  194  195  196  197  198  199  200  \\\n",
      "0  1  1  1  1  1  1  5  2  2  2  ...    1    2    4    4    4    4    4    4   \n",
      "1  1  1  1  1  1  1  1  1  1  1  ...    6    6    6    6    6    6    6    6   \n",
      "2  1  2  1  2  1  1  1  1  1  2  ...    1    1    1    1    1    2    1    1   \n",
      "3  1  1  1  1  1  1  2  1  1  1  ...    1    1    1    1    1    1    1    1   \n",
      "4  1  1  2  2  1  1  1  1  1  1  ...    3    3    3    3    3    3    3    3   \n",
      "\n",
      "   201  success  \n",
      "0    4        0  \n",
      "1    6        0  \n",
      "2    1        1  \n",
      "3    1        1  \n",
      "4    3        0  \n",
      "\n",
      "[5 rows x 203 columns]\n"
     ]
    }
   ],
   "source": [
    "import pandas as pd\n",
    "import numpy as np\n",
    "import os\n",
    "\n",
    "code = \"48_40_5_6\"\n",
    "mask = 0.3\n",
    "# code = \"60_50_5_6\"\n",
    "\n",
    "# checking to see if failures get bigger random errors\n",
    "\n",
    "# full_path = os.path.realpath(__file__)\n",
    "# path, filename = os.path.split(full_path)\n",
    "# filename = os.path.join(path, f\"./data/{code}_cluster_size.res\")\n",
    "df = pd.read_csv(f\"./data/{mask}/{code}_cluster_size.res\", sep=';', header=None)\n",
    "\n",
    "cols = [str(i) for i in range(len(df.iloc[0]))]\n",
    "\n",
    "success_tmp = []\n",
    "for i in range(len(df)):\n",
    "    if (\"+\" in df.iloc[i][len(df.iloc[0]) - 1]):\n",
    "        success_tmp.append(0)\n",
    "    else:\n",
    "        success_tmp.append(1)\n",
    "\n",
    "df.replace({\"\\*|\\+|\\(|\\)\":\"\"}, regex=True, inplace=True)\n",
    "\n",
    "df_arr = []\n",
    "for i in range(len(df)):\n",
    "    tmp = []\n",
    "    row = df.iloc[i]\n",
    "    for j in range(len(df.iloc[0])):\n",
    "        x = row[j].split(',')\n",
    "        # tup = (int(x[0]), int(x[1]))\n",
    "        # tmp.append(tup)\n",
    "        tmp.append(int(x[0]))\n",
    "    df_arr.append(tmp)\n",
    "\n",
    "num_df = pd.DataFrame(df_arr)\n",
    "num_df[\"success\"] = success_tmp\n",
    "\n",
    "successes = num_df[num_df[\"success\"] == 1]\n",
    "fails = num_df[num_df[\"success\"] == 0]\n",
    "\n",
    "print(num_df.head())"
   ]
  },
  {
   "cell_type": "code",
   "execution_count": 69,
   "metadata": {},
   "outputs": [
    {
     "name": "stdout",
     "output_type": "stream",
     "text": [
      "2.1956067040909426\n",
      "2.193559398625793\n",
      "2.2038323885158966\n"
     ]
    }
   ],
   "source": [
    "def find_error_size(df):\n",
    "    s = 0\n",
    "    for i in range(len(df)):\n",
    "        x = df.iloc[i]\n",
    "        for j in range(0, len(df.iloc[0])-1):\n",
    "            s += x[j][0]\n",
    "    s /= (len(df) * (len(df.iloc[0])-1))\n",
    "    return s\n",
    "\n",
    "print(find_error_size(num_df))\n",
    "print(find_error_size(successes))\n",
    "print(find_error_size(fails))"
   ]
  },
  {
   "cell_type": "code",
   "execution_count": 44,
   "metadata": {},
   "outputs": [
    {
     "name": "stdout",
     "output_type": "stream",
     "text": [
      "3.87957112294144\n",
      "3.897373132147163\n"
     ]
    }
   ],
   "source": [
    "def find_average_random_error(df):\n",
    "\n",
    "    s = 0\n",
    "    for i in range(len(df)):\n",
    "        x = df.iloc[i]\n",
    "        for j in range(1, len(df.iloc[0])-1):\n",
    "            s += (x[j][0] - x[j-1][1])\n",
    "    s /= (len(df) * (len(df.iloc[0])-1))\n",
    "    print(s)\n",
    "\n",
    "find_average_random_error(successes)\n",
    "find_average_random_error(fails)"
   ]
  },
  {
   "cell_type": "markdown",
   "metadata": {},
   "source": [
    "We find that runs that end in a successful decoding have an average random error size (per round) that is only 0.04% smaller than runs that ultimately failed. This is in stark comparison to the difference in average increase in largest error cluster size. Here the successful decodings on average had an increase in the largest cluster size that is 10% less than the average for decoding runs that failed. \n",
    "\n",
    "0.4 cluster size increase\n",
    "\n",
    "0.28653936822253656 - success\n",
    "\n",
    "0.29830536245113876 - fail\n",
    "\n",
    "0.4 error size increase\n",
    "\n",
    "3.861895708109826 - success\n",
    "\n",
    "3.864351872975316 - fail"
   ]
  },
  {
   "cell_type": "code",
   "execution_count": 80,
   "metadata": {},
   "outputs": [
    {
     "data": {
      "text/plain": [
       "<matplotlib.collections.PathCollection at 0x1a8a9cdbf70>"
      ]
     },
     "execution_count": 80,
     "metadata": {},
     "output_type": "execute_result"
    },
    {
     "data": {
      "image/png": "[encoded data removed]",
      "text/plain": [
       "<Figure size 432x288 with 1 Axes>"
      ]
     },
     "metadata": {
      "needs_background": "light"
     },
     "output_type": "display_data"
    }
   ],
   "source": [
    "import matplotlib.pyplot as plt\n",
    "\n",
    "data = [num_df[i].mean() for i in range(len(num_df.iloc[0])-1)]\n",
    "xs = np.arange(202)\n",
    "\n",
    "plt.scatter(xs, data)"
   ]
  },
  {
   "cell_type": "code",
   "execution_count": null,
   "metadata": {},
   "outputs": [],
   "source": []
  }
 ],
 "metadata": {
  "kernelspec": {
   "display_name": "Python 3.8.12 ('qc')",
   "language": "python",
   "name": "python3"
  },
  "language_info": {
   "codemirror_mode": {
    "name": "ipython",
    "version": 3
   },
   "file_extension": ".py",
   "mimetype": "text/x-python",
   "name": "python",
   "nbconvert_exporter": "python",
   "pygments_lexer": "ipython3",
   "version": "3.8.12"
  },
  "orig_nbformat": 4,
  "vscode": {
   "interpreter": {
    "hash": "0ec6a07b5680b7cd4331b54bc02dbe3823b9a431e7975ff6d8e95dcfb04b0c38"
   }
  }
 },
 "nbformat": 4,
 "nbformat_minor": 2
}
