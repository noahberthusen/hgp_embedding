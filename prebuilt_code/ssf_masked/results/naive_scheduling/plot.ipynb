{
 "cells": [
  {
   "cell_type": "code",
   "execution_count": 1,
   "metadata": {},
   "outputs": [],
   "source": [
    "import matplotlib.pyplot as plt\n",
    "import pandas as pd\n",
    "import numpy as np\n",
    "from scipy.optimize import curve_fit\n",
    "from sklearn.metrics import r2_score"
   ]
  },
  {
   "cell_type": "code",
   "execution_count": 2,
   "metadata": {},
   "outputs": [
    {
     "name": "stdout",
     "output_type": "stream",
     "text": [
      "0.1 [8.28335749e-06] [3.31992243e-07] 0.9448234528647249\n"
     ]
    },
    {
     "data": {
      "text/plain": [
       "Text(0.5, 0, 'Rounds, $t$')"
      ]
     },
     "execution_count": 2,
     "metadata": {},
     "output_type": "execute_result"
    },
    {
     "data": {
      "image/png": "[encoded data removed]",
      "text/plain": [
       "<Figure size 360x288 with 1 Axes>"
      ]
     },
     "metadata": {
      "needs_background": "light"
     },
     "output_type": "display_data"
    }
   ],
   "source": [
    "fig, ax = plt.subplots(1, 1, figsize=(5,4), sharey=True)\n",
    "\n",
    "df = pd.read_csv('./84_70_5_6/iterative_masked_decoding.res')\n",
    "df['p_error'] = 1 - df['p_log']\n",
    "df['p_std_dev'] = np.sqrt(df['p_error'] * df['p_log'] / df['no_test'])\n",
    "# df['p_std_dev'].replace(to_replace=0, value=1e-2, inplace=True)\n",
    "guesses = []\n",
    "params = []\n",
    "\n",
    "def fun(x, a):\n",
    "    return 1 - (1 - a)**x\n",
    "\n",
    "p_masks = [0.1]\n",
    "colors = ['#1f77b4', '#ff7f0e', '#2ca02c', '#d62728', '#9467bd', '#8c564b', '#e377c2', '#7f7f7f', '#bcbd22', '#17becf']\n",
    "for i, j in enumerate(p_masks):\n",
    "    if (j == 0.5):\n",
    "        tmp_df = df[(df['p_mask'] == j) & (df['algo'] >= 200) & (df['p_std_dev'] > 0)]\n",
    "    else:\n",
    "        tmp_df = df[(df['p_mask'] == j) & (df['algo'] >= 200) & (df['p_std_dev'] > 0)]\n",
    "    \n",
    "    tmp_df_fit = df[(df['p_mask'] == j) & (df['algo'] >= 200)]\n",
    "    tmp_df_before = df[(df['p_mask'] == j) & (df['algo'] < 200) & (df['algo'] > 10)]\n",
    "\n",
    "    ax.errorbar(tmp_df_fit['algo'], tmp_df_fit['p_error'], tmp_df_fit['p_std_dev'], label=f'{int(j*100)}% masked', fmt='o', c=colors[i])\n",
    "    ax.errorbar(tmp_df_before['algo'], tmp_df_before['p_error'], tmp_df_before['p_std_dev'], fmt='x', alpha=0.8)\n",
    "\n",
    "    popt, pcov = curve_fit(fun, tmp_df['algo'], tmp_df['p_error'], maxfev=1000, p0=(0.001),\n",
    "        sigma=tmp_df['p_std_dev'])\n",
    "    print(j, popt, np.sqrt(np.diag(pcov)), r2_score(tmp_df['p_error'], fun(tmp_df['algo'], *popt)))\n",
    "    params.append(popt[0])\n",
    "    xx = np.linspace(1, 2000, 1000)\n",
    "    yy = fun(xx, *popt)\n",
    "    ax.plot(xx[100:], yy[100:], c='k')\n",
    "    ax.plot(xx[:100], yy[:100], c='k', linestyle='--', alpha=0.8)\n",
    "\n",
    "\n",
    "# ax.plot(np.linspace(0, 0.05, 100), np.linspace(1e-3, 50*1e-3, 100), c='k')\n",
    "# ax[1].plot(np.linspace(1e-3,1e-2,100), np.linspace(1e-3, 1e-2, 100), c='k')\n",
    "\n",
    "# ax.set_title('ISD with $p_0 = 0.001$')\n",
    "# ax[1].set_title('SSF with $k=1$')\n",
    "ax.legend(loc='lower right')\n",
    "ax.set_yscale('log')\n",
    "ax.set_ylabel('Logical error rate, $p_\\log$')\n",
    "ax.set_xlabel('Rounds, $t$')\n",
    "# ax[1].set_xlabel('$p$')\n",
    "\n",
    "# handles, labels = plt.gca().get_legend_handles_labels()\n",
    "# order = [3,2,1,0]\n",
    "# plt.legend([handles[idx] for idx in order],[labels[idx] for idx in order])"
   ]
  },
  {
   "cell_type": "code",
   "execution_count": null,
   "metadata": {},
   "outputs": [],
   "source": []
  }
 ],
 "metadata": {
  "interpreter": {
   "hash": "0ec6a07b5680b7cd4331b54bc02dbe3823b9a431e7975ff6d8e95dcfb04b0c38"
  },
  "kernelspec": {
   "display_name": "Python 3.8.12 ('qc')",
   "language": "python",
   "name": "python3"
  },
  "language_info": {
   "codemirror_mode": {
    "name": "ipython",
    "version": 3
   },
   "file_extension": ".py",
   "mimetype": "text/x-python",
   "name": "python",
   "nbconvert_exporter": "python",
   "pygments_lexer": "ipython3",
   "version": "3.8.12"
  },
  "orig_nbformat": 4
 },
 "nbformat": 4,
 "nbformat_minor": 2
}
