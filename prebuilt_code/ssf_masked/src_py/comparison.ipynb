{
 "cells": [
  {
   "cell_type": "code",
   "execution_count": 1,
   "metadata": {},
   "outputs": [
    {
     "name": "stdout",
     "output_type": "stream",
     "text": [
      "----------------- Using pyx file ----------------\n",
      "----------------- Using pyx file ----------------\n"
     ]
    }
   ],
   "source": [
    "import decoder_list\n",
    "import decoder\n",
    "from read_ccodes import read_ccode\n",
    "from read_result import Result, save_new_res\n",
    "# import resource\n",
    "import time\n",
    "import uuid\n",
    "import argparse\n",
    "import glob\n",
    "import random\n",
    "from flip import run_flip_ccode"
   ]
  },
  {
   "cell_type": "code",
   "execution_count": 2,
   "metadata": {},
   "outputs": [],
   "source": [
    "###########################################################\n",
    "# Code parameters\n",
    "###########################################################\n",
    "# n_list = [] if you do not want to use this option\n",
    "n_list = []\n",
    "m_list = []\n",
    "dv_list = []\n",
    "dc_list = []\n",
    "# Don't forget \"\" for the id_list\n",
    "# id_list = [\"62451bf5\",\"0c350536\",\"ee718ff0\",\"77ef9586\"]\n",
    "# id_list = [\"swap_566a5203\",\"swap_21c6740d\",\"swap_ca41e16b\",\"swap_a501cc2e\",\"swap_12f5a4a2\", \"swap_82698d8d\", \"swap_2e55c0b2\", \"swap_877f956a\", \"swap_54d39ebd\", \"swap_b5f4dc91\",\"swap_c9cc9a21\",\"swap_5ca99d9d\",\"swap_3975e341\",\"swap_dee99e3d\",\"swap_8cab59e4\", \"swap_48aae4fa\",\"swap_24daeba6\",\"swap_0c8ee978\",\"swap_3deb9a09\",\"swap_48aae4fa\",\"swap_93d4cf34\"]\n",
    "# id_list = [\"swap_ede32c1d\",\"swap_6fb0da08\"]\n",
    "id_list = []\n",
    "# file_name_list = [\"../ccode/60_50_5_6.code\"]\n",
    "# file_name_list = [\"../ccode/swap3_120_100_5_6.code\"]\n",
    "file_name_list = [\"../ccode/16_12_3_4.code\"]\n",
    "\n",
    "###########################################################\n",
    "# Simulation parameters\n",
    "###########################################################\n",
    "# Change this value for another algorithm (for example for the parallel version)\n",
    "algo = 2\n",
    "# P = [0.0025 * k for k in range(15,16)]\n",
    "# P = [0.05,0.06,0.07]\n",
    "P = [0.05]\n",
    "maskP = [0]\n",
    "no_runs = 1\n",
    "###########################################################"
   ]
  },
  {
   "cell_type": "code",
   "execution_count": 3,
   "metadata": {},
   "outputs": [],
   "source": [
    "def is_quantum(algo):\n",
    "    return algo != 0\n",
    "\n",
    "def run_algo(algo, ccode, error, mask, logical2, k):\n",
    "    # Bit-flip on classical code\n",
    "    if algo == 0 or algo == -1:\n",
    "        return run_flip_ccode(ccode, p, algo)\n",
    "    elif algo == 1:\n",
    "        return decoder.run_algo_qcode(ccode, error, mask, logical2)\n",
    "    elif algo == 2:\n",
    "        return decoder_list.run_algo_qcode(ccode, error, mask, logical2, k)\n",
    "    else:\n",
    "        raise NameError('This algo number does not exist')"
   ]
  },
  {
   "cell_type": "code",
   "execution_count": 4,
   "metadata": {},
   "outputs": [],
   "source": [
    "code_list = read_ccode(file_name_list, n_list, m_list, dv_list, dc_list, id_list)\n",
    "ccode = code_list[0]\n",
    "if is_quantum(algo):\n",
    "    logical2 = decoder.Logical2(ccode)\n",
    "else:\n",
    "    logical2 = None"
   ]
  },
  {
   "cell_type": "code",
   "execution_count": 9,
   "metadata": {},
   "outputs": [
    {
     "name": "stdout",
     "output_type": "stream",
     "text": [
      "[((4, 14), 3, 3), ((6, 3), 4, 4), ((6, 4), 4, 4), ((6, 11), 4, 4), ((6, 14), 4, 4)]\n"
     ]
    }
   ],
   "source": [
    "results0 = []\n",
    "results1 = []\n",
    "results2 = []\n",
    "results3 = []\n",
    "maskp = 0\n",
    "mask = [[False if maskp > random.uniform(0,1) else True for c2 in range(ccode.m)] for v1 in range(ccode.n)]\n",
    "\n",
    "for i in range(1):\n",
    "    error = decoder_list.random_error(ccode, 0.015)\n",
    "\n",
    "    # res0 = run_algo(1, ccode, error, mask, logical2, 0)\n",
    "    res1 = run_algo(2, ccode, error, mask, logical2, 5)\n",
    "    # res2 = run_algo(2, ccode, error, mask, logical2, 2)\n",
    "    # res3 = run_algo(2, ccode, error, mask, logical2, 3)\n",
    "\n",
    "    # if (res0 != res1):\n",
    "    #     print(error)\n",
    "    # results0.append(res0)\n",
    "    # results1.append(res1)\n",
    "    # results2.append(res2)\n",
    "    # results3.append(res3)\n"
   ]
  },
  {
   "cell_type": "code",
   "execution_count": 28,
   "metadata": {},
   "outputs": [
    {
     "name": "stdout",
     "output_type": "stream",
     "text": [
      "68\n",
      "68\n",
      "86\n",
      "95\n"
     ]
    }
   ],
   "source": [
    "print(results0.count(1))\n",
    "print(results1.count(1))\n",
    "print(results2.count(1))\n",
    "print(results3.count(1))\n"
   ]
  },
  {
   "cell_type": "code",
   "execution_count": 26,
   "metadata": {},
   "outputs": [],
   "source": [
    "p = 0.02\n",
    "with open(f\"../errors/errors_{ccode.n}_{ccode.m}_{ccode.dv}_{ccode.dc}_{p}.txt\", 'w') as f:\n",
    "    for i in range(10000):\n",
    "        error = decoder_list.random_error(ccode, 0.02)\n",
    "        f.write(str(error))\n",
    "        f.write('\\n')"
   ]
  },
  {
   "cell_type": "code",
   "execution_count": 21,
   "metadata": {},
   "outputs": [
    {
     "data": {
      "text/plain": [
       "'([(4, 0), (4, 7), (5, 7), (8, 0), (8, 6), (10, 8), (12, 2), (12, 10), (13, 0), (13, 6)], [(2, 7), (5, 7), (5, 10), (6, 2)])'"
      ]
     },
     "execution_count": 21,
     "metadata": {},
     "output_type": "execute_result"
    }
   ],
   "source": [
    "str(error)"
   ]
  },
  {
   "cell_type": "code",
   "execution_count": null,
   "metadata": {},
   "outputs": [],
   "source": []
  }
 ],
 "metadata": {
  "interpreter": {
   "hash": "36076d0e02b8d1858d0bd5b32bffaa710811761ccb670f476492e9c2dea26ac0"
  },
  "kernelspec": {
   "display_name": "Python 3.8.12 ('qc')",
   "language": "python",
   "name": "python3"
  },
  "language_info": {
   "codemirror_mode": {
    "name": "ipython",
    "version": 3
   },
   "file_extension": ".py",
   "mimetype": "text/x-python",
   "name": "python",
   "nbconvert_exporter": "python",
   "pygments_lexer": "ipython3",
   "version": "3.8.12"
  },
  "orig_nbformat": 4
 },
 "nbformat": 4,
 "nbformat_minor": 2
}
