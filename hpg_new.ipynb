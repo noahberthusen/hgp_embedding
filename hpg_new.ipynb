{
 "cells": [
  {
   "cell_type": "code",
   "execution_count": 24,
   "metadata": {},
   "outputs": [],
   "source": [
    "import matplotlib.pyplot as plt\n",
    "from classical_code import *\n",
    "from matplotlib.gridspec import GridSpec\n",
    "import itertools\n",
    "import numpy as np"
   ]
  },
  {
   "cell_type": "code",
   "execution_count": 19,
   "metadata": {},
   "outputs": [],
   "source": [
    "def compute_synd_matrix(ccode: ClassicalCode, error, x_z):\n",
    "    \"\"\"\n",
    "    Computes the syndrome matrix of the list of errors error\n",
    "    x_z specifies if the error is an x-error or a z-error. True if x-error, False if z-error\n",
    "        If error is an x-error we use the C1 x V2 checks\n",
    "        If error is a z-error we use the V1 x C2 checks\n",
    "    \"\"\"\n",
    "\n",
    "    vv_error, cc_error = error\n",
    "\n",
    "    if (x_z):\n",
    "        synd_matrix = [[False for v2 in range(ccode.n)] for c1 in range(ccode.m)]\n",
    "\n",
    "        for v1, v2 in vv_error: # this is C1 x V2 check nodes. Size of m x n\n",
    "            for c1 in ccode.bit_nbhd[v2]:\n",
    "                synd_matrix[c1][v2] = not synd_matrix[c1][v2]\n",
    "        for c1, c2 in cc_error:\n",
    "            for v2 in ccode.check_nbhd[c1]:\n",
    "                synd_matrix[c1][v2] = not synd_matrix[c1][v2]\n",
    "    else:\n",
    "        synd_matrix = [[False for c2 in range(ccode.m)] for v1 in range(ccode.n)]\n",
    "        for v1, v2 in vv_error: # this is for V1 x C2 check nodes. Size of n x m\n",
    "            for c2 in ccode.bit_nbhd[v2]:\n",
    "                synd_matrix[v1][c2] = not synd_matrix[v1][c2]\n",
    "        for c1, c2 in cc_error:\n",
    "            for v1 in ccode.check_nbhd[c1]:\n",
    "                synd_matrix[v1][c2] = not synd_matrix[v1][c2]\n",
    "\n",
    "    return synd_matrix"
   ]
  },
  {
   "cell_type": "code",
   "execution_count": 25,
   "metadata": {},
   "outputs": [],
   "source": [
    "ccode = read_code('./ldpc_codes/16_12_3_4.txt')"
   ]
  },
  {
   "cell_type": "code",
   "execution_count": 62,
   "metadata": {},
   "outputs": [
    {
     "name": "stdout",
     "output_type": "stream",
     "text": [
      "[(4, 0), (9, 5), (12, 13)] [(7, 2), (10, 4)]\n"
     ]
    }
   ],
   "source": [
    "# vv_errors, cc_errors = random_error(ccode, 0.01)\n",
    "vv_errors, cc_errors = ([(4, 0), (9, 5), (12, 13)], [(7, 2), (10, 4)])\n",
    "# vv_errors, cc_errors =([(0, 3), (7, 1), (8, 10), (9, 12), (12, 7), (14, 6)], [])\n",
    "print(vv_errors, cc_errors)\n",
    "synd = compute_synd_matrix(ccode, (vv_errors, cc_errors), False)\n",
    "synd2 = compute_synd_matrix(ccode, (vv_errors, cc_errors), True)"
   ]
  },
  {
   "cell_type": "code",
   "execution_count": 63,
   "metadata": {},
   "outputs": [],
   "source": [
    "synd_points = [(x,y) for x, y in zip(*np.where(synd))]\n",
    "synd_points2 = [(x,y) for x, y in zip(*np.where(synd2))]"
   ]
  },
  {
   "cell_type": "code",
   "execution_count": 64,
   "metadata": {},
   "outputs": [],
   "source": [
    "mask = [(0, 3), (0, 6), (0, 7), (0, 11), (1, 0), (1, 2), (1, 3), (1, 6), (1, 9), (1, 11), (2, 0), (2, 1), (2, 2), (2, 3), (2, 6), (2, 7), (2, 8), (2, 10), (2, 11), (3, 0), (3, 1), (3, 2), (3, 6), (3, 8), (3, 9), (3, 10), (4, 2), (4, 4), (4, 6), (4, 7), (4, 9), (4, 10), (5, 1), (5, 6), (5, 7), (5, 11), (6, 0), (6, 1), (6, 2), (6, 6), (6, 7), (6, 8), (6, 10), (7, 3), (7, 4), (7, 5), (7, 7), (7, 8), (7, 9), (8, 0), (8, 2), (8, 3), (8, 4), (8, 5), (8, 7), (8, 8), (8, 10), (9, 3), \n",
    "(9, 5), (9, 6), (9, 9), (9, 10), (9, 11), (10, 2), (10, 4), (10, 6), (10, 7), (10, 9), (11, 0), (11, 3), (11, 4), (11, 5), (11, 7), (11, 8), (11, 9), (11, 11), (12, 3), (12, 5), (12, 7), (12, 8), (12, 10), (13, 3), (13, 4), (13, 5), (13, 7), (13, 9), (13, 10), (13, 11), (14, 1), (14, 2), (14, 4), (14, 5), (14, 6), (14, 7), (14, 9), (14, 11), (15, 0), (15, 1), (15, 4), (15, 5), (15, 7), (15, 9)]"
   ]
  },
  {
   "cell_type": "code",
   "execution_count": 65,
   "metadata": {},
   "outputs": [
    {
     "data": {
      "image/png": "[encoded data removed]",
      "text/plain": [
       "<Figure size 432x432 with 4 Axes>"
      ]
     },
     "metadata": {},
     "output_type": "display_data"
    }
   ],
   "source": [
    "def format_axes(fig):\n",
    "    for i, ax in enumerate(fig.axes):\n",
    "        # ax.text(0.5, 0.5, \"ax%d\" % (i+1), va=\"center\", ha=\"center\")\n",
    "        ax.tick_params(labelbottom=False, labelleft=False)\n",
    "\n",
    "fig = plt.figure(constrained_layout=True, figsize=(6,6))\n",
    "\n",
    "gs = GridSpec(10, 10, figure=fig)\n",
    "cut_off = 6\n",
    "ax1 = fig.add_subplot(gs[:cut_off, :cut_off])\n",
    "ax1.invert_yaxis()\n",
    "\n",
    "\n",
    "# identical to ax1 = plt.subplot(gs.new_subplotspec((0, 0), colspan=3))\n",
    "ax2 = fig.add_subplot(gs[:cut_off, cut_off:])\n",
    "ax2.invert_yaxis()\n",
    "\n",
    "ax3 = fig.add_subplot(gs[cut_off:, :cut_off])\n",
    "ax3.invert_yaxis()\n",
    "\n",
    "ax4 = fig.add_subplot(gs[cut_off:, cut_off:])\n",
    "ax4.invert_yaxis()\n",
    "# ax5 = fig.add_subplot(gs[-1, -2])\n",
    "\n",
    "\n",
    "format_axes(fig)\n",
    "vv = itertools.product(np.arange(ccode.n), np.arange(ccode.n))\n",
    "cc = itertools.product(np.arange(ccode.m), np.arange(ccode.m))\n",
    "\n",
    "v1xc2 = itertools.product(np.arange(ccode.m), np.arange(ccode.n)) # checks of the z code\n",
    "c1xv2 = itertools.product(np.arange(ccode.n), np.arange(ccode.m)) # checks of the x code\n",
    "\n",
    "ax1.scatter(*zip(*vv), s=3, c='k') # vv qubits\n",
    "ax1.scatter([vv[1] for vv in vv_errors], [vv[0] for vv in vv_errors], c='r')\n",
    "# ax1.scatter([0], [5])\n",
    "\n",
    "ax4.scatter(*zip(*cc), s=3, c='k') # cc qubits\n",
    "ax4.scatter([cc[1] for cc in cc_errors], [cc[0] for cc in cc_errors], c='r')\n",
    "\n",
    "\n",
    "ax3.scatter(*zip(*c1xv2), s=3, c='k', marker='^') # checks of the x code (z generators)\n",
    "# ax3.scatter([e[1] for e in synd_points2], [e[0] for e in synd_points2], c='r', marker='^')\n",
    "# ax3.scatter([1,4], [0,0], s=70, c='b')\n",
    "\n",
    "ax2.scatter(*zip(*v1xc2), s=3, c='k', marker='^') # checks of the z code (x generators)\n",
    "ax2.scatter([e[1] for e in synd_points], [e[0] for e in synd_points], c='r', marker='^')\n",
    "# ax2.scatter([e[1] for e in synd_gen_ind], [e[0] for e in synd_gen_ind], alpha=0.5)\n",
    "ax2.scatter([e[1] for e in mask], [e[0] for e in mask], marker='x', s=100, c='k')\n",
    "\n",
    "\n",
    "plt.show()"
   ]
  },
  {
   "cell_type": "code",
   "execution_count": 43,
   "metadata": {},
   "outputs": [
    {
     "data": {
      "text/plain": [
       "[[True, False, False],\n",
       " [True, False, False],\n",
       " [True, False, False],\n",
       " [True, False, False]]"
      ]
     },
     "execution_count": 43,
     "metadata": {},
     "output_type": "execute_result"
    }
   ],
   "source": [
    "ver = ccode.check_nbhd[1] # list of qubits in c1\n",
    "hor = ccode.bit_nbhd[4] # list of checks v2 is part of\n",
    "synd_gen = [[synd[ver[i]][hor[j]]\n",
    "    for j in range(ccode.dv)] for i in range(ccode.dc)] \n",
    "synd_gen"
   ]
  },
  {
   "cell_type": "code",
   "execution_count": 44,
   "metadata": {},
   "outputs": [
    {
     "data": {
      "text/plain": [
       "[(4, 1),\n",
       " (4, 6),\n",
       " (4, 11),\n",
       " (5, 1),\n",
       " (5, 6),\n",
       " (5, 11),\n",
       " (7, 1),\n",
       " (7, 6),\n",
       " (7, 11),\n",
       " (15, 1),\n",
       " (15, 6),\n",
       " (15, 11)]"
      ]
     },
     "execution_count": 44,
     "metadata": {},
     "output_type": "execute_result"
    }
   ],
   "source": [
    "synd_gen_temp = [[(ver[i], hor[j])\n",
    "    for j in range(ccode.dv)] for i in range(ccode.dc)] \n",
    "synd_gen_ind = []\n",
    "for i in range(ccode.dc):\n",
    "    for j in range(ccode.dv):\n",
    "        synd_gen_ind.append(synd_gen_temp[i][j])\n",
    "synd_gen_ind"
   ]
  },
  {
   "cell_type": "code",
   "execution_count": 106,
   "metadata": {},
   "outputs": [],
   "source": [
    "synd_gen_ind = [[(ver[i], hor[j])\n",
    "    for j in range(ccode.dv)] for i in range(ccode.dc)] \n",
    "synd_gen_ind = [(2, 2), (2, 5), (2, 8),\n",
    " (5, 2), (5, 5), (5, 8),\n",
    " (6, 2), (6, 5), (6, 8),\n",
    " (11, 2), (11, 5), (11, 8)]"
   ]
  },
  {
   "cell_type": "code",
   "execution_count": 67,
   "metadata": {},
   "outputs": [
    {
     "data": {
      "text/plain": [
       "False"
      ]
     },
     "execution_count": 67,
     "metadata": {},
     "output_type": "execute_result"
    }
   ],
   "source": [
    "(4,2) in synd_gen_ind"
   ]
  },
  {
   "cell_type": "code",
   "execution_count": null,
   "metadata": {},
   "outputs": [],
   "source": []
  }
 ],
 "metadata": {
  "interpreter": {
   "hash": "36076d0e02b8d1858d0bd5b32bffaa710811761ccb670f476492e9c2dea26ac0"
  },
  "kernelspec": {
   "display_name": "Python 3.8.12 ('qc')",
   "language": "python",
   "name": "python3"
  },
  "language_info": {
   "codemirror_mode": {
    "name": "ipython",
    "version": 3
   },
   "file_extension": ".py",
   "mimetype": "text/x-python",
   "name": "python",
   "nbconvert_exporter": "python",
   "pygments_lexer": "ipython3",
   "version": "3.8.12"
  },
  "orig_nbformat": 4
 },
 "nbformat": 4,
 "nbformat_minor": 2
}
