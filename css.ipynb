{
 "cells": [
  {
   "cell_type": "code",
   "execution_count": 61,
   "metadata": {},
   "outputs": [],
   "source": [
    "import numpy as np\n",
    "import galois\n",
    "GF = galois.GF(2)"
   ]
  },
  {
   "cell_type": "code",
   "execution_count": 2,
   "metadata": {},
   "outputs": [],
   "source": [
    "G = GF([\n",
    "    [1,0,0,0,0,1,1],\n",
    "    [0,1,0,0,1,0,1],\n",
    "    [0,0,1,0,1,1,0],\n",
    "    [0,0,0,1,1,1,1]\n",
    "])\n",
    "n = G.shape[1]\n",
    "k = G.shape[0]"
   ]
  },
  {
   "cell_type": "code",
   "execution_count": 3,
   "metadata": {},
   "outputs": [],
   "source": [
    "C = []\n",
    "for i in range(2**k):\n",
    "    m = GF([int(j) for j in bin(i)[2:].zfill(k)])\n",
    "    C.append(m @ G)\n",
    "C_int = []"
   ]
  },
  {
   "cell_type": "code",
   "execution_count": 4,
   "metadata": {},
   "outputs": [
    {
     "data": {
      "text/plain": [
       "[GF([0, 0, 0, 0, 0, 0, 0], order=2),\n",
       " GF([0, 0, 0, 1, 1, 1, 1], order=2),\n",
       " GF([0, 0, 1, 0, 1, 1, 0], order=2),\n",
       " GF([0, 0, 1, 1, 0, 0, 1], order=2),\n",
       " GF([0, 1, 0, 0, 1, 0, 1], order=2),\n",
       " GF([0, 1, 0, 1, 0, 1, 0], order=2),\n",
       " GF([0, 1, 1, 0, 0, 1, 1], order=2),\n",
       " GF([0, 1, 1, 1, 1, 0, 0], order=2),\n",
       " GF([1, 0, 0, 0, 0, 1, 1], order=2),\n",
       " GF([1, 0, 0, 1, 1, 0, 0], order=2),\n",
       " GF([1, 0, 1, 0, 1, 0, 1], order=2),\n",
       " GF([1, 0, 1, 1, 0, 1, 0], order=2),\n",
       " GF([1, 1, 0, 0, 1, 1, 0], order=2),\n",
       " GF([1, 1, 0, 1, 0, 0, 1], order=2),\n",
       " GF([1, 1, 1, 0, 0, 0, 0], order=2),\n",
       " GF([1, 1, 1, 1, 1, 1, 1], order=2)]"
      ]
     },
     "execution_count": 4,
     "metadata": {},
     "output_type": "execute_result"
    }
   ],
   "source": [
    "C # 16 codewords, distance 3, [7, 4, 3] code"
   ]
  },
  {
   "cell_type": "code",
   "execution_count": 11,
   "metadata": {},
   "outputs": [],
   "source": [
    "C_dual = []\n",
    "F2n = []\n",
    "res = []\n",
    "for i in range(2**n):\n",
    "    w = GF([int(j) for j in bin(i)[2:].zfill(n)])\n",
    "    F2n.append(w)\n",
    "    valid = True\n",
    "    for c in C:\n",
    "        if (np.dot(c, w) != 0):\n",
    "            valid = False\n",
    "    if valid: C_dual.append(w)"
   ]
  },
  {
   "cell_type": "code",
   "execution_count": 12,
   "metadata": {},
   "outputs": [
    {
     "data": {
      "text/plain": [
       "[GF([0, 0, 0, 0, 0, 0, 0], order=2),\n",
       " GF([0, 0, 0, 1, 1, 1, 1], order=2),\n",
       " GF([0, 1, 1, 0, 0, 1, 1], order=2),\n",
       " GF([0, 1, 1, 1, 1, 0, 0], order=2),\n",
       " GF([1, 0, 1, 0, 1, 0, 1], order=2),\n",
       " GF([1, 0, 1, 1, 0, 1, 0], order=2),\n",
       " GF([1, 1, 0, 0, 1, 1, 0], order=2),\n",
       " GF([1, 1, 0, 1, 0, 0, 1], order=2)]"
      ]
     },
     "execution_count": 12,
     "metadata": {},
     "output_type": "execute_result"
    }
   ],
   "source": [
    "C_dual # 8 codewords, distance 4, [7, 3, 4] code. This will be C2"
   ]
  },
  {
   "cell_type": "code",
   "execution_count": 9,
   "metadata": {},
   "outputs": [],
   "source": [
    "F2_mod_C_dual = []\n",
    "F2n_copy = [i for i, _ in enumerate(F2n)]\n",
    "\n",
    "while len(F2n_copy):\n",
    "    ind = np.random.randint(len(F2n_copy), size=1)\n",
    "    c = F2n_copy[ind[0]]\n",
    "    c = GF([int(j) for j in bin(c)[2:].zfill(n)])\n",
    "    coset = []\n",
    "    for w in C_dual:\n",
    "        v = c + w\n",
    "        v_int = sum([int(j)*2**i for i, j in enumerate(v[::-1])])\n",
    "        if (v_int in F2n_copy):\n",
    "            F2n_copy.remove(v_int)\n",
    "        coset.append(v)\n",
    "    F2_mod_C_dual.append(coset)"
   ]
  },
  {
   "cell_type": "code",
   "execution_count": 69,
   "metadata": {},
   "outputs": [],
   "source": [
    "H1 = GF(np.array([[0, 1, 0, 0, 0, 0, 0, 1, 1, 0, 0, 0, 1, 0, 0, 0],\n",
    "       [0, 0, 0, 0, 1, 1, 0, 1, 0, 0, 0, 0, 0, 0, 0, 1],\n",
    "       [0, 0, 1, 0, 0, 1, 1, 0, 0, 0, 0, 1, 0, 0, 0, 0],\n",
    "       [0, 0, 0, 0, 0, 0, 1, 0, 1, 0, 0, 0, 0, 0, 1, 1],\n",
    "       [0, 0, 0, 1, 0, 0, 0, 0, 0, 1, 0, 0, 0, 1, 0, 1],\n",
    "       [1, 0, 1, 1, 0, 0, 0, 1, 0, 0, 0, 0, 0, 0, 0, 0],\n",
    "       [0, 0, 0, 1, 1, 0, 0, 0, 0, 0, 0, 1, 0, 0, 1, 0],\n",
    "       [1, 1, 0, 0, 0, 1, 0, 0, 0, 0, 0, 0, 0, 1, 0, 0],\n",
    "       [0, 0, 1, 0, 0, 0, 0, 0, 0, 1, 0, 0, 1, 0, 1, 0],\n",
    "       [0, 0, 0, 0, 0, 0, 0, 0, 0, 0, 1, 1, 1, 1, 0, 0],\n",
    "       [1, 0, 0, 0, 0, 0, 0, 0, 1, 1, 1, 0, 0, 0, 0, 0],\n",
    "       [0, 1, 0, 0, 1, 0, 1, 0, 0, 0, 1, 0, 0, 0, 0, 0]]))\n",
    "n = H1.shape[1]"
   ]
  },
  {
   "cell_type": "code",
   "execution_count": 70,
   "metadata": {},
   "outputs": [
    {
     "data": {
      "text/plain": [
       "[GF([0, 0, 0, 0, 0, 0, 0, 0, 0, 0, 0, 0, 0, 0, 0, 0], order=2),\n",
       " GF([0, 0, 0, 1, 1, 0, 0, 1, 0, 1, 1, 0, 1, 0, 0, 0], order=2),\n",
       " GF([0, 0, 1, 0, 0, 1, 1, 1, 0, 1, 1, 1, 1, 1, 1, 0], order=2),\n",
       " GF([0, 0, 1, 1, 1, 1, 1, 0, 0, 0, 0, 1, 0, 1, 1, 0], order=2),\n",
       " GF([0, 1, 0, 0, 1, 0, 0, 0, 0, 0, 0, 0, 1, 1, 1, 1], order=2),\n",
       " GF([0, 1, 0, 1, 0, 0, 0, 1, 0, 1, 1, 0, 0, 1, 1, 1], order=2),\n",
       " GF([0, 1, 1, 0, 1, 1, 1, 1, 0, 1, 1, 1, 0, 0, 0, 1], order=2),\n",
       " GF([0, 1, 1, 1, 0, 1, 1, 0, 0, 0, 0, 1, 1, 0, 0, 1], order=2),\n",
       " GF([1, 0, 0, 0, 1, 0, 0, 1, 1, 1, 1, 0, 0, 1, 1, 0], order=2),\n",
       " GF([1, 0, 0, 1, 0, 0, 0, 0, 1, 0, 0, 0, 1, 1, 1, 0], order=2),\n",
       " GF([1, 0, 1, 0, 1, 1, 1, 0, 1, 0, 0, 1, 1, 0, 0, 0], order=2),\n",
       " GF([1, 0, 1, 1, 0, 1, 1, 1, 1, 1, 1, 1, 0, 0, 0, 0], order=2),\n",
       " GF([1, 1, 0, 0, 0, 0, 0, 1, 1, 1, 1, 0, 1, 0, 0, 1], order=2),\n",
       " GF([1, 1, 0, 1, 1, 0, 0, 0, 1, 0, 0, 0, 0, 0, 0, 1], order=2),\n",
       " GF([1, 1, 1, 0, 0, 1, 1, 0, 1, 0, 0, 1, 0, 1, 1, 1], order=2),\n",
       " GF([1, 1, 1, 1, 1, 1, 1, 1, 1, 1, 1, 1, 1, 1, 1, 1], order=2)]"
      ]
     },
     "execution_count": 70,
     "metadata": {},
     "output_type": "execute_result"
    }
   ],
   "source": [
    "res = []\n",
    "for i in range(2**n):\n",
    "    w = GF([int(j) for j in bin(i)[2:].zfill(n)])\n",
    "    if (np.any(H1@w)):\n",
    "        continue\n",
    "    else:\n",
    "        res.append(w)\n",
    "res"
   ]
  },
  {
   "cell_type": "code",
   "execution_count": 72,
   "metadata": {},
   "outputs": [
    {
     "name": "stdout",
     "output_type": "stream",
     "text": [
      "0\n",
      "6\n",
      "10\n",
      "8\n",
      "6\n",
      "8\n",
      "10\n",
      "8\n",
      "8\n",
      "6\n",
      "8\n",
      "10\n",
      "8\n",
      "6\n",
      "10\n",
      "16\n"
     ]
    }
   ],
   "source": [
    "for w in res:\n",
    "    print(np.count_nonzero(w))"
   ]
  },
  {
   "cell_type": "code",
   "execution_count": 57,
   "metadata": {},
   "outputs": [
    {
     "data": {
      "text/plain": [
       "[GF([0, 0, 0, 0, 1, 0, 1, 1, 0, 1, 0, 0, 1, 1, 0, 1], order=2),\n",
       " GF([0, 0, 0, 1, 1, 0, 0, 1, 1, 1, 0, 1, 1, 1, 0, 1], order=2),\n",
       " GF([0, 0, 1, 0, 1, 0, 0, 1, 1, 0, 1, 0, 1, 1, 0, 0], order=2),\n",
       " GF([0, 0, 1, 1, 1, 0, 1, 1, 0, 0, 1, 1, 1, 1, 0, 0], order=2),\n",
       " GF([0, 1, 0, 0, 1, 0, 1, 0, 0, 1, 0, 0, 1, 0, 0, 0], order=2),\n",
       " GF([0, 1, 0, 1, 1, 0, 0, 0, 1, 1, 0, 1, 1, 0, 0, 0], order=2),\n",
       " GF([0, 1, 1, 0, 1, 0, 0, 0, 1, 0, 1, 0, 1, 0, 0, 1], order=2),\n",
       " GF([0, 1, 1, 1, 1, 0, 1, 0, 0, 0, 1, 1, 1, 0, 0, 1], order=2),\n",
       " GF([1, 0, 0, 0, 0, 1, 0, 1, 1, 1, 0, 0, 0, 1, 1, 0], order=2),\n",
       " GF([1, 0, 0, 1, 0, 1, 1, 1, 0, 1, 0, 1, 0, 1, 1, 0], order=2),\n",
       " GF([1, 0, 1, 0, 0, 1, 1, 1, 0, 0, 1, 0, 0, 1, 1, 1], order=2),\n",
       " GF([1, 0, 1, 1, 0, 1, 0, 1, 1, 0, 1, 1, 0, 1, 1, 1], order=2),\n",
       " GF([1, 1, 0, 0, 0, 1, 0, 0, 1, 1, 0, 0, 0, 0, 1, 1], order=2),\n",
       " GF([1, 1, 0, 1, 0, 1, 1, 0, 0, 1, 0, 1, 0, 0, 1, 1], order=2),\n",
       " GF([1, 1, 1, 0, 0, 1, 1, 0, 0, 0, 1, 0, 0, 0, 1, 0], order=2),\n",
       " GF([1, 1, 1, 1, 0, 1, 0, 0, 1, 0, 1, 1, 0, 0, 1, 0], order=2)]"
      ]
     },
     "execution_count": 57,
     "metadata": {},
     "output_type": "execute_result"
    }
   ],
   "source": [
    "error_coset = []\n",
    "for i in range(2**n):\n",
    "    w = GF([int(j) for j in bin(i)[2:].zfill(n)])\n",
    "    # print(H1@w)\n",
    "    if (np.array_equal(H1@w, GF([1,0,0,0,0,0,0,0,0,0,0,0]))):    \n",
    "        error_coset.append(w)\n",
    "    else:\n",
    "        continue\n",
    "    # print(H1@w)\n",
    "error_coset"
   ]
  },
  {
   "cell_type": "code",
   "execution_count": 58,
   "metadata": {},
   "outputs": [
    {
     "name": "stdout",
     "output_type": "stream",
     "text": [
      "32\n"
     ]
    },
    {
     "data": {
      "text/plain": [
       "[GF([0, 0, 0, 0, 0, 0, 0, 0, 0, 0, 0, 0, 0, 0, 0, 0], order=2),\n",
       " GF([0, 0, 0, 0, 1, 0, 1, 1, 0, 1, 0, 0, 1, 1, 0, 1], order=2),\n",
       " GF([0, 0, 0, 1, 0, 0, 1, 0, 1, 0, 0, 1, 0, 0, 0, 0], order=2),\n",
       " GF([0, 0, 0, 1, 1, 0, 0, 1, 1, 1, 0, 1, 1, 1, 0, 1], order=2),\n",
       " GF([0, 0, 1, 0, 0, 0, 1, 0, 1, 1, 1, 0, 0, 0, 0, 1], order=2),\n",
       " GF([0, 0, 1, 0, 1, 0, 0, 1, 1, 0, 1, 0, 1, 1, 0, 0], order=2),\n",
       " GF([0, 0, 1, 1, 0, 0, 0, 0, 0, 1, 1, 1, 0, 0, 0, 1], order=2),\n",
       " GF([0, 0, 1, 1, 1, 0, 1, 1, 0, 0, 1, 1, 1, 1, 0, 0], order=2),\n",
       " GF([0, 1, 0, 0, 0, 0, 0, 1, 0, 0, 0, 0, 0, 1, 0, 1], order=2),\n",
       " GF([0, 1, 0, 0, 1, 0, 1, 0, 0, 1, 0, 0, 1, 0, 0, 0], order=2),\n",
       " GF([0, 1, 0, 1, 0, 0, 1, 1, 1, 0, 0, 1, 0, 1, 0, 1], order=2),\n",
       " GF([0, 1, 0, 1, 1, 0, 0, 0, 1, 1, 0, 1, 1, 0, 0, 0], order=2),\n",
       " GF([0, 1, 1, 0, 0, 0, 1, 1, 1, 1, 1, 0, 0, 1, 0, 0], order=2),\n",
       " GF([0, 1, 1, 0, 1, 0, 0, 0, 1, 0, 1, 0, 1, 0, 0, 1], order=2),\n",
       " GF([0, 1, 1, 1, 0, 0, 0, 1, 0, 1, 1, 1, 0, 1, 0, 0], order=2),\n",
       " GF([0, 1, 1, 1, 1, 0, 1, 0, 0, 0, 1, 1, 1, 0, 0, 1], order=2),\n",
       " GF([1, 0, 0, 0, 0, 1, 0, 1, 1, 1, 0, 0, 0, 1, 1, 0], order=2),\n",
       " GF([1, 0, 0, 0, 1, 1, 1, 0, 1, 0, 0, 0, 1, 0, 1, 1], order=2),\n",
       " GF([1, 0, 0, 1, 0, 1, 1, 1, 0, 1, 0, 1, 0, 1, 1, 0], order=2),\n",
       " GF([1, 0, 0, 1, 1, 1, 0, 0, 0, 0, 0, 1, 1, 0, 1, 1], order=2),\n",
       " GF([1, 0, 1, 0, 0, 1, 1, 1, 0, 0, 1, 0, 0, 1, 1, 1], order=2),\n",
       " GF([1, 0, 1, 0, 1, 1, 0, 0, 0, 1, 1, 0, 1, 0, 1, 0], order=2),\n",
       " GF([1, 0, 1, 1, 0, 1, 0, 1, 1, 0, 1, 1, 0, 1, 1, 1], order=2),\n",
       " GF([1, 0, 1, 1, 1, 1, 1, 0, 1, 1, 1, 1, 1, 0, 1, 0], order=2),\n",
       " GF([1, 1, 0, 0, 0, 1, 0, 0, 1, 1, 0, 0, 0, 0, 1, 1], order=2),\n",
       " GF([1, 1, 0, 0, 1, 1, 1, 1, 1, 0, 0, 0, 1, 1, 1, 0], order=2),\n",
       " GF([1, 1, 0, 1, 0, 1, 1, 0, 0, 1, 0, 1, 0, 0, 1, 1], order=2),\n",
       " GF([1, 1, 0, 1, 1, 1, 0, 1, 0, 0, 0, 1, 1, 1, 1, 0], order=2),\n",
       " GF([1, 1, 1, 0, 0, 1, 1, 0, 0, 0, 1, 0, 0, 0, 1, 0], order=2),\n",
       " GF([1, 1, 1, 0, 1, 1, 0, 1, 0, 1, 1, 0, 1, 1, 1, 1], order=2),\n",
       " GF([1, 1, 1, 1, 0, 1, 0, 0, 1, 0, 1, 1, 0, 0, 1, 0], order=2),\n",
       " GF([1, 1, 1, 1, 1, 1, 1, 1, 1, 1, 1, 1, 1, 1, 1, 1], order=2)]"
      ]
     },
     "execution_count": 58,
     "metadata": {},
     "output_type": "execute_result"
    }
   ],
   "source": [
    "H_aug = GF([\n",
    "    # [1, 1, 0, 0, 0, 0, 0, 0, 0, 0, 1, 0, 0, 0, 0, 1],\n",
    "    [0, 0, 1, 1, 0, 0, 1, 0, 0, 0, 0, 0, 1, 0, 0, 0],\n",
    "    [0, 0, 0, 0, 0, 1, 0, 1, 0, 0, 0, 0, 0, 1, 1, 0],\n",
    "    [0, 0, 0, 0, 0, 0, 1, 0, 0, 1, 0, 1, 0, 0, 1, 0],\n",
    "    [0, 0, 1, 0, 1, 1, 0, 0, 0, 1, 0, 0, 0, 0, 0, 0],\n",
    "    [1, 0, 0, 0, 1, 0, 0, 0, 0, 1, 1, 0, 0, 0, 0, 0],\n",
    "    [1, 1, 0, 0, 0, 0, 0, 1, 0, 0, 0, 0, 1, 0, 0, 0],\n",
    "    [0, 0, 0, 0, 0, 0, 0, 0, 1, 0, 1, 1, 0, 0, 1, 0],\n",
    "    [0, 0, 1, 1, 1, 0, 1, 0, 0, 0, 0, 0, 0, 0, 0, 0],\n",
    "    [0, 0, 0, 1, 0, 0, 0, 0, 1, 0, 0, 0, 0, 1, 0, 1],\n",
    "    [0, 0, 0, 0, 0, 0, 0, 0, 1, 0, 0, 1, 0, 1, 0, 1],\n",
    "    [0, 1, 0, 0, 0, 1, 0, 1, 0, 0, 0, 0, 1, 0, 0, 0]])\n",
    "# H2 = G\n",
    "\n",
    "C_aug = []\n",
    "for i in range(2**n):\n",
    "    w = GF([int(j) for j in bin(i)[2:].zfill(n)])\n",
    "    if (np.any(H_aug@w)):\n",
    "        continue\n",
    "    else:\n",
    "        C_aug.append(w)\n",
    "\n",
    "print(len(C_aug))\n",
    "C_aug"
   ]
  },
  {
   "cell_type": "code",
   "execution_count": 60,
   "metadata": {},
   "outputs": [
    {
     "name": "stdout",
     "output_type": "stream",
     "text": [
      "0\n",
      "7\n",
      "4\n",
      "9\n",
      "6\n",
      "7\n",
      "6\n",
      "9\n",
      "4\n",
      "5\n",
      "8\n",
      "7\n",
      "8\n",
      "7\n",
      "8\n",
      "9\n",
      "7\n",
      "8\n",
      "9\n",
      "8\n",
      "9\n",
      "8\n",
      "11\n",
      "12\n",
      "7\n",
      "10\n",
      "9\n",
      "10\n",
      "7\n",
      "12\n",
      "9\n",
      "16\n"
     ]
    }
   ],
   "source": [
    "for r in C_aug:\n",
    "    print(np.count_nonzero(r))"
   ]
  },
  {
   "cell_type": "code",
   "execution_count": 20,
   "metadata": {},
   "outputs": [
    {
     "name": "stdout",
     "output_type": "stream",
     "text": [
      "32\n"
     ]
    },
    {
     "data": {
      "text/plain": [
       "[GF([0, 0, 0, 0, 0, 0, 0], order=2),\n",
       " GF([1, 0, 0, 0, 0, 0, 0], order=2),\n",
       " GF([0, 0, 0, 1, 1, 1, 1], order=2),\n",
       " GF([1, 0, 0, 1, 1, 1, 1], order=2),\n",
       " GF([0, 0, 1, 0, 1, 1, 0], order=2),\n",
       " GF([1, 0, 1, 0, 1, 1, 0], order=2),\n",
       " GF([0, 0, 1, 1, 0, 0, 1], order=2),\n",
       " GF([1, 0, 1, 1, 0, 0, 1], order=2),\n",
       " GF([0, 1, 0, 0, 1, 0, 1], order=2),\n",
       " GF([1, 1, 0, 0, 1, 0, 1], order=2),\n",
       " GF([0, 1, 0, 1, 0, 1, 0], order=2),\n",
       " GF([1, 1, 0, 1, 0, 1, 0], order=2),\n",
       " GF([0, 1, 1, 0, 0, 1, 1], order=2),\n",
       " GF([1, 1, 1, 0, 0, 1, 1], order=2),\n",
       " GF([0, 1, 1, 1, 1, 0, 0], order=2),\n",
       " GF([1, 1, 1, 1, 1, 0, 0], order=2),\n",
       " GF([1, 0, 0, 0, 0, 1, 1], order=2),\n",
       " GF([0, 0, 0, 0, 0, 1, 1], order=2),\n",
       " GF([1, 0, 0, 1, 1, 0, 0], order=2),\n",
       " GF([0, 0, 0, 1, 1, 0, 0], order=2),\n",
       " GF([1, 0, 1, 0, 1, 0, 1], order=2),\n",
       " GF([0, 0, 1, 0, 1, 0, 1], order=2),\n",
       " GF([1, 0, 1, 1, 0, 1, 0], order=2),\n",
       " GF([0, 0, 1, 1, 0, 1, 0], order=2),\n",
       " GF([1, 1, 0, 0, 1, 1, 0], order=2),\n",
       " GF([0, 1, 0, 0, 1, 1, 0], order=2),\n",
       " GF([1, 1, 0, 1, 0, 0, 1], order=2),\n",
       " GF([0, 1, 0, 1, 0, 0, 1], order=2),\n",
       " GF([1, 1, 1, 0, 0, 0, 0], order=2),\n",
       " GF([0, 1, 1, 0, 0, 0, 0], order=2),\n",
       " GF([1, 1, 1, 1, 1, 1, 1], order=2),\n",
       " GF([0, 1, 1, 1, 1, 1, 1], order=2)]"
      ]
     },
     "execution_count": 20,
     "metadata": {},
     "output_type": "execute_result"
    }
   ],
   "source": [
    "G_aug = GF([\n",
    "    [1,0,0,0,0,1,1],\n",
    "    [0,1,0,0,1,0,1],\n",
    "    [0,0,1,0,1,1,0],\n",
    "    [0,0,0,1,1,1,1],\n",
    "    [1,0,0,0,0,0,0]\n",
    "])\n",
    "\n",
    "n = G_aug.shape[1]\n",
    "k = G_aug.shape[0]\n",
    "\n",
    "C_aug2 = []\n",
    "for i in range(2**k):\n",
    "    m = GF([int(j) for j in bin(i)[2:].zfill(k)])\n",
    "    C_aug2.append(m @ G_aug)\n",
    "\n",
    "print(len(C_aug))\n",
    "C_aug2"
   ]
  },
  {
   "cell_type": "code",
   "execution_count": null,
   "metadata": {},
   "outputs": [],
   "source": []
  }
 ],
 "metadata": {
  "interpreter": {
   "hash": "0ec6a07b5680b7cd4331b54bc02dbe3823b9a431e7975ff6d8e95dcfb04b0c38"
  },
  "kernelspec": {
   "display_name": "Python 3.8.12 ('qc')",
   "language": "python",
   "name": "python3"
  },
  "language_info": {
   "codemirror_mode": {
    "name": "ipython",
    "version": 3
   },
   "file_extension": ".py",
   "mimetype": "text/x-python",
   "name": "python",
   "nbconvert_exporter": "python",
   "pygments_lexer": "ipython3",
   "version": "3.8.12"
  },
  "orig_nbformat": 4
 },
 "nbformat": 4,
 "nbformat_minor": 2
}
