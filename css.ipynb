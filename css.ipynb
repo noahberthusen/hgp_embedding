{
 "cells": [
  {
   "cell_type": "code",
   "execution_count": 2,
   "metadata": {},
   "outputs": [],
   "source": [
    "import numpy as np\n",
    "import galois\n",
    "GF = galois.GF(2)"
   ]
  },
  {
   "cell_type": "code",
   "execution_count": 116,
   "metadata": {},
   "outputs": [],
   "source": [
    "G = GF([\n",
    "    [1,0,0,0,0,1,1],\n",
    "    [0,1,0,0,1,0,1],\n",
    "    [0,0,1,0,1,1,0],\n",
    "    [0,0,0,1,1,1,1]\n",
    "])\n",
    "n = G.shape[1]\n",
    "k = G.shape[0]"
   ]
  },
  {
   "cell_type": "code",
   "execution_count": 120,
   "metadata": {},
   "outputs": [],
   "source": [
    "C = []\n",
    "for i in range(2**k):\n",
    "    m = GF([int(j) for j in bin(i)[2:].zfill(k)])\n",
    "    C.append(m @ G)\n",
    "C_int = []"
   ]
  },
  {
   "cell_type": "code",
   "execution_count": 121,
   "metadata": {},
   "outputs": [
    {
     "data": {
      "text/plain": [
       "[GF([0, 0, 0, 0, 0, 0, 0], order=2),\n",
       " GF([0, 0, 0, 1, 1, 1, 1], order=2),\n",
       " GF([0, 0, 1, 0, 1, 1, 0], order=2),\n",
       " GF([0, 0, 1, 1, 0, 0, 1], order=2),\n",
       " GF([0, 1, 0, 0, 1, 0, 1], order=2),\n",
       " GF([0, 1, 0, 1, 0, 1, 0], order=2),\n",
       " GF([0, 1, 1, 0, 0, 1, 1], order=2),\n",
       " GF([0, 1, 1, 1, 1, 0, 0], order=2),\n",
       " GF([1, 0, 0, 0, 0, 1, 1], order=2),\n",
       " GF([1, 0, 0, 1, 1, 0, 0], order=2),\n",
       " GF([1, 0, 1, 0, 1, 0, 1], order=2),\n",
       " GF([1, 0, 1, 1, 0, 1, 0], order=2),\n",
       " GF([1, 1, 0, 0, 1, 1, 0], order=2),\n",
       " GF([1, 1, 0, 1, 0, 0, 1], order=2),\n",
       " GF([1, 1, 1, 0, 0, 0, 0], order=2),\n",
       " GF([1, 1, 1, 1, 1, 1, 1], order=2)]"
      ]
     },
     "execution_count": 121,
     "metadata": {},
     "output_type": "execute_result"
    }
   ],
   "source": [
    "C # 16 codewords, distance 3, [7, 4, 3] code"
   ]
  },
  {
   "cell_type": "code",
   "execution_count": 122,
   "metadata": {},
   "outputs": [],
   "source": [
    "C_dual = []\n",
    "F2n = []\n",
    "for i in range(2**n):\n",
    "    w = GF([int(j) for j in bin(i)[2:].zfill(n)])\n",
    "    F2n.append(w)\n",
    "    valid = True\n",
    "    for c in C:\n",
    "        if (np.dot(c, w) != 0):\n",
    "            valid = False\n",
    "    if valid: C_dual.append(w)"
   ]
  },
  {
   "cell_type": "code",
   "execution_count": 123,
   "metadata": {},
   "outputs": [
    {
     "data": {
      "text/plain": [
       "[GF([0, 0, 0, 0, 0, 0, 0], order=2),\n",
       " GF([0, 0, 0, 1, 1, 1, 1], order=2),\n",
       " GF([0, 1, 1, 0, 0, 1, 1], order=2),\n",
       " GF([0, 1, 1, 1, 1, 0, 0], order=2),\n",
       " GF([1, 0, 1, 0, 1, 0, 1], order=2),\n",
       " GF([1, 0, 1, 1, 0, 1, 0], order=2),\n",
       " GF([1, 1, 0, 0, 1, 1, 0], order=2),\n",
       " GF([1, 1, 0, 1, 0, 0, 1], order=2)]"
      ]
     },
     "execution_count": 123,
     "metadata": {},
     "output_type": "execute_result"
    }
   ],
   "source": [
    "C_dual # 8 codewords, distance 4, [7, 3, 4] code. This will be C2"
   ]
  },
  {
   "cell_type": "code",
   "execution_count": 104,
   "metadata": {},
   "outputs": [],
   "source": [
    "F2_mod_C_dual = []\n",
    "F2n_copy = [i for i, _ in enumerate(F2n)]\n",
    "\n",
    "while len(F2n_copy):\n",
    "    ind = np.random.randint(len(F2n_copy), size=1)\n",
    "    c = F2n_copy[ind[0]]\n",
    "    c = GF([int(j) for j in bin(c)[2:].zfill(n)])\n",
    "    coset = []\n",
    "    for w in C_dual:\n",
    "        v = c + w\n",
    "        v_int = sum([int(j)*2**i for i, j in enumerate(v[::-1])])\n",
    "        if (v_int in F2n_copy):\n",
    "            F2n_copy.remove(v_int)\n",
    "        coset.append(v)\n",
    "    F2_mod_C_dual.append(coset)"
   ]
  },
  {
   "cell_type": "code",
   "execution_count": 117,
   "metadata": {},
   "outputs": [],
   "source": [
    "H1 = GF(np.array([\n",
    "    [0,0,0,1,1,1,1],\n",
    "    [0,1,1,0,0,1,1],\n",
    "    [1,0,1,0,1,0,1]\n",
    "]))\n",
    "H2 = G"
   ]
  },
  {
   "cell_type": "code",
   "execution_count": 126,
   "metadata": {},
   "outputs": [
    {
     "data": {
      "text/plain": [
       "GF([[0, 0, 0],\n",
       "    [0, 0, 0],\n",
       "    [0, 0, 0]], order=2)"
      ]
     },
     "execution_count": 126,
     "metadata": {},
     "output_type": "execute_result"
    }
   ],
   "source": [
    "H1@H1.T"
   ]
  },
  {
   "cell_type": "code",
   "execution_count": null,
   "metadata": {},
   "outputs": [],
   "source": []
  }
 ],
 "metadata": {
  "interpreter": {
   "hash": "36076d0e02b8d1858d0bd5b32bffaa710811761ccb670f476492e9c2dea26ac0"
  },
  "kernelspec": {
   "display_name": "Python 3.7.10 ('qc')",
   "language": "python",
   "name": "python3"
  },
  "language_info": {
   "codemirror_mode": {
    "name": "ipython",
    "version": 3
   },
   "file_extension": ".py",
   "mimetype": "text/x-python",
   "name": "python",
   "nbconvert_exporter": "python",
   "pygments_lexer": "ipython3",
   "version": "3.8.12"
  },
  "orig_nbformat": 4
 },
 "nbformat": 4,
 "nbformat_minor": 2
}
