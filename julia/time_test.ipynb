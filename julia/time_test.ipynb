{
 "cells": [
  {
   "cell_type": "code",
   "execution_count": 173,
   "metadata": {},
   "outputs": [],
   "source": [
    "include(\"quantum_code.jl\")\n",
    "include(\"decoder.jl\")\n",
    "using BenchmarkTools"
   ]
  },
  {
   "cell_type": "code",
   "execution_count": 22,
   "metadata": {},
   "outputs": [
    {
     "data": {
      "text/plain": [
       "ClassicalCode(16, 12, 3, 4, Integer[6 8 11; 1 8 12; … ; 4 7 9; 2 4 5], Integer[2 8 9 13; 5 6 8 16; … ; 1 9 10 11; 2 5 7 11])"
      ]
     },
     "metadata": {},
     "output_type": "display_data"
    }
   ],
   "source": [
    "ccode = read_code(\"ccodes/16_12_3_4.txt\")"
   ]
  },
  {
   "cell_type": "code",
   "execution_count": 80,
   "metadata": {},
   "outputs": [
    {
     "name": "stdout",
     "output_type": "stream",
     "text": [
      "  0.000070 seconds (426 allocations: 13.406 KiB)\n"
     ]
    },
    {
     "data": {
      "text/plain": [
       "16×12 BitMatrix:\n",
       " 0  1  0  1  0  0  0  1  1  1  0  1\n",
       " 1  0  0  0  1  0  0  1  1  0  1  1\n",
       " 0  0  0  1  1  0  1  0  1  0  0  1\n",
       " 1  0  1  0  0  1  0  1  1  0  0  1\n",
       " 1  0  0  1  0  0  1  0  0  0  0  1\n",
       " 0  1  0  0  1  0  0  0  0  0  0  0\n",
       " 1  1  0  0  1  1  1  1  1  1  1  1\n",
       " 0  1  0  1  0  0  0  0  0  0  0  0\n",
       " 1  0  1  0  0  1  0  0  0  1  0  0\n",
       " 0  0  1  1  1  1  0  0  0  1  0  0\n",
       " 1  1  1  1  0  1  0  0  1  0  1  0\n",
       " 1  0  1  0  0  0  0  0  0  0  0  0\n",
       " 1  1  0  0  1  1  0  0  0  0  0  0\n",
       " 1  0  1  1  0  0  0  0  0  1  0  0\n",
       " 0  1  0  0  1  1  0  0  0  0  0  0\n",
       " 1  1  1  1  1  1  0  0  0  0  0  0"
      ]
     },
     "metadata": {},
     "output_type": "display_data"
    }
   ],
   "source": [
    "error = random_error(ccode, 0.5)\n",
    "@time compute_synd_matrix(ccode, error)"
   ]
  },
  {
   "cell_type": "code",
   "execution_count": 88,
   "metadata": {},
   "outputs": [
    {
     "data": {
      "text/plain": [
       "4-element Vector{Vector{Bool}}:\n",
       " [0, 0, 0]\n",
       " [0, 0, 1]\n",
       " [0, 0, 1]\n",
       " [1, 0, 1]"
      ]
     },
     "metadata": {},
     "output_type": "display_data"
    }
   ],
   "source": [
    "synd = compute_synd_matrix(ccode, error)\n",
    "table = LookupTable(ccode, synd, 0, [], [], 0)\n",
    "synd_gen = [\n",
    "    [false, false, false],\n",
    "    [false, false, true],\n",
    "    [false, false, true],\n",
    "    [true, false, true]\n",
    "]"
   ]
  },
  {
   "cell_type": "code",
   "execution_count": 143,
   "metadata": {},
   "outputs": [
    {
     "data": {
      "text/plain": [
       "4×3 BitMatrix:\n",
       " 0  0  1\n",
       " 0  0  1\n",
       " 1  1  1\n",
       " 0  0  0"
      ]
     },
     "metadata": {},
     "output_type": "display_data"
    }
   ],
   "source": [
    "gen = (6,3)\n",
    "c1, v2 = gen\n",
    "ver = table.ccode.check_nbhd[c1, :]\n",
    "hor = table.ccode.bit_nbhd[v2, :]\n",
    "synd_gen = falses(table.ccode.dc, table.ccode.dv)\n",
    "\n",
    "for i = 1:table.ccode.dc\n",
    "    for j = 1:table.ccode.dv\n",
    "        if (table.synd_matrix[ver[i], hor[j]])\n",
    "            synd_gen[i, j] = true\n",
    "        end\n",
    "    end\n",
    "end\n",
    "\n",
    "synd_gen"
   ]
  },
  {
   "cell_type": "code",
   "execution_count": 184,
   "metadata": {},
   "outputs": [
    {
     "data": {
      "text/plain": [
       "update (generic function with 1 method)"
      ]
     },
     "metadata": {},
     "output_type": "display_data"
    }
   ],
   "source": [
    "include(\"decoder.jl\")\n"
   ]
  },
  {
   "cell_type": "code",
   "execution_count": 185,
   "metadata": {},
   "outputs": [
    {
     "name": "stdout",
     "output_type": "stream",
     "text": [
      "  13.400 μs (186 allocations: 7.41 KiB)\n"
     ]
    },
    {
     "data": {
      "text/plain": [
       "(3, 1, ([3], Any[]))"
      ]
     },
     "metadata": {},
     "output_type": "display_data"
    }
   ],
   "source": [
    "@btime score_gen(table, synd_gen)"
   ]
  },
  {
   "cell_type": "code",
   "execution_count": 158,
   "metadata": {},
   "outputs": [],
   "source": []
  },
  {
   "cell_type": "code",
   "execution_count": null,
   "metadata": {},
   "outputs": [],
   "source": []
  }
 ],
 "metadata": {
  "kernelspec": {
   "display_name": "Julia 1.6.2",
   "language": "julia",
   "name": "julia-1.6"
  },
  "language_info": {
   "file_extension": ".jl",
   "mimetype": "application/julia",
   "name": "julia",
   "version": "1.6.2"
  },
  "orig_nbformat": 4
 },
 "nbformat": 4,
 "nbformat_minor": 2
}
