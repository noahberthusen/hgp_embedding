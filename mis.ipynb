{
 "cells": [
  {
   "cell_type": "code",
   "execution_count": 1,
   "metadata": {},
   "outputs": [],
   "source": [
    "import numpy as np\n",
    "import networkx as nx\n",
    "import matplotlib.pyplot as plt\n",
    "import math\n",
    "import scipy as sp\n",
    "from mec import make_circle\n",
    "import itertools\n",
    "from networkx.algorithms.approximation import maximum_independent_set\n",
    "%matplotlib inline"
   ]
  },
  {
   "cell_type": "code",
   "execution_count": 2,
   "metadata": {},
   "outputs": [],
   "source": [
    "# configuration model\n",
    "# https://en.wikipedia.org/wiki/Configuration_model\n",
    "\n",
    "n = 16\n",
    "deg_c = 4 # w_r. Every check has this many bits in it\n",
    "deg_v = 3 # w_c. Every bit is in this many checks\n",
    "num_checks = (n*deg_v)//deg_c\n",
    "k = n - num_checks\n",
    "\n",
    "vs = np.array([[j for i in range(deg_v)] for j in range(n)]).flatten()\n",
    "cs = np.array([[j for i in range(deg_c)] for j in range(num_checks)]).flatten()\n",
    "\n",
    "H = np.zeros((num_checks, n), np.int64)\n",
    "\n",
    "while (vs.size and cs.size):\n",
    "    # choose random 'stub' from each array\n",
    "    double_edge = True\n",
    "    while(double_edge):\n",
    "        v_ind = np.random.randint(0, len(vs))\n",
    "        c_ind = np.random.randint(0, len(cs))\n",
    "\n",
    "        if (H[cs[c_ind]][vs[v_ind]] != 1):\n",
    "            double_edge = False\n",
    "            H[cs[c_ind]][vs[v_ind]] = 1\n",
    "            vs = np.delete(vs, v_ind)\n",
    "            cs =np.delete(cs, c_ind)"
   ]
  },
  {
   "cell_type": "code",
   "execution_count": 3,
   "metadata": {},
   "outputs": [],
   "source": [
    "def disjoint_stabilizers(s1, s2):\n",
    "    if (np.count_nonzero(np.logical_xor(s1, s2)) == np.count_nonzero(s1) + np.count_nonzero(s2)):\n",
    "        return True\n",
    "    else:\n",
    "        return False"
   ]
  },
  {
   "cell_type": "code",
   "execution_count": 4,
   "metadata": {},
   "outputs": [],
   "source": [
    "hx1 = np.kron(H, np.eye(len(H[0])))\n",
    "hx2 = np.kron(np.eye(len(H)), H.T)\n",
    "Hx = np.hstack([hx1, hx2])\n",
    "\n",
    "hz1 = np.kron(np.eye(len(H[0])), H)\n",
    "hz2 = np.kron(H.T, np.eye(len(H)))\n",
    "Hz = np.hstack([hz1, hz2])"
   ]
  },
  {
   "cell_type": "code",
   "execution_count": 47,
   "metadata": {},
   "outputs": [
    {
     "name": "stdout",
     "output_type": "stream",
     "text": [
      "36 [0, 1, 3, 134, 138, 142, 18, 20, 150, 23, 154, 158, 32, 33, 35, 171, 172, 173, 176, 177, 179, 53, 56, 57, 66, 68, 71, 85, 88, 89, 102, 106, 110, 123, 124, 125]\n"
     ]
    }
   ],
   "source": [
    "H = np.vstack([Hx, Hz]) # use both X and Z generators\n",
    "G = nx.Graph()\n",
    "G.add_nodes_from(np.arange(len(H)))\n",
    "for i in range(len(H)):\n",
    "    for j in range(len(H)):\n",
    "        if (not disjoint_stabilizers(H[i], H[j])) and i != j:\n",
    "            G.add_edge(i, j)\n",
    "mis = list(maximum_independent_set(G))\n",
    "print(len(mis), mis)"
   ]
  },
  {
   "cell_type": "code",
   "execution_count": 53,
   "metadata": {},
   "outputs": [],
   "source": [
    "G.remove_nodes_from(mis)"
   ]
  },
  {
   "cell_type": "code",
   "execution_count": null,
   "metadata": {},
   "outputs": [],
   "source": [
    "for n in mis:\n",
    "    for i in G:\n",
    "        for j in G:\n",
    "            "
   ]
  },
  {
   "cell_type": "code",
   "execution_count": null,
   "metadata": {},
   "outputs": [],
   "source": [
    "G = nx.Graph()\n",
    "G.add_nodes_from(np.arange(len(H))) # number of generators\n",
    "for i in range(len(H)):\n",
    "    for j in range(len(H)):\n",
    "        if (not disjoint_stabilizers(H[i], H[j])) and i != j:\n",
    "            G.add_edge(i, j)"
   ]
  },
  {
   "cell_type": "code",
   "execution_count": 28,
   "metadata": {},
   "outputs": [
    {
     "name": "stdout",
     "output_type": "stream",
     "text": [
      "36 [0, 1, 3, 134, 138, 142, 18, 20, 150, 23, 154, 158, 32, 33, 35, 171, 172, 173, 176, 177, 179, 53, 56, 57, 66, 68, 71, 85, 88, 89, 102, 106, 110, 123, 124, 125]\n"
     ]
    }
   ],
   "source": [
    "mis2 = list(maximum_independent_set(G))\n",
    "print(len(mis), mis)"
   ]
  },
  {
   "cell_type": "code",
   "execution_count": 37,
   "metadata": {},
   "outputs": [
    {
     "name": "stdout",
     "output_type": "stream",
     "text": [
      "(array([  0,  96, 112, 208, 256, 259, 264], dtype=int64),)\n",
      "(array([  8, 104, 120, 216, 257, 264, 267], dtype=int64),)\n"
     ]
    }
   ],
   "source": [
    "print(np.where(H[0]))\n",
    "print(np.where(H[8]))"
   ]
  },
  {
   "cell_type": "code",
   "execution_count": 38,
   "metadata": {},
   "outputs": [
    {
     "data": {
      "text/plain": [
       "4816"
      ]
     },
     "execution_count": 38,
     "metadata": {},
     "output_type": "execute_result"
    }
   ],
   "source": [
    "len(G.edges())"
   ]
  },
  {
   "cell_type": "code",
   "execution_count": 39,
   "metadata": {},
   "outputs": [],
   "source": [
    "G.remove_nodes_from(mis)"
   ]
  },
  {
   "cell_type": "code",
   "execution_count": 48,
   "metadata": {},
   "outputs": [
    {
     "data": {
      "text/plain": [
       "AtlasView({1: {}, 3: {}, 5: {}, 6: {}, 11: {}, 14: {}, 15: {}, 18: {}, 50: {}, 82: {}, 130: {}, 146: {}, 162: {}, 196: {}, 198: {}, 202: {}, 268: {}, 270: {}, 274: {}, 280: {}, 282: {}, 286: {}, 352: {}, 354: {}, 358: {}})"
      ]
     },
     "execution_count": 48,
     "metadata": {},
     "output_type": "execute_result"
    }
   ],
   "source": [
    "G[2]"
   ]
  },
  {
   "cell_type": "code",
   "execution_count": null,
   "metadata": {},
   "outputs": [],
   "source": []
  }
 ],
 "metadata": {
  "interpreter": {
   "hash": "36076d0e02b8d1858d0bd5b32bffaa710811761ccb670f476492e9c2dea26ac0"
  },
  "kernelspec": {
   "display_name": "Python 3.7.10 ('qc')",
   "language": "python",
   "name": "python3"
  },
  "language_info": {
   "codemirror_mode": {
    "name": "ipython",
    "version": 3
   },
   "file_extension": ".py",
   "mimetype": "text/x-python",
   "name": "python",
   "nbconvert_exporter": "python",
   "pygments_lexer": "ipython3",
   "version": "3.8.12"
  },
  "orig_nbformat": 4
 },
 "nbformat": 4,
 "nbformat_minor": 2
}
