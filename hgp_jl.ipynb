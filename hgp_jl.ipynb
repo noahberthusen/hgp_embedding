{
 "cells": [
  {
   "cell_type": "code",
   "execution_count": 5,
   "metadata": {},
   "outputs": [],
   "source": [
    "using Random\n",
    "using DelimitedFiles\n",
    "using SparseArrays\n",
    "using LinearAlgebra"
   ]
  },
  {
   "cell_type": "code",
   "execution_count": 20,
   "metadata": {},
   "outputs": [],
   "source": [
    "n = 24\n",
    "deg_c = 4 # w_r. Every check has this many bits in it\n",
    "deg_v = 3 # w_c. Every bit is in this many checks\n",
    "num_checks = div(n*deg_v, deg_c)\n",
    "k = n - num_checks\n",
    "\n",
    "vs = vcat([[j for i in 1:deg_v] for j in 1:n]...)\n",
    "cs = vcat([[j for i in 1:deg_c] for j in 1:num_checks]...)\n",
    "\n",
    "H = zeros(Int8, num_checks, n)\n",
    "\n",
    "while(length(vs) > 0 && length(cs) > 0)\n",
    "    double_edge = true\n",
    "    \n",
    "    while(double_edge)\n",
    "        shuffle!(vs)\n",
    "        shuffle!(cs)\n",
    "\n",
    "        if (H[cs[1], vs[1]] != 1)\n",
    "            double_edge = false\n",
    "            H[cs[1], vs[1]] = 1\n",
    "            popfirst!(vs)\n",
    "            popfirst!(cs)\n",
    "        end\n",
    "    end\n",
    "end\n"
   ]
  },
  {
   "cell_type": "code",
   "execution_count": 21,
   "metadata": {},
   "outputs": [
    {
     "data": {
      "text/plain": [
       "432×900 SparseMatrixCSC{Int8, Int64} with 3024 stored entries:\n",
       "⠛⣧⣄⡀⠀⠀⠀⠀⠀⠀⠀⠀⠀⠀⠀⠀⠀⠀⠀⠀⠀⠀⠀⠀⠀⠀⣀⢤⠀⢀⢤⡻⣗⠀⠀⠀⠀⣙⠂⠀\n",
       "⠀⠀⠙⠷⣦⡄⠀⠀⠀⠀⠀⠀⠀⠀⠀⠀⠀⠀⠀⠀⠀⠀⠀⠀⠀⠐⠌⠣⣄⠸⠇⠀⠀⠀⣄⠀⠐⠎⣇⠀\n",
       "⠀⠀⠀⠀⠈⠙⢻⣦⣀⠀⠀⠀⠀⠀⠀⠀⠀⠀⠀⠀⠀⠀⠀⠀⠀⠘⠛⠒⢾⡄⠀⠑⠀⠀⣈⢧⢀⠀⣈⠀\n",
       "⠀⠀⠀⠀⠀⠀⠀⠈⠹⢷⣤⡀⠀⠀⠀⠀⠀⠀⠀⠀⠀⠀⠀⠀⠀⢀⠀⠀⢘⠆⢤⡀⢠⣤⡈⠙⠮⠁⠈⡳\n",
       "⠀⠀⠀⠀⠀⠀⠀⠀⠀⠀⠘⠻⢶⣀⠀⠀⠀⠀⠀⠀⠀⠀⠀⠀⠀⠸⠇⢦⡈⠃⠀⢀⡀⠀⠀⠦⢀⡀⠀⠙\n",
       "⠀⠀⠀⠀⠀⠀⠀⠀⠀⠀⠀⠀⠈⠙⠿⣤⣄⠀⠀⠀⠀⠀⠀⠀⠀⠀⠙⡎⠻⠆⠀⠀⠩⣤⡀⢄⠀⠁⠀⠀\n",
       "⠀⠀⠀⠀⠀⠀⠀⠀⠀⠀⠀⠀⠀⠀⠀⠀⠛⠷⣦⡄⠀⠀⠀⠀⠀⠀⠲⠝⠀⠀⠀⣄⠀⠈⠃⠀⠑⢤⡲⣦\n",
       "⠀⠀⠀⠀⠀⠀⠀⠀⠀⠀⠀⠀⠀⠀⠀⠀⠀⠀⠉⠛⣷⣄⡀⠀⠀⠀⠀⢦⠀⢘⠛⢊⡰⡄⠀⢰⣄⠀⠙⠈\n",
       "⠀⠀⠀⠀⠀⠀⠀⠀⠀⠀⠀⠀⠀⠀⠀⠀⠀⠀⠀⠀⠀⠉⠿⣦⡄⠀⠀⠀⠀⠈⠁⣄⢩⡀⠳⣄⠙⠷⠄⠀\n",
       "⠀⠀⠀⠀⠀⠀⠀⠀⠀⠀⠀⠀⠀⠀⠀⠀⠀⠀⠀⠀⠀⠀⠀⠀⠘⠋⠀⠀⠀⠀⠙⠂⠀⠙⠛⠂⠀⠀⠀⠀"
      ]
     },
     "metadata": {},
     "output_type": "display_data"
    }
   ],
   "source": [
    "hx1 = kron(H, Matrix{Int8}(I, size(H)[2], size(H)[2]));\n",
    "hx2 = kron(Matrix{Int8}(I, size(H)[1], size(H)[1]), transpose(H))\n",
    "Hx = sparse(hcat(hx1, hx2))\n",
    "\n",
    "hz1 = kron(Matrix{Int8}(I, size(H)[2], size(H)[2]), H)\n",
    "hz2 = kron(transpose(H), Matrix{Int8}(I, size(H)[1], size(H)[1]))\n",
    "Hz = sparse(hcat(hz1, hz2))"
   ]
  },
  {
   "cell_type": "code",
   "execution_count": 92,
   "metadata": {},
   "outputs": [],
   "source": [
    "function powerset(x::Vector{T}) where T\n",
    "    result = Vector{T}[[]]\n",
    "    for elem in x, j in eachindex(result)\n",
    "        push!(result, [result[j] ; elem])\n",
    "    end\n",
    "    return result\n",
    "end\n",
    "\n",
    "function syn_from_F(F, H)\n",
    "    result = Set()\n",
    "    for i in 1:size(Hx)[1]\n",
    "        row = Set(H[i, :].nzind)\n",
    "        if length(intersect(row, F)) > 0\n",
    "            push!(result, i)\n",
    "        end\n",
    "    end\n",
    "    return result\n",
    "end\n",
    "\n",
    "function syn_from_F2(F, H)\n",
    "    z = zeros(Int8, size(H)[2])\n",
    "    z[collect(F)] = ones(length(F))\n",
    "    # e = findnz(sparse((H * z) % 2))\n",
    "    # (H * z) % 2\n",
    "    return Set()\n",
    "end\n",
    "\n",
    "Fx = vcat([powerset(findnz(sparse(Hx)[i, :])[1])[2:end] for i in 1:size(Hx)[1]]...);\n",
    "Fx = map(x -> Set(x), Fx)\n",
    "Fz = vcat([powerset(findnz(sparse(Hz)[i, :])[1])[2:end] for i in 1:size(Hz)[1]]...);\n",
    "Fz = map(x -> Set(x), Fz)\n",
    "\n",
    "# sigma_Fx = [syn_from_F(x, Hx) for x in Fx]  # set of indices where syndrome is 1\n",
    "# sigma_Fz = [syn_from_F(g, Hz) for g in Fz];"
   ]
  },
  {
   "cell_type": "code",
   "execution_count": 136,
   "metadata": {},
   "outputs": [
    {
     "data": {
      "text/plain": [
       "Set{Int64} with 1 element:\n",
       "  17"
      ]
     },
     "metadata": {},
     "output_type": "display_data"
    }
   ],
   "source": [
    "intersect(Set(findnz(sparse(Hx)[1, :])[1]), Set(Fx[1]))"
   ]
  },
  {
   "cell_type": "code",
   "execution_count": 93,
   "metadata": {},
   "outputs": [
    {
     "name": "stdout",
     "output_type": "stream",
     "text": [
      "  0.042854 seconds (12.23 k allocations: 631.097 KiB, 99.88% compilation time)\n"
     ]
    },
    {
     "data": {
      "text/plain": [
       "Set{Any}()"
      ]
     },
     "metadata": {},
     "output_type": "display_data"
    }
   ],
   "source": [
    "@time syn_from_F2(Fx[1], Hx)"
   ]
  },
  {
   "cell_type": "code",
   "execution_count": 86,
   "metadata": {},
   "outputs": [
    {
     "name": "stdout",
     "output_type": "stream",
     "text": [
      "  0.036559 seconds (20.83 k allocations: 1.315 MiB, 92.15% compilation time)\n"
     ]
    },
    {
     "data": {
      "text/plain": [
       "Set{Any} with 3 elements:\n",
       "  121\n",
       "  337\n",
       "  1"
      ]
     },
     "metadata": {},
     "output_type": "display_data"
    }
   ],
   "source": [
    "@time syn_from_F(Fx[1], Hx)"
   ]
  },
  {
   "cell_type": "code",
   "execution_count": 74,
   "metadata": {},
   "outputs": [
    {
     "data": {
      "text/plain": [
       "Set{Int64} with 1 element:\n",
       "  73"
      ]
     },
     "metadata": {},
     "output_type": "display_data"
    }
   ],
   "source": [
    "Fx[1]"
   ]
  },
  {
   "cell_type": "code",
   "execution_count": 68,
   "metadata": {},
   "outputs": [
    {
     "data": {
      "text/plain": [
       "1-element Vector{Float64}:\n",
       " 1.0"
      ]
     },
     "metadata": {},
     "output_type": "display_data"
    }
   ],
   "source": [
    "z = zeros(Int8, size(Hx)[2])\n",
    "z[collect(Fx[1])] = ones(length(Fx[1]))"
   ]
  },
  {
   "cell_type": "code",
   "execution_count": 71,
   "metadata": {},
   "outputs": [
    {
     "data": {
      "text/plain": [
       "([73], Int8[1])"
      ]
     },
     "metadata": {},
     "output_type": "display_data"
    }
   ],
   "source": [
    "findnz(sparse(z))"
   ]
  },
  {
   "cell_type": "code",
   "execution_count": 66,
   "metadata": {},
   "outputs": [
    {
     "name": "stdout",
     "output_type": "stream",
     "text": [
      "[1, 0, 0, 0, 0, 1, 0, 0, 0, 0, 0, 0, 0, 0, 0, 0, 0, 1, 0, 0, 0, 0, 1, 0, 1, 0, 0, 0, 0, 0, 0, 0, 0, 0, 0, 0, 0, 0, 0, 0, 0, 0, 0, 0, 0, 0, 0, 0, 0, 0, 0, 0, 0, 0, 0, 0, 0, 0, 0, 0, 0, 0, 0, 0, 0, 0, 0, 0, 0, 0, 0, 0, 0, 0, 0, 0, 0, 0, 0, 0, 0, 0, 0, 0, 0, 0, 0, 0, 0, 0, 0, 0, 0, 0, 0, 0, 1, 0, 0, 0, 0, 0, 0, 0, 0, 0, 0, 0, 0, 0, 0, 0, 0, 0, 0, 0, 0, 0, 0, 0, 0, 0, 0, 0, 0, 0, 0, 0, 0, 0, 0, 0, 0, 0, 0, 0, 0, 0, 0, 0, 0, 0, 0, 0, 0, 0, 0, 0, 0, 0, 0, 0, 0, 0, 0, 0, 0, 0, 0, 0, 0, 0, 0, 0, 0, 0, 0, 0, 1, 0, 0, 0, 0, 0, 0, 0, 0, 0, 0, 0, 0, 0, 0, 0, 0, 0, 0, 0, 0, 0, 0, 0, 0, 0, 0, 0, 0, 0, 0, 0, 0, 0, 0, 0, 0, 0, 0, 0, 0, 0, 0, 0, 0, 0, 0, 0, 0, 0, 0, 0, 0, 0, 0, 0, 0, 0, 0"
     ]
    },
    {
     "name": "stdout",
     "output_type": "stream",
     "text": [
      ", 0, 0, 0, 0, 0, 0, 0, 0, 0, 0, 0, 0, 0, 0, 0, 0, 0, 0, 0, 0, 0, 0, 0, 0, 0, 0, 0, 0, 0, 0, 0, 0, 0, 0, 0, 0, 0, 0, 0, 0, 0, 0, 0, 0, 0, 0, 0, 0, 0, 0, 0, 0, 0, 0, 0, 0, 0, 0, 0, 0, 0, 0, 0, 0, 0, 0, 0, 0, 0, 0, 0, 0, 0, 0, 0, 0, 0, 0, 0, 0, 0, 0, 0, 0, 0, 0, 0, 0, 0, 0, 0, 0, 0, 0, 0, 0, 0, 0, 0, 0, 0, 0, 0, 0, 0, 0, 0, 0, 0, 0, 0, 0, 0, 0, 0, 0, 0, 0, 0, 0, 0, 0, 0, 0, 0, 0, 0, 0, 0, 0, 0, 0, 0, 0, 0, 0, 0, 0, 0, 0, 0, 0, 0, 0, 0, 0, 0, 0, 0, 0, 0, 0, 0, 0, 0, 0, 0, 0, 0, 0, 0, 0, 0, 0, 0, 0, 0, 0, 0, 0, 0, 0, 0, 0, 0, 0, 0, 0, 0, 0, 0, 1, 0, 0, 0, 0, 0, 0, 0, 0, 0, 0, 0, 0, 0, 0, 0, 0, 0, 0, 0, 0, 0, 0, 0]"
     ]
    }
   ],
   "source": [
    "print((Hx * z) .% 2)"
   ]
  },
  {
   "cell_type": "code",
   "execution_count": null,
   "metadata": {},
   "outputs": [],
   "source": []
  }
 ],
 "metadata": {
  "kernelspec": {
   "display_name": "Julia 1.6.2",
   "language": "julia",
   "name": "julia-1.6"
  },
  "language_info": {
   "file_extension": ".jl",
   "mimetype": "application/julia",
   "name": "julia",
   "version": "1.6.2"
  },
  "orig_nbformat": 4
 },
 "nbformat": 4,
 "nbformat_minor": 2
}
