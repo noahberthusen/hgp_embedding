{
 "cells": [
  {
   "cell_type": "code",
   "execution_count": 83,
   "metadata": {},
   "outputs": [],
   "source": [
    "import numpy as np\n",
    "import galois\n",
    "import itertools\n",
    "from scipy import sparse\n",
    "GF = galois.GF(2)"
   ]
  },
  {
   "cell_type": "code",
   "execution_count": 84,
   "metadata": {},
   "outputs": [],
   "source": [
    "# https://scialert.net/fulltext/?doi=tasr.2012.929.934\n",
    "def girth(H, g):\n",
    "    # girth can only be even in bipartite graphs\n",
    "    combs = list(itertools.combinations(np.arange(H.shape[0]), g//2))\n",
    "    for c in combs:\n",
    "        w = np.zeros(H.shape[1])\n",
    "        for r in range(g//2):\n",
    "            w += np.array(H[c[r]])\n",
    "        if (np.count_nonzero(w == 2) == g//2):\n",
    "            return True\n",
    "    return False"
   ]
  },
  {
   "cell_type": "code",
   "execution_count": 134,
   "metadata": {},
   "outputs": [],
   "source": [
    "# configuration model\n",
    "# https://en.wikipedia.org/wiki/Configuration_model\n",
    "\n",
    "n = 16\n",
    "deg_c = 4 # w_r. Every check has this many bits in it, d\n",
    "deg_v = 3 # w_c. Every bit is in this many checks, c\n",
    "num_checks = (n*deg_v)//deg_c\n",
    "k = n - num_checks\n",
    "\n",
    "vs = np.array([[j for i in range(deg_v)] for j in range(n)]).flatten()\n",
    "cs = np.array([[j for i in range(deg_c)] for j in range(num_checks)]).flatten()\n",
    "\n",
    "H = np.zeros((num_checks, n), np.int64)\n",
    "\n",
    "while (vs.size and cs.size):\n",
    "    # choose random 'stub' from each array\n",
    "    double_edge = True\n",
    "    while(double_edge):\n",
    "        v_ind = np.random.randint(0, len(vs))\n",
    "        c_ind = np.random.randint(0, len(cs))\n",
    "\n",
    "        if (H[cs[c_ind]][vs[v_ind]] != 1):\n",
    "            double_edge = False\n",
    "            H[cs[c_ind]][vs[v_ind]] = 1\n",
    "            # if (girth(H, 4)):\n",
    "            #     H[cs[c_ind]][vs[v_ind]] = 0\n",
    "            #     break\n",
    "            vs = np.delete(vs, v_ind)\n",
    "            cs = np.delete(cs, c_ind)\n",
    "\n",
    "# H = sparse.csc_matrix(H)\n",
    "H = GF(H)"
   ]
  },
  {
   "cell_type": "code",
   "execution_count": 135,
   "metadata": {},
   "outputs": [],
   "source": [
    "# while (girth(H, 4)):\n",
    "#     arange = np.arange(H.shape[0])\n",
    "#     i = np.random.choice(arange, replace=False)\n",
    "#     j = np.random.choice(arange, replace=False)\n",
    "#     bits_i = np.where(H[i])[0]\n",
    "#     bits_j = np.where(H[j])[0]\n",
    "#     i_ind = np.random.choice(bits_i)\n",
    "#     j_ind = np.random.choice(bits_j)\n",
    "    \n",
    "#     if (i_ind == j_ind or i_ind in bits_j or j_ind in bits_i): \n",
    "#         continue\n",
    "    \n",
    "#     v = GF(np.zeros(H.shape[1], dtype=np.int8))\n",
    "#     v[i_ind] = v[j_ind] = 1\n",
    "#     H[i] += v\n",
    "#     H[j] += v"
   ]
  },
  {
   "cell_type": "code",
   "execution_count": 136,
   "metadata": {},
   "outputs": [
    {
     "name": "stdout",
     "output_type": "stream",
     "text": [
      "False\n"
     ]
    }
   ],
   "source": [
    "def rref(H):\n",
    "    r = 0\n",
    "    for c in range(k, n):\n",
    "        if (H[r, c] == 0):\n",
    "            # need to swap\n",
    "            for r2 in range(r+1, num_checks):\n",
    "                if (H[r2, c] == 1):\n",
    "                    temp = H[r, :].copy()\n",
    "                    H[r, :] = H[r2, :]\n",
    "                    H[r2, :] = temp\n",
    "                    break\n",
    "                    \n",
    "        if (H[r, c] == 0):\n",
    "            print('H is singular')\n",
    "\n",
    "        # cancel out other rows\n",
    "        for r2 in range(r+1, num_checks):\n",
    "            if (H[r2, c] == 1):\n",
    "                H[r2, :] = H[r2, :] + H[r, :]\n",
    "\n",
    "        # # back substitution\n",
    "        for r2 in range(0, r):\n",
    "            if (H[r2, c] == 1):\n",
    "                H[r2, :] = H[r2, :] + H[r, :]\n",
    "\n",
    "        r += 1\n",
    "    return H\n",
    "\n",
    "rref_H = GF(rref(GF(H.copy())))\n",
    "\n",
    "G = GF(np.hstack((GF(np.eye(k, dtype=np.int64)), rref_H[:,0:k].T)))\n",
    "print(np.any(H @ G.T))"
   ]
  },
  {
   "cell_type": "code",
   "execution_count": 137,
   "metadata": {},
   "outputs": [
    {
     "data": {
      "text/plain": [
       "GF([[1, 1, 0, 0, 0, 0, 0, 0, 0, 0, 1, 0, 0, 0, 0, 1],\n",
       "    [0, 0, 1, 1, 0, 0, 1, 0, 0, 0, 0, 0, 1, 0, 0, 0],\n",
       "    [0, 0, 0, 0, 0, 1, 0, 1, 0, 0, 0, 0, 0, 1, 1, 0],\n",
       "    [0, 0, 0, 0, 0, 0, 1, 0, 0, 1, 0, 1, 0, 0, 1, 0],\n",
       "    [0, 0, 1, 0, 1, 1, 0, 0, 0, 1, 0, 0, 0, 0, 0, 0],\n",
       "    [1, 0, 0, 0, 1, 0, 0, 0, 0, 1, 1, 0, 0, 0, 0, 0],\n",
       "    [1, 1, 0, 0, 0, 0, 0, 1, 0, 0, 0, 0, 1, 0, 0, 0],\n",
       "    [0, 0, 0, 0, 0, 0, 0, 0, 1, 0, 1, 1, 0, 0, 1, 0],\n",
       "    [0, 0, 1, 1, 1, 0, 1, 0, 0, 0, 0, 0, 0, 0, 0, 0],\n",
       "    [0, 0, 0, 1, 0, 0, 0, 0, 1, 0, 0, 0, 0, 1, 0, 1],\n",
       "    [0, 0, 0, 0, 0, 0, 0, 0, 1, 0, 0, 1, 0, 1, 0, 1],\n",
       "    [0, 1, 0, 0, 0, 1, 0, 1, 0, 0, 0, 0, 1, 0, 0, 0]], order=2)"
      ]
     },
     "execution_count": 137,
     "metadata": {},
     "output_type": "execute_result"
    }
   ],
   "source": [
    "H"
   ]
  },
  {
   "cell_type": "code",
   "execution_count": 27,
   "metadata": {},
   "outputs": [
    {
     "name": "stdout",
     "output_type": "stream",
     "text": [
      "[0 0 0 0 0 0] 0\n",
      "[0 1 1 0 1 0] 3\n",
      "[1 0 0 1 1 0] 3\n",
      "[1 1 1 1 0 0] 4\n"
     ]
    }
   ],
   "source": [
    "for i in range(2**k):\n",
    "    m = [int(j) for j in bin(i)[2:].zfill(k)]\n",
    "    c = GF(m) @ G\n",
    "    print(np.array(c), np.count_nonzero(c))"
   ]
  },
  {
   "cell_type": "code",
   "execution_count": 564,
   "metadata": {},
   "outputs": [],
   "source": [
    "def flip_alt3(y, H):\n",
    "    def determine_flippable(w):\n",
    "        flippable = []\n",
    "        for v in range(H.shape[1]):\n",
    "            checks = np.nonzero(H[:, v])[0]\n",
    "            unsatisfied = np.sum([x(j, w) for j in checks])\n",
    "            deg = len(checks)\n",
    "            if (2 * unsatisfied >= deg):\n",
    "                flippable.append(v)\n",
    "        return flippable\n",
    "\n",
    "    # evaluates the lth parity check with recieved vector y\n",
    "    x = lambda l, y: np.sum([y[k] for k in np.where(H[l])]) % 2 \n",
    "\n",
    "    w = y.copy()\n",
    "    flippable = determine_flippable(w)\n",
    "    while flippable:\n",
    "        z = GF(np.zeros(H.shape[1], dtype=np.int8))\n",
    "        z[flippable[0]] = 1\n",
    "        w += z\n",
    "        flippable = determine_flippable(w)\n",
    "\n",
    "    if np.any(H @ w):\n",
    "        return \"FAIL\"\n",
    "    else:\n",
    "        # where w is the deduced word\n",
    "        return w"
   ]
  },
  {
   "cell_type": "code",
   "execution_count": 565,
   "metadata": {},
   "outputs": [],
   "source": [
    "indices = [set(H[:,i].indices) for i in range(H.shape[1])]"
   ]
  },
  {
   "cell_type": "code",
   "execution_count": 593,
   "metadata": {},
   "outputs": [],
   "source": [
    "def flip(e, H, B):\n",
    "    # e is the error\n",
    "    # H is the parity check matrix\n",
    "    # B is the number by which the syndrome has to decrease each iteration \n",
    "    sigma = set(np.nonzero(H.dot(e) % 2)[0])\n",
    "    e = set()\n",
    "\n",
    "    while sigma:\n",
    "        valid = False\n",
    "        for i in range(H.shape[1]):\n",
    "            # loop through all variables\n",
    "            neighborhood = indices[i]\n",
    "            new_sigma = sigma ^ neighborhood\n",
    "\n",
    "            if len(new_sigma) <= len(sigma) - B:\n",
    "                e = e ^ set([i])\n",
    "                sigma = new_sigma\n",
    "                valid = True\n",
    "                break\n",
    "\n",
    "        if (not valid):\n",
    "            break\n",
    "    return e"
   ]
  },
  {
   "cell_type": "code",
   "execution_count": 567,
   "metadata": {},
   "outputs": [],
   "source": [
    "def flip_alt2(y, H):\n",
    "    w = y.copy()\n",
    "    syndrome = H.dot(w) % 2\n",
    "\n",
    "    while True:\n",
    "        terminate = True\n",
    "        for v in range(H.shape[1]):\n",
    "            checks = indices[v]\n",
    "            unsatisfied = syndrome[checks]\n",
    "            if (2 * np.sum(unsatisfied) > deg_v):\n",
    "                if (w[v]):\n",
    "                    np.put(w, v, [0])\n",
    "                else:\n",
    "                    np.put(w, v, [1])\n",
    "\n",
    "                np.put(syndrome, checks[unsatisfied == 0], [1])\n",
    "                np.put(syndrome, checks[unsatisfied == 1], [0])\n",
    "                terminate = True\n",
    "                break\n",
    "        if (not terminate):\n",
    "            continue\n",
    "        \n",
    "        if np.any(H @ w):\n",
    "            return \"FAIL\"\n",
    "        else:\n",
    "            return w"
   ]
  },
  {
   "cell_type": "code",
   "execution_count": 632,
   "metadata": {},
   "outputs": [],
   "source": [
    "p = 0.1\n",
    "# num_errors = 100\n",
    "sum = 0\n",
    "num_runs = 1\n",
    "\n",
    "for i in range(num_runs):\n",
    "    # e = np.array([1] * num_errors + [0] * (n - num_errors))\n",
    "    e = [1 if np.random.uniform() < p else 0 for i in range(n)] \n",
    "    np.random.shuffle(e)\n",
    "    e_hat = flip(e, H, 1)\n",
    "\n",
    "    if (set(np.where(e)[0]) == e_hat):\n",
    "        sum += 1"
   ]
  },
  {
   "cell_type": "code",
   "execution_count": 633,
   "metadata": {},
   "outputs": [
    {
     "data": {
      "text/plain": [
       "1.0"
      ]
     },
     "execution_count": 633,
     "metadata": {},
     "output_type": "execute_result"
    }
   ],
   "source": [
    "sum / num_runs"
   ]
  },
  {
   "cell_type": "code",
   "execution_count": 634,
   "metadata": {},
   "outputs": [
    {
     "data": {
      "text/plain": [
       "0"
      ]
     },
     "execution_count": 634,
     "metadata": {},
     "output_type": "execute_result"
    }
   ],
   "source": [
    "len(e_hat ^ set(np.where(e)[0]))"
   ]
  },
  {
   "cell_type": "code",
   "execution_count": null,
   "metadata": {},
   "outputs": [],
   "source": []
  }
 ],
 "metadata": {
  "interpreter": {
   "hash": "0ec6a07b5680b7cd4331b54bc02dbe3823b9a431e7975ff6d8e95dcfb04b0c38"
  },
  "kernelspec": {
   "display_name": "Python 3.8.12 ('qc')",
   "language": "python",
   "name": "python3"
  },
  "language_info": {
   "codemirror_mode": {
    "name": "ipython",
    "version": 3
   },
   "file_extension": ".py",
   "mimetype": "text/x-python",
   "name": "python",
   "nbconvert_exporter": "python",
   "pygments_lexer": "ipython3",
   "version": "3.8.12"
  },
  "orig_nbformat": 4
 },
 "nbformat": 4,
 "nbformat_minor": 2
}
