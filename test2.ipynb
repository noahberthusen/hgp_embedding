{
 "cells": [
  {
   "cell_type": "code",
   "execution_count": 2,
   "metadata": {},
   "outputs": [],
   "source": [
    "import networkx as nx\n",
    "import numpy as np\n",
    "import scipy.sparse as sparse\n",
    "import math\n",
    "import matplotlib.pyplot as plt"
   ]
  },
  {
   "cell_type": "code",
   "execution_count": 3,
   "metadata": {},
   "outputs": [
    {
     "name": "stdout",
     "output_type": "stream",
     "text": [
      "10000\n"
     ]
    }
   ],
   "source": [
    "n = 20000\n",
    "deg_v = 10 # w_c. Every bit is in this many checks\n",
    "deg_c = 20 # w_r. Every check has this many bits in it\n",
    "num_checks = (n*deg_v)//deg_c\n",
    "k = n - num_checks\n",
    "\n",
    "vs = np.array([[j for i in range(deg_v)] for j in range(n)]).flatten()\n",
    "cs = np.array([[j for i in range(deg_c)] for j in range(num_checks)]).flatten()\n",
    "\n",
    "H = np.zeros((num_checks, n), dtype=bool)\n",
    "\n",
    "while (vs.size and cs.size):\n",
    "    # choose random 'stub' from each array\n",
    "    double_edge = True\n",
    "    while(double_edge):\n",
    "        v_ind = np.random.randint(0, len(vs))\n",
    "        c_ind = np.random.randint(0, len(cs))\n",
    "\n",
    "        if (H[cs[c_ind]][vs[v_ind]] != 1):\n",
    "            double_edge = False\n",
    "            H[cs[c_ind]][vs[v_ind]] = 1\n",
    "            # if (girth(H, 4)):\n",
    "            #     H[cs[c_ind]][vs[v_ind]] = 0\n",
    "            #     break\n",
    "            vs = np.delete(vs, v_ind)\n",
    "            cs =np.delete(cs, c_ind)\n",
    "            \n",
    "H = sparse.csc_matrix(H)\n",
    "print(num_checks)"
   ]
  },
  {
   "cell_type": "code",
   "execution_count": 9,
   "metadata": {},
   "outputs": [],
   "source": [
    "G = nx.algorithms.bipartite.matrix.from_biadjacency_matrix(H)"
   ]
  },
  {
   "cell_type": "code",
   "execution_count": 10,
   "metadata": {},
   "outputs": [],
   "source": [
    "bits = nx.bipartite.sets(G)[1]\n",
    "checks = nx.bipartite.sets(G)[0]\n",
    "# pos = nx.bipartite_layout(G, bits)\n",
    "# nx.draw(G, pos)"
   ]
  },
  {
   "cell_type": "code",
   "execution_count": 11,
   "metadata": {},
   "outputs": [],
   "source": [
    "p = 0.30\n",
    "for check in checks:\n",
    "    if (np.random.rand() < p):\n",
    "        G.remove_node(check)"
   ]
  },
  {
   "cell_type": "code",
   "execution_count": 12,
   "metadata": {},
   "outputs": [
    {
     "data": {
      "text/plain": [
       "[0, 1, 36, 204, 823, 2220, 4194, 5382, 4455, 2185, 500]"
      ]
     },
     "execution_count": 12,
     "metadata": {},
     "output_type": "execute_result"
    }
   ],
   "source": [
    "degs = [0 for _ in range(deg_v+1)]\n",
    "deg_seq = G.degree()\n",
    "for bit in bits:\n",
    "    degs[deg_seq[bit]] += 1\n",
    "degs"
   ]
  },
  {
   "cell_type": "code",
   "execution_count": 13,
   "metadata": {},
   "outputs": [
    {
     "name": "stdout",
     "output_type": "stream",
     "text": [
      "[5.84313858841391e-06, 0.0001367501508488712, 0.0014395101524266787, 0.008975335379602982, 0.0367069932830306, 0.10289233723195275, 0.20019245075030861, 0.2669614377325246, 0.2335133423194894, 0.12098294168410728, 0.0281930581771198]\n",
      "[0.0, 5e-05, 0.0018, 0.0102, 0.04115, 0.111, 0.2097, 0.2691, 0.22275, 0.10925, 0.025]\n"
     ]
    }
   ],
   "source": [
    "def hgd(N,K,n,k):\n",
    "    return (math.comb(K,k) * math.comb(N-K,n-k)) / math.comb(N,n)\n",
    "\n",
    "probs = [hgd(num_checks, deg_v, int(p*num_checks), deg_v - i) for i in range(deg_v+1)]\n",
    "print(probs)\n",
    "print([deg/n for deg in degs])"
   ]
  },
  {
   "cell_type": "code",
   "execution_count": 202,
   "metadata": {},
   "outputs": [],
   "source": [
    "nc = np.arange(1e4, 1e5, 1e4, dtype=np.int64)\n",
    "\n",
    "probs = [hgd(c, deg_v, int(0.1*c), deg_v-0) for c in nc]"
   ]
  },
  {
   "cell_type": "code",
   "execution_count": 6,
   "metadata": {},
   "outputs": [
    {
     "name": "stdout",
     "output_type": "stream",
     "text": [
      "[28.36074745 33.55065526 77.44030686 45.87024657]\n"
     ]
    }
   ],
   "source": [
    "import numpy as np\n",
    "\n",
    "L = 4\n",
    "eigs = np.random.uniform(0, 100, [L])\n",
    "# eigs = [max(eigs) - e for e in eigs]\n",
    "# eigs = [-0.   , 11.432, 33.894, 38.803, 53.467]\n",
    "print(eigs)"
   ]
  },
  {
   "cell_type": "code",
   "execution_count": 7,
   "metadata": {},
   "outputs": [
    {
     "data": {
      "text/plain": [
       "array([ 5.1899078 , 12.31959131, 17.50949911, 31.5700603 , 43.88965161,\n",
       "       49.07955941])"
      ]
     },
     "execution_count": 7,
     "metadata": {},
     "output_type": "execute_result"
    }
   ],
   "source": [
    "diffs = []\n",
    "for i in eigs:\n",
    "    for j in eigs:\n",
    "        diffs.append(i - j)\n",
    "diffs = np.array(list(set(diffs)))\n",
    "diffs = np.sort(diffs)\n",
    "# diffs = [d for d in diffs if d >= 0]\n",
    "diffs = diffs[np.searchsorted(diffs, 0)+1 :]\n",
    "diffs"
   ]
  },
  {
   "cell_type": "code",
   "execution_count": 10,
   "metadata": {},
   "outputs": [
    {
     "name": "stdout",
     "output_type": "stream",
     "text": [
      "[ 0.          5.1899078  17.50949911 49.07955941]\n",
      "[ 0.         31.5700603  43.88965161 49.07955941]\n"
     ]
    }
   ],
   "source": [
    "lambda_n = diffs[-1]\n",
    "frequencies1 = set([0, lambda_n])\n",
    "frequencies2 = set([0, lambda_n])\n",
    "\n",
    "diffs2 = lambda_n - diffs\n",
    "pairings = []\n",
    "temp_pairings = [(i,j) for i,j in zip(diffs, diffs2)]\n",
    "\n",
    "for i, pair1 in enumerate(temp_pairings): # can be improved likely\n",
    "    for j, pair2 in enumerate(temp_pairings):\n",
    "        if (i != j):\n",
    "            if (np.any(np.isclose(pair1, pair2[::-1]))):\n",
    "                pairings.append(pair1)\n",
    "\n",
    "lambda_1, lambda_2 = pairings[0]\n",
    "frequencies1.add(lambda_1)\n",
    "frequencies2.add(lambda_2)\n",
    "\n",
    "for pair in pairings:\n",
    "    if (np.any(np.isclose(abs(lambda_1 - pair[0]), diffs))):\n",
    "        frequencies1.add(pair[0])\n",
    "    if (np.any(np.isclose(abs(lambda_2 - pair[1]), diffs))):\n",
    "        frequencies2.add(pair[1])\n",
    "\n",
    "frequencies1 = np.sort(list(frequencies1))\n",
    "frequencies2 = np.sort(list(frequencies2))\n",
    "print(frequencies1)\n",
    "print(frequencies2)"
   ]
  },
  {
   "cell_type": "code",
   "execution_count": null,
   "metadata": {},
   "outputs": [],
   "source": []
  }
 ],
 "metadata": {
  "interpreter": {
   "hash": "0ec6a07b5680b7cd4331b54bc02dbe3823b9a431e7975ff6d8e95dcfb04b0c38"
  },
  "kernelspec": {
   "display_name": "Python 3.8.12 ('qc')",
   "language": "python",
   "name": "python3"
  },
  "language_info": {
   "codemirror_mode": {
    "name": "ipython",
    "version": 3
   },
   "file_extension": ".py",
   "mimetype": "text/x-python",
   "name": "python",
   "nbconvert_exporter": "python",
   "pygments_lexer": "ipython3",
   "version": "3.8.12"
  },
  "orig_nbformat": 4
 },
 "nbformat": 4,
 "nbformat_minor": 2
}
