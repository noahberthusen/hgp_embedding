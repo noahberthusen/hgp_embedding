{
 "cells": [
  {
   "cell_type": "code",
   "execution_count": 390,
   "metadata": {},
   "outputs": [],
   "source": [
    "import numpy as np\n",
    "from itertools import chain, combinations\n",
    "from scipy import sparse"
   ]
  },
  {
   "cell_type": "code",
   "execution_count": 93,
   "metadata": {},
   "outputs": [],
   "source": [
    "# configuration model\n",
    "# https://en.wikipedia.org/wiki/Configuration_model\n",
    "\n",
    "n = 16\n",
    "deg_c = 4 # w_r. Every check has this many bits in it\n",
    "deg_v = 3 # w_c. Every bit is in this many checks\n",
    "num_checks = (n*deg_v)//deg_c\n",
    "k = n - num_checks\n",
    "\n",
    "vs = np.array([[j for i in range(deg_v)] for j in range(n)]).flatten()\n",
    "cs = np.array([[j for i in range(deg_c)] for j in range(num_checks)]).flatten()\n",
    "\n",
    "H = np.zeros((num_checks, n), dtype=bool)\n",
    "\n",
    "while (vs.size and cs.size):\n",
    "    # choose random 'stub' from each array\n",
    "    double_edge = True\n",
    "    while(double_edge):\n",
    "        v_ind = np.random.randint(0, len(vs))\n",
    "        c_ind = np.random.randint(0, len(cs))\n",
    "\n",
    "        if (H[cs[c_ind]][vs[v_ind]] != 1):\n",
    "            double_edge = False\n",
    "            H[cs[c_ind]][vs[v_ind]] = 1\n",
    "            vs = np.delete(vs, v_ind)\n",
    "            cs =np.delete(cs, c_ind)\n",
    "\n",
    "H = sparse.csc_matrix(H)"
   ]
  },
  {
   "cell_type": "code",
   "execution_count": 193,
   "metadata": {},
   "outputs": [],
   "source": [
    "H = np.loadtxt('./good_ldpc_codes/16_4_3.txt', dtype=bool)"
   ]
  },
  {
   "cell_type": "code",
   "execution_count": 194,
   "metadata": {},
   "outputs": [],
   "source": [
    "hx1 = sparse.kron(H, np.eye(H.shape[1], dtype=bool))\n",
    "hx2 = sparse.kron(np.eye(H.shape[0], dtype=bool), H.T)\n",
    "Hx = sparse.csr_matrix(sparse.hstack([hx1, hx2], ))\n",
    "\n",
    "hz1 = sparse.kron(np.eye(H.shape[1], dtype=bool), H)\n",
    "hz2 = sparse.kron(H.T, np.eye(H.shape[0], dtype=bool))\n",
    "Hz = sparse.csr_matrix(sparse.hstack([hz1, hz2]))"
   ]
  },
  {
   "cell_type": "code",
   "execution_count": 195,
   "metadata": {},
   "outputs": [
    {
     "data": {
      "text/plain": [
       "24576"
      ]
     },
     "execution_count": 195,
     "metadata": {},
     "output_type": "execute_result"
    }
   ],
   "source": [
    "2**Hx[0].nnz*Hx.shape[0] # number of error syndromes we have to check"
   ]
  },
  {
   "cell_type": "code",
   "execution_count": 453,
   "metadata": {},
   "outputs": [],
   "source": [
    "def powerset(iterable):\n",
    "    s = list(iterable)\n",
    "    return chain.from_iterable(combinations(s, r) for r in range(len(s)+1))\n",
    "\n",
    "eF = np.zeros(Hx.shape[1], dtype=bool)\n",
    "def syn_from_F(F, H):\n",
    "    eF_cp = eF.copy()\n",
    "    np.put(eF_cp, F, [1])\n",
    "    return set(np.where(H @ eF_cp)[0])\n",
    "\n",
    "Fx = [list(powerset(Hx[i].indices))[1:] for i in range(Hx.shape[0])]\n",
    "Fx = list(chain(*Fx)) # can take set of this list for slight reduction in size\n",
    "# Fx = [set(g) for g in Fx] \n",
    "Fz = [list(powerset(Hz[i].indices))[1:] for i in range(Hz.shape[0])]\n",
    "Fz = list(chain(*Fz))\n",
    "# Fz = [set(g) for g in Fz]\n",
    "\n",
    "sigma_Fx = [syn_from_F(g, Hz) for g in Fx] # set of indices where syndrome is 1\n",
    "sigma_Fz = [syn_from_F(g, Hx) for g in Fz]"
   ]
  },
  {
   "cell_type": "code",
   "execution_count": 471,
   "metadata": {},
   "outputs": [
    {
     "name": "stdout",
     "output_type": "stream",
     "text": [
      "22.2 µs ± 2.36 µs per loop (mean ± std. dev. of 7 runs, 10000 loops each)\n"
     ]
    }
   ],
   "source": [
    "%timeit syn_from_F(Fx[0], Hz)"
   ]
  },
  {
   "cell_type": "code",
   "execution_count": 454,
   "metadata": {},
   "outputs": [],
   "source": [
    "def ssf(syn, F, sigma_F):\n",
    "    # given a syndrome, syn: sigma_x or sigma_z \n",
    "    # x_z false for x stabilizers, true for z stabilizers\n",
    "    s = set(np.where(syn.copy())[0])\n",
    "    e = set()\n",
    "    \n",
    "    zipped = zip(F, sigma_F)\n",
    "\n",
    "    while 1:\n",
    "        max = -1\n",
    "        max_gen = None\n",
    "        max_sigma_gen = None\n",
    "        \n",
    "        for g, sigma_g in zipped:\n",
    "            s_i = s ^ sigma_g\n",
    "            len_s = len(s)\n",
    "            len_s_i = len(s_i)\n",
    "            if (len_s_i < len_s):\n",
    "                rel_weight = (len_s - len_s_i) / len(g)\n",
    "                if (rel_weight > max):\n",
    "                    max = rel_weight\n",
    "                    max_gen = g\n",
    "                    max_sigma_gen = sigma_g\n",
    "\n",
    "        if (max == -1):\n",
    "            if (len(s) == 0):\n",
    "                return e\n",
    "            else:\n",
    "                return s\n",
    "        else:\n",
    "            e = e ^ set(max_gen)\n",
    "            s = s ^ max_sigma_gen"
   ]
  },
  {
   "cell_type": "code",
   "execution_count": 455,
   "metadata": {},
   "outputs": [
    {
     "name": "stdout",
     "output_type": "stream",
     "text": [
      "{69, 133, 165, 78, 126, 158} (array([149, 222, 316], dtype=int64),)\n"
     ]
    }
   ],
   "source": [
    "p = 0.005\n",
    "\n",
    "# how is this able to decode an error with more than (d-1)/2 errors?\n",
    "\n",
    "for i in range(1):\n",
    "    eX = [True if np.random.uniform() < p else False for i in range(Hx.shape[1])]\n",
    "    eZ = [True if np.random.uniform() < p else False for i in range(Hz.shape[1])]\n",
    "\n",
    "    sigma_eX = Hx.dot(eX)\n",
    "    # s = set(np.where(sigma_eX.copy())[0])\n",
    "    # sigma_eZ = np.dot(Hz, eZ)\n",
    "    e1 = ssf(sigma_eX, Fz, sigma_Fz)\n",
    "    # e2 = ssf(sigma_eZ, True)\n",
    "    print(e1, np.where(eX))\n",
    "    new_e = e1 ^ set(np.where(eX)[0])\n",
    "    # print(len(np.where(eX)[0]), len(np.where(eZ)[0]))"
   ]
  },
  {
   "cell_type": "code",
   "execution_count": 460,
   "metadata": {},
   "outputs": [
    {
     "data": {
      "text/plain": [
       "array([False, False, False, False, False,  True, False, False, False,\n",
       "       False, False, False, False, False,  True, False, False, False,\n",
       "       False, False, False,  True, False, False, False, False, False,\n",
       "       False, False, False,  True, False, False, False, False, False,\n",
       "       False, False, False, False, False, False, False, False, False,\n",
       "       False, False, False, False, False, False, False, False,  True,\n",
       "       False, False, False, False, False, False, False, False, False,\n",
       "       False, False, False, False, False, False,  True, False, False,\n",
       "       False, False, False, False, False, False,  True, False, False,\n",
       "        True, False, False, False, False, False,  True,  True, False,\n",
       "       False, False,  True, False,  True, False, False, False, False,\n",
       "       False, False,  True, False, False, False, False, False, False,\n",
       "       False, False,  True, False, False, False, False, False, False,\n",
       "       False, False, False, False, False, False, False, False, False,\n",
       "        True, False, False, False, False, False, False,  True, False,\n",
       "       False, False, False, False, False, False, False,  True, False,\n",
       "       False, False, False, False, False,  True, False, False, False,\n",
       "       False, False, False, False, False,  True, False, False, False,\n",
       "       False, False, False,  True, False, False, False, False, False,\n",
       "       False, False, False,  True, False, False, False, False, False,\n",
       "       False,  True, False, False, False, False, False, False, False,\n",
       "       False,  True, False])"
      ]
     },
     "execution_count": 460,
     "metadata": {},
     "output_type": "execute_result"
    }
   ],
   "source": [
    "eF_cp = eF.copy()\n",
    "np.put(eF_cp, list(new_e), [1])\n",
    "Hx @ eF_cp"
   ]
  },
  {
   "cell_type": "code",
   "execution_count": 279,
   "metadata": {},
   "outputs": [],
   "source": [
    "zipped =zip(Fx, sigma_Fx)\n",
    "s = set(np.where(sigma_eX.copy())[0])\n",
    "def test2():\n",
    "    for g, sigma_g in zipped:\n",
    "        s_i = s ^ sigma_g\n",
    "        len_s_i = len(s_i)\n",
    "    # pass\n",
    "        # len_s = len(s)\n",
    "        # len_s_i = len(s_i)\n",
    "        # if (len_s_i < len_s):\n",
    "        #     rel_weight = (len_s - len_s_i) / len(g)\n",
    "        #     if (rel_weight > max):\n",
    "        #         max = rel_weight\n",
    "        #         max_gen = g\n",
    "        #         max_sigma_gen = sigma_g"
   ]
  },
  {
   "cell_type": "code",
   "execution_count": 280,
   "metadata": {},
   "outputs": [
    {
     "name": "stdout",
     "output_type": "stream",
     "text": [
      "171 ns ± 21.1 ns per loop (mean ± std. dev. of 7 runs, 1000000 loops each)\n"
     ]
    }
   ],
   "source": [
    "%timeit test2()"
   ]
  },
  {
   "cell_type": "code",
   "execution_count": 338,
   "metadata": {},
   "outputs": [
    {
     "name": "stdout",
     "output_type": "stream",
     "text": [
      "424 ns ± 40.1 ns per loop (mean ± std. dev. of 7 runs, 1000000 loops each)\n"
     ]
    }
   ],
   "source": [
    "%timeit s ^ sigma_Fx[0]"
   ]
  },
  {
   "cell_type": "code",
   "execution_count": 469,
   "metadata": {},
   "outputs": [],
   "source": [
    "\n",
    "\n",
    "def test():\n",
    "    s = 0\n",
    "    for i in range(6000000):\n",
    "        s += i\n",
    "test()"
   ]
  },
  {
   "cell_type": "code",
   "execution_count": 470,
   "metadata": {},
   "outputs": [
    {
     "name": "stdout",
     "output_type": "stream",
     "text": [
      "541 ms ± 62.8 ms per loop (mean ± std. dev. of 7 runs, 1 loop each)\n"
     ]
    }
   ],
   "source": [
    "%timeit test()"
   ]
  },
  {
   "cell_type": "code",
   "execution_count": null,
   "metadata": {},
   "outputs": [],
   "source": []
  }
 ],
 "metadata": {
  "interpreter": {
   "hash": "36076d0e02b8d1858d0bd5b32bffaa710811761ccb670f476492e9c2dea26ac0"
  },
  "kernelspec": {
   "display_name": "Python 3.8.12 ('qc')",
   "language": "python",
   "name": "python3"
  },
  "language_info": {
   "codemirror_mode": {
    "name": "ipython",
    "version": 3
   },
   "file_extension": ".py",
   "mimetype": "text/x-python",
   "name": "python",
   "nbconvert_exporter": "python",
   "pygments_lexer": "ipython3",
   "version": "3.8.12"
  },
  "orig_nbformat": 4
 },
 "nbformat": 4,
 "nbformat_minor": 2
}
