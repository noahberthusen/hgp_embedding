{
 "cells": [
  {
   "cell_type": "code",
   "execution_count": 231,
   "metadata": {},
   "outputs": [],
   "source": [
    "import networkx as nx\n",
    "import numpy as np\n",
    "from scipy import sparse\n",
    "from prebuilt_code.ssf_masked.src_py.read_ccodes import *\n",
    "import matplotlib.pyplot as plt\n",
    "import itertools\n",
    "import random"
   ]
  },
  {
   "cell_type": "code",
   "execution_count": 224,
   "metadata": {},
   "outputs": [],
   "source": [
    "n_list = []\n",
    "m_list = []\n",
    "dv_list = []\n",
    "dc_list = []\n",
    "id_list = []\n",
    "file_name_list = [\"prebuilt_code/ssf_masked/ccode/24_20_5_6.code\"]\n",
    "\n",
    "code_list = read_ccode(file_name_list, n_list, m_list, dv_list, dc_list, id_list)\n",
    "ccode = code_list[0]"
   ]
  },
  {
   "cell_type": "code",
   "execution_count": 225,
   "metadata": {},
   "outputs": [],
   "source": [
    "check_nbhd = ccode.check_nbhd\n",
    "\n",
    "H = np.zeros((ccode.m, ccode.n))\n",
    "for i, check in enumerate(check_nbhd):\n",
    "    for bit in check:\n",
    "        H[i][bit] = 1\n",
    "H = sparse.csc_matrix(H)\n",
    "\n",
    "hx1 = sparse.kron(H, np.eye(H.shape[1], dtype=bool))\n",
    "hx2 = sparse.kron(np.eye(H.shape[0], dtype=bool), H.T)\n",
    "Hx = sparse.csr_matrix(sparse.hstack([hx1, hx2]))\n",
    "\n",
    "hz1 = sparse.kron(np.eye(H.shape[1], dtype=bool), H)\n",
    "hz2 = sparse.kron(H.T, np.eye(H.shape[0], dtype=bool))\n",
    "Hz = sparse.csr_matrix(sparse.hstack([hz1, hz2]))\n",
    "\n",
    "# qH = sparse.vstack([Hx, Hz])\n",
    "qH = Hx\n",
    "\n",
    "n = qH.shape[1]\n",
    "m = qH.shape[0]"
   ]
  },
  {
   "cell_type": "code",
   "execution_count": 226,
   "metadata": {},
   "outputs": [],
   "source": [
    "G = nx.Graph()\n",
    "G.add_nodes_from(np.arange(n))"
   ]
  },
  {
   "cell_type": "code",
   "execution_count": 227,
   "metadata": {},
   "outputs": [
    {
     "data": {
      "text/plain": [
       "24068"
      ]
     },
     "execution_count": 227,
     "metadata": {},
     "output_type": "execute_result"
    }
   ],
   "source": [
    "for i in range(m):\n",
    "    checks = qH[i].indices\n",
    "    for pair in itertools.combinations(checks, 2):\n",
    "        G.add_edge(pair[0], pair[1])\n",
    "len(G.edges)"
   ]
  },
  {
   "cell_type": "code",
   "execution_count": 228,
   "metadata": {},
   "outputs": [],
   "source": [
    "def percolation(G, p):\n",
    "    \"\"\"\n",
    "    returns components if edges are removed from G with probability p\n",
    "    (starting from empty graph adding edges with probability (1-p))\n",
    "    \"\"\"\n",
    "    G_copy = G.copy()\n",
    "    edges = list(G_copy.edges)\n",
    "    for edge in edges:\n",
    "        if (np.random.random() < p):\n",
    "            G_copy.remove_edge(edge[0], edge[1])\n",
    "            \n",
    "    comps = sorted(nx.connected_components(G_copy), key=len, reverse=True)\n",
    "    return comps[0] # return giant component"
   ]
  },
  {
   "cell_type": "code",
   "execution_count": 229,
   "metadata": {},
   "outputs": [
    {
     "data": {
      "text/plain": [
       "<matplotlib.collections.PathCollection at 0x24b3bfe47c0>"
      ]
     },
     "execution_count": 229,
     "metadata": {},
     "output_type": "execute_result"
    },
    {
     "data": {
      "image/png": "[encoded data removed]",
      "text/plain": [
       "<Figure size 432x288 with 1 Axes>"
      ]
     },
     "metadata": {
      "needs_background": "light"
     },
     "output_type": "display_data"
    }
   ],
   "source": [
    "ps = np.linspace(0,0.2,100)\n",
    "gcc_sizes = [len(percolation(G, 1-p)) for p in ps]\n",
    "plt.scatter(ps, gcc_sizes)"
   ]
  },
  {
   "cell_type": "code",
   "execution_count": 230,
   "metadata": {},
   "outputs": [
    {
     "data": {
      "text/plain": [
       "24068"
      ]
     },
     "execution_count": 230,
     "metadata": {},
     "output_type": "execute_result"
    }
   ],
   "source": [
    "G = nx.Graph()\n",
    "\n",
    "vv_qubits = [(v1,v2,0) for v1 in range(ccode.n) for v2 in range(ccode.n)]\n",
    "cc_qubits = [(c1,c2,1) for c1 in range(ccode.m) for c2 in range(ccode.m)]\n",
    "G.add_nodes_from(vv_qubits + cc_qubits)\n",
    "\n",
    "# only x gen\n",
    "for qb in vv_qubits:\n",
    "    for check in ccode.bit_nbhd[qb[1]]:\n",
    "        for bit in ccode.check_nbhd[check]:\n",
    "            G.add_edge(qb, (qb[0],bit,0))\n",
    "        for bit in ccode.bit_nbhd[qb[0]]:\n",
    "            G.add_edge(qb, (bit,check,1))\n",
    "\n",
    "for qb in cc_qubits:\n",
    "    for bit in ccode.check_nbhd[qb[0]]:\n",
    "        for check in ccode.bit_nbhd[bit]:\n",
    "            G.add_edge(qb, (check,qb[1],1))\n",
    "        for check in ccode.check_nbhd[qb[1]]:\n",
    "            G.add_edge(qb, (bit,check,0))\n",
    "\n",
    "G.remove_edges_from(nx.selfloop_edges(G))\n",
    "len(G.edges)\n"
   ]
  },
  {
   "cell_type": "code",
   "execution_count": 223,
   "metadata": {},
   "outputs": [
    {
     "data": {
      "text/plain": [
       "<matplotlib.collections.PathCollection at 0x24b3cd8ff40>"
      ]
     },
     "execution_count": 223,
     "metadata": {},
     "output_type": "execute_result"
    },
    {
     "data": {
      "image/png": "[encoded data removed]",
      "text/plain": [
       "<Figure size 432x288 with 1 Axes>"
      ]
     },
     "metadata": {
      "needs_background": "light"
     },
     "output_type": "display_data"
    }
   ],
   "source": [
    "ps = np.linspace(0,0.2,100)\n",
    "gcc_sizes = [len(percolation(G, 1-p)) for p in ps]\n",
    "plt.scatter(ps, gcc_sizes)"
   ]
  },
  {
   "cell_type": "code",
   "execution_count": 261,
   "metadata": {},
   "outputs": [
    {
     "name": "stdout",
     "output_type": "stream",
     "text": [
      "[{(6, 14, 0), (16, 14, 1)}, {(6, 18, 1)}, {(10, 7, 1)}, {(15, 9, 0)}, {(9, 16, 1)}, {(22, 6, 0)}]\n"
     ]
    }
   ],
   "source": [
    "def random_error(ccode, p):\n",
    "    \"\"\"\n",
    "    Return a random iid error of proba 'p'\n",
    "    \"\"\"\n",
    "    vv_xerror = [(v1,v2) for v1 in range(ccode.n) for v2 in range(ccode.n) if p > random.uniform(0,1)]\n",
    "    cc_xerror = [(c1,c2) for c1 in range(ccode.m) for c2 in range(ccode.m) if p > random.uniform(0,1)]\n",
    "\n",
    "    return (vv_xerror, cc_xerror)\n",
    "\n",
    "p = 0.005\n",
    "error = random_error(ccode, p)\n",
    "vv_errors = [(vv[0],vv[1],0) for vv in error[0]]\n",
    "cc_errors = [(cc[0],cc[1],1) for cc in error[1]]\n",
    "H = G.subgraph(vv_errors + cc_errors)\n",
    "comps = list(nx.connected_components(H))\n",
    "print(comps)"
   ]
  },
  {
   "cell_type": "code",
   "execution_count": 262,
   "metadata": {},
   "outputs": [
    {
     "data": {
      "text/plain": [
       "{(6, 14, 0), (16, 14, 1)}"
      ]
     },
     "execution_count": 262,
     "metadata": {},
     "output_type": "execute_result"
    }
   ],
   "source": [
    "max(comps)"
   ]
  },
  {
   "cell_type": "code",
   "execution_count": null,
   "metadata": {},
   "outputs": [],
   "source": []
  }
 ],
 "metadata": {
  "interpreter": {
   "hash": "0ec6a07b5680b7cd4331b54bc02dbe3823b9a431e7975ff6d8e95dcfb04b0c38"
  },
  "kernelspec": {
   "display_name": "Python 3.8.12 ('qc')",
   "language": "python",
   "name": "python3"
  },
  "language_info": {
   "codemirror_mode": {
    "name": "ipython",
    "version": 3
   },
   "file_extension": ".py",
   "mimetype": "text/x-python",
   "name": "python",
   "nbconvert_exporter": "python",
   "pygments_lexer": "ipython3",
   "version": "3.8.12"
  },
  "orig_nbformat": 4
 },
 "nbformat": 4,
 "nbformat_minor": 2
}
