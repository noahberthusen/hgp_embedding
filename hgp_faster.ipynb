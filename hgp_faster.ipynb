{
 "cells": [
  {
   "cell_type": "code",
   "execution_count": 248,
   "metadata": {},
   "outputs": [],
   "source": [
    "import numpy as np\n",
    "from itertools import chain, combinations\n",
    "from scipy import sparse"
   ]
  },
  {
   "cell_type": "code",
   "execution_count": 249,
   "metadata": {},
   "outputs": [],
   "source": [
    "# configuration model\n",
    "# https://en.wikipedia.org/wiki/Configuration_model\n",
    "\n",
    "n = 16\n",
    "deg_c = 4 # w_r. Every check has this many bits in it\n",
    "deg_v = 3 # w_c. Every bit is in this many checks\n",
    "num_checks = (n*deg_v)//deg_c\n",
    "k = n - num_checks\n",
    "\n",
    "vs = np.array([[j for i in range(deg_v)] for j in range(n)]).flatten()\n",
    "cs = np.array([[j for i in range(deg_c)] for j in range(num_checks)]).flatten()\n",
    "\n",
    "H = np.zeros((num_checks, n), dtype=bool)\n",
    "\n",
    "while (vs.size and cs.size):\n",
    "    # choose random 'stub' from each array\n",
    "    double_edge = True\n",
    "    while(double_edge):\n",
    "        v_ind = np.random.randint(0, len(vs))\n",
    "        c_ind = np.random.randint(0, len(cs))\n",
    "\n",
    "        if (H[cs[c_ind]][vs[v_ind]] != 1):\n",
    "            double_edge = False\n",
    "            H[cs[c_ind]][vs[v_ind]] = 1\n",
    "            vs = np.delete(vs, v_ind)\n",
    "            cs =np.delete(cs, c_ind)\n",
    "\n",
    "H = sparse.csc_matrix(H)"
   ]
  },
  {
   "cell_type": "code",
   "execution_count": 250,
   "metadata": {},
   "outputs": [],
   "source": [
    "H = np.loadtxt('./good_ldpc_codes/16_4_3.txt', dtype=bool)"
   ]
  },
  {
   "cell_type": "code",
   "execution_count": 251,
   "metadata": {},
   "outputs": [],
   "source": [
    "hx1 = sparse.kron(H, np.eye(H.shape[1], dtype=bool))\n",
    "hx2 = sparse.kron(np.eye(H.shape[0], dtype=bool), H.T)\n",
    "Hx = sparse.csr_matrix(sparse.hstack([hx1, hx2], ))\n",
    "\n",
    "hz1 = sparse.kron(np.eye(H.shape[1], dtype=bool), H)\n",
    "hz2 = sparse.kron(H.T, np.eye(H.shape[0], dtype=bool))\n",
    "Hz = sparse.csr_matrix(sparse.hstack([hz1, hz2]))"
   ]
  },
  {
   "cell_type": "code",
   "execution_count": 252,
   "metadata": {},
   "outputs": [
    {
     "data": {
      "text/plain": [
       "24576"
      ]
     },
     "execution_count": 252,
     "metadata": {},
     "output_type": "execute_result"
    }
   ],
   "source": [
    "2**Hx[0].nnz*Hx.shape[0] # number of error syndromes we have to check"
   ]
  },
  {
   "cell_type": "code",
   "execution_count": null,
   "metadata": {},
   "outputs": [],
   "source": [
    "def powerset(iterable):\n",
    "    s = list(iterable)\n",
    "    return chain.from_iterable(combinations(s, r) for r in range(len(s)+1))\n",
    "\n",
    "eF = np.zeros(Hx.shape[1], dtype=bool)\n",
    "def syn_from_F(F, H):\n",
    "    eF_cp = eF.copy()\n",
    "    np.put(eF_cp, F, [1])\n",
    "    return set(np.where(H @ eF_cp)[0])\n",
    "\n",
    "Fx = [list(powerset(Hx[i].indices))[1:] for i in range(Hx.shape[0])]\n",
    "Fx = list(chain(*Fx)) # can take set of this list for slight reduction in size\n",
    "Fx_coords = np.array([(item, i) for i, j in enumerate(Fx) for item in j])\n",
    "Fx_arr = sparse.coo_matrix(([True for i in range(len(Fx_coords))], (Fx_coords[:,0], Fx_coords[:,1])), dtype=bool).tocsc()\n",
    "sigma_Fx = (Hz.tocsc() @ Fx_arr).transpose()\n",
    "\n",
    "# Fx = [set(g) for g in Fx] \n",
    "Fz = [list(powerset(Hz[i].indices))[1:] for i in range(Hz.shape[0])]\n",
    "Fz = list(chain(*Fz))\n",
    "Fz_coords = np.array([(item, i) for i, j in enumerate(Fz) for item in j])\n",
    "Fz_arr = sparse.coo_matrix(([True for i in range(len(Fz_coords))], (Fz_coords[:,0], Fz_coords[:,1])), dtype=bool).tocsc()\n",
    "sigma_Fz = (Hx.tocsc() @ Fz_arr).transpose()\n",
    "\n",
    "# Fz = [set(g) for g in Fz]\n",
    "\n",
    "# sigma_Fx = [syn_from_F(g, Hz) for g in Fx] # set of indices where syndrome is 1\n",
    "# sigma_Fz = [syn_from_F(g, Hx) for g in Fz]"
   ]
  },
  {
   "cell_type": "code",
   "execution_count": 8,
   "metadata": {},
   "outputs": [],
   "source": [
    "def ssf(syn, F, sigma_F):\n",
    "    # given a syndrome, syn: sigma_x or sigma_z \n",
    "    # x_z false for x stabilizers, true for z stabilizers\n",
    "    s = set(np.where(syn.copy())[0])\n",
    "    e = set()\n",
    "    \n",
    "    zipped = zip(F, sigma_F)\n",
    "\n",
    "    while 1:\n",
    "        max = -1\n",
    "        max_gen = None\n",
    "        max_sigma_gen = None\n",
    "        \n",
    "        for g, sigma_g in zipped:\n",
    "            s_i = s ^ sigma_g\n",
    "            len_s = len(s)\n",
    "            len_s_i = len(s_i)\n",
    "            if (len_s_i < len_s):\n",
    "                rel_weight = (len_s - len_s_i) / len(g)\n",
    "                if (rel_weight > max):\n",
    "                    max = rel_weight\n",
    "                    max_gen = g\n",
    "                    max_sigma_gen = sigma_g\n",
    "\n",
    "        if (max == -1):\n",
    "            if (len(s) == 0):\n",
    "                return e\n",
    "            else:\n",
    "                return s\n",
    "        else:\n",
    "            e = e ^ set(max_gen)\n",
    "            s = s ^ max_sigma_gen"
   ]
  },
  {
   "cell_type": "code",
   "execution_count": 228,
   "metadata": {},
   "outputs": [],
   "source": [
    "p = 0.005\n",
    "\n",
    "# how is this able to decode an error with more than (d-1)/2 errors?\n",
    "\n",
    "for i in range(1):\n",
    "    eX = [True if np.random.uniform() < p else False for i in range(Hx.shape[1])]\n",
    "    eZ = [True if np.random.uniform() < p else False for i in range(Hz.shape[1])]\n",
    "\n",
    "    sigma_eX = Hx.dot(eX)\n",
    "    # s = set(np.where(sigma_eX.copy())[0])\n",
    "    # sigma_eZ = np.dot(Hz, eZ)\n",
    "    # e1 = ssf(sigma_eX, Fz, sigma_Fz)\n",
    "    # e2 = ssf(sigma_eZ, True)\n",
    "    # print(e1, np.where(eX))\n",
    "    # new_e = e1 ^ set(np.where(eX)[0])\n",
    "    # print(len(np.where(eX)[0]), len(np.where(eZ)[0]))"
   ]
  },
  {
   "cell_type": "code",
   "execution_count": 230,
   "metadata": {},
   "outputs": [
    {
     "ename": "TypeError",
     "evalue": "unsupported operand type(s) for ^: 'numpy.ndarray' and 'csc_matrix'",
     "output_type": "error",
     "traceback": [
      "\u001b[1;31m---------------------------------------------------------------------------\u001b[0m",
      "\u001b[1;31mTypeError\u001b[0m                                 Traceback (most recent call last)",
      "\u001b[1;32m~\\AppData\\Local\\Temp/ipykernel_10972/1929126337.py\u001b[0m in \u001b[0;36m<module>\u001b[1;34m\u001b[0m\n\u001b[1;32m----> 1\u001b[1;33m \u001b[0msigma_eX\u001b[0m \u001b[1;33m^\u001b[0m \u001b[0msigma_Fx\u001b[0m\u001b[1;33m\u001b[0m\u001b[1;33m\u001b[0m\u001b[0m\n\u001b[0m",
      "\u001b[1;31mTypeError\u001b[0m: unsupported operand type(s) for ^: 'numpy.ndarray' and 'csc_matrix'"
     ]
    }
   ],
   "source": [
    "sigma_eX ^ sigma_Fx"
   ]
  },
  {
   "cell_type": "code",
   "execution_count": 279,
   "metadata": {},
   "outputs": [],
   "source": [
    "zipped =zip(Fx, sigma_Fx)\n",
    "s = set(np.where(sigma_eX.copy())[0])\n",
    "def test2():\n",
    "    for g, sigma_g in zipped:\n",
    "        s_i = s ^ sigma_g\n",
    "        len_s_i = len(s_i)\n",
    "    # pass\n",
    "        # len_s = len(s)\n",
    "        # len_s_i = len(s_i)\n",
    "        # if (len_s_i < len_s):\n",
    "        #     rel_weight = (len_s - len_s_i) / len(g)\n",
    "        #     if (rel_weight > max):\n",
    "        #         max = rel_weight\n",
    "        #         max_gen = g\n",
    "        #         max_sigma_gen = sigma_g"
   ]
  },
  {
   "cell_type": "code",
   "execution_count": 10,
   "metadata": {},
   "outputs": [
    {
     "name": "stdout",
     "output_type": "stream",
     "text": [
      "23.3 ms ± 697 µs per loop (mean ± std. dev. of 7 runs, 10 loops each)\n"
     ]
    }
   ],
   "source": [
    "%timeit ssf(sigma_eX, Fz, sigma_Fz)"
   ]
  },
  {
   "cell_type": "code",
   "execution_count": 338,
   "metadata": {},
   "outputs": [
    {
     "name": "stdout",
     "output_type": "stream",
     "text": [
      "424 ns ± 40.1 ns per loop (mean ± std. dev. of 7 runs, 1000000 loops each)\n"
     ]
    }
   ],
   "source": [
    "%timeit s ^ sigma_Fx[0]"
   ]
  },
  {
   "cell_type": "code",
   "execution_count": 469,
   "metadata": {},
   "outputs": [],
   "source": [
    "\n",
    "\n",
    "def test():\n",
    "    s = 0\n",
    "    for i in range(6000000):\n",
    "        s += i\n",
    "test()"
   ]
  },
  {
   "cell_type": "code",
   "execution_count": 470,
   "metadata": {},
   "outputs": [
    {
     "name": "stdout",
     "output_type": "stream",
     "text": [
      "541 ms ± 62.8 ms per loop (mean ± std. dev. of 7 runs, 1 loop each)\n"
     ]
    }
   ],
   "source": [
    "%timeit test()"
   ]
  },
  {
   "cell_type": "code",
   "execution_count": null,
   "metadata": {},
   "outputs": [],
   "source": []
  }
 ],
 "metadata": {
  "interpreter": {
   "hash": "36076d0e02b8d1858d0bd5b32bffaa710811761ccb670f476492e9c2dea26ac0"
  },
  "kernelspec": {
   "display_name": "Python 3.8.12 ('qc')",
   "language": "python",
   "name": "python3"
  },
  "language_info": {
   "codemirror_mode": {
    "name": "ipython",
    "version": 3
   },
   "file_extension": ".py",
   "mimetype": "text/x-python",
   "name": "python",
   "nbconvert_exporter": "python",
   "pygments_lexer": "ipython3",
   "version": "3.8.12"
  },
  "orig_nbformat": 4
 },
 "nbformat": 4,
 "nbformat_minor": 2
}
