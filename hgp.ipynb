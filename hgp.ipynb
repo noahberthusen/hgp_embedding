{
 "cells": [
  {
   "cell_type": "code",
   "execution_count": 1,
   "metadata": {},
   "outputs": [],
   "source": [
    "import numpy as np\n",
    "import galois\n",
    "from itertools import chain, combinations\n",
    "GF = galois.GF(2)"
   ]
  },
  {
   "cell_type": "code",
   "execution_count": 364,
   "metadata": {},
   "outputs": [],
   "source": [
    "# configuration model\n",
    "# https://en.wikipedia.org/wiki/Configuration_model\n",
    "\n",
    "n = 16\n",
    "deg_c = 4 # w_r. Every check has this many bits in it\n",
    "deg_v = 3 # w_c. Every bit is in this many checks\n",
    "num_checks = (n*deg_v)//deg_c\n",
    "k = n - num_checks\n",
    "\n",
    "vs = np.array([[j for i in range(deg_v)] for j in range(n)]).flatten()\n",
    "cs = np.array([[j for i in range(deg_c)] for j in range(num_checks)]).flatten()\n",
    "\n",
    "H = np.zeros((num_checks, n), np.int64)\n",
    "\n",
    "while (vs.size and cs.size):\n",
    "    # choose random 'stub' from each array\n",
    "    double_edge = True\n",
    "    while(double_edge):\n",
    "        v_ind = np.random.randint(0, len(vs))\n",
    "        c_ind = np.random.randint(0, len(cs))\n",
    "\n",
    "        if (H[cs[c_ind]][vs[v_ind]] != 1):\n",
    "            double_edge = False\n",
    "            H[cs[c_ind]][vs[v_ind]] = 1\n",
    "            vs = np.delete(vs, v_ind)\n",
    "            cs =np.delete(cs, c_ind)"
   ]
  },
  {
   "cell_type": "code",
   "execution_count": 401,
   "metadata": {},
   "outputs": [],
   "source": [
    "H = np.loadtxt('./good_ldpc_codes/16_4_3.txt', dtype=np.int8)"
   ]
  },
  {
   "cell_type": "code",
   "execution_count": 402,
   "metadata": {},
   "outputs": [],
   "source": [
    "hx1 = np.kron(H, np.eye(len(H[0]), dtype=np.int8))\n",
    "hx2 = np.kron(np.eye(len(H), dtype=np.int8), H.T)\n",
    "Hx = GF(np.hstack([hx1, hx2]))\n",
    "\n",
    "hz1 = np.kron(np.eye(len(H[0]), dtype=np.int8), H)\n",
    "hz2 = np.kron(H.T, np.eye(len(H), dtype=np.int8))\n",
    "Hz = GF(np.hstack([hz1, hz2]))"
   ]
  },
  {
   "cell_type": "code",
   "execution_count": 408,
   "metadata": {},
   "outputs": [
    {
     "data": {
      "text/plain": [
       "(array([ 16, 112, 128, 192, 261, 263, 266], dtype=int64),)"
      ]
     },
     "execution_count": 408,
     "metadata": {},
     "output_type": "execute_result"
    }
   ],
   "source": [
    "np.where(Hx[0])"
   ]
  },
  {
   "cell_type": "code",
   "execution_count": 404,
   "metadata": {},
   "outputs": [],
   "source": [
    "def powerset(iterable):\n",
    "    s = list(iterable)\n",
    "    return chain.from_iterable(combinations(s, r) for r in range(len(s)+1))\n",
    "\n",
    "def syn_from_F(F, H):\n",
    "    eF = GF(np.zeros(H.shape[1], dtype=np.int8))\n",
    "    np.put(eF, F, [1])\n",
    "    return set(np.where(H @ eF)[0])\n",
    "\n",
    "Fx = [list(powerset(np.where(Hx[i])[0]))[1:] for i in range(Hx.shape[0])]\n",
    "Fx = list(chain(*Fx)) # can take set of this list for slight reduction in size\n",
    "# Fx = [set(g) for g in Fx] \n",
    "Fz = [list(powerset(np.where(Hz[i])[0]))[1:] for i in range(Hz.shape[0])]\n",
    "Fz = list(chain(*Fz))\n",
    "# Fz = [set(g) for g in Fz]\n",
    "\n",
    "sigma_Fx = [syn_from_F(g, Hz) for g in Fx] # set of indices where syndrome is 1\n",
    "sigma_Fz = [syn_from_F(g, Hx) for g in Fz]"
   ]
  },
  {
   "cell_type": "code",
   "execution_count": 409,
   "metadata": {},
   "outputs": [
    {
     "name": "stdout",
     "output_type": "stream",
     "text": [
      "338 µs ± 52.9 µs per loop (mean ± std. dev. of 7 runs, 1000 loops each)\n"
     ]
    }
   ],
   "source": [
    "%timeit syn_from_F(Fx[0], Hz)"
   ]
  },
  {
   "cell_type": "code",
   "execution_count": 393,
   "metadata": {},
   "outputs": [],
   "source": [
    "def ssf(syn, x_z):\n",
    "    # given a syndrome, syn: sigma_x or sigma_z \n",
    "    # x_z false for x stabilizers, true for z stabilizers\n",
    "    s = set(np.where(syn.copy())[0])\n",
    "    e = set()\n",
    "    F = Fx if x_z else Fz\n",
    "    sigma_F = sigma_Fx if x_z else sigma_Fz\n",
    "    \n",
    "    while True:\n",
    "        max = -1\n",
    "        max_gen = None\n",
    "        max_sigma_gen = None\n",
    "        for g, sigma_g in zip(F, sigma_F):\n",
    "            s_i = s ^ sigma_g\n",
    "            if (len(s_i) < len(s)):\n",
    "                rel_weight = (len(s) - len(s_i)) / len(g)\n",
    "                if (rel_weight > max):\n",
    "                    max = rel_weight\n",
    "                    max_gen = g\n",
    "                    max_sigma_gen = sigma_g\n",
    "            else:\n",
    "                continue\n",
    "\n",
    "        if (max == -1):\n",
    "            if (len(s) == 0):\n",
    "                return e\n",
    "            else:\n",
    "                return \"FAIL\"\n",
    "        else:\n",
    "            e = e ^ set(max_gen)\n",
    "            s = s ^ max_sigma_gen"
   ]
  },
  {
   "cell_type": "code",
   "execution_count": 384,
   "metadata": {},
   "outputs": [
    {
     "name": "stdout",
     "output_type": "stream",
     "text": [
      "{121, 161, 41, 81, 113, 25}\n",
      "{89, 1}\n"
     ]
    }
   ],
   "source": [
    "p = 0.01\n",
    "\n",
    "# how is this able to decode an error with more than (d-1)/2 errors?\n",
    "\n",
    "for i in range(1):\n",
    "    eX = GF([1 if np.random.uniform() < p else 0 for i in range(Hx.shape[1])])\n",
    "    # eZ = GF([1 if np.random.uniform() < p else 0 for i in range(Hz.shape[1])])\n",
    "\n",
    "    sigma_eX = Hx @ eX.T\n",
    "    # sigma_eZ = Hz @ eZ.T\n",
    "    e1 = ssf(sigma_eX, False)\n",
    "    # e2 = ssf(sigma_eZ, True)\n",
    "    print(e1)"
   ]
  },
  {
   "cell_type": "code",
   "execution_count": 328,
   "metadata": {},
   "outputs": [
    {
     "data": {
      "text/plain": [
       "False"
      ]
     },
     "execution_count": 328,
     "metadata": {},
     "output_type": "execute_result"
    }
   ],
   "source": [
    "e == set(np.where(eX)[0])"
   ]
  },
  {
   "cell_type": "code",
   "execution_count": 353,
   "metadata": {},
   "outputs": [
    {
     "data": {
      "text/plain": [
       "13"
      ]
     },
     "execution_count": 353,
     "metadata": {},
     "output_type": "execute_result"
    }
   ],
   "source": [
    "len(np.where(eX)[0])"
   ]
  },
  {
   "cell_type": "code",
   "execution_count": 395,
   "metadata": {},
   "outputs": [
    {
     "name": "stdout",
     "output_type": "stream",
     "text": [
      "54.3 ms ± 3.18 ms per loop (mean ± std. dev. of 7 runs, 10 loops each)\n"
     ]
    }
   ],
   "source": [
    "%timeit ssf(sigma_eX, False)"
   ]
  },
  {
   "cell_type": "code",
   "execution_count": null,
   "metadata": {},
   "outputs": [],
   "source": []
  }
 ],
 "metadata": {
  "interpreter": {
   "hash": "36076d0e02b8d1858d0bd5b32bffaa710811761ccb670f476492e9c2dea26ac0"
  },
  "kernelspec": {
   "display_name": "Python 3.8.12 ('qc')",
   "language": "python",
   "name": "python3"
  },
  "language_info": {
   "codemirror_mode": {
    "name": "ipython",
    "version": 3
   },
   "file_extension": ".py",
   "mimetype": "text/x-python",
   "name": "python",
   "nbconvert_exporter": "python",
   "pygments_lexer": "ipython3",
   "version": "3.8.12"
  },
  "orig_nbformat": 4
 },
 "nbformat": 4,
 "nbformat_minor": 2
}
