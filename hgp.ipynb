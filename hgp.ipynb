{
 "cells": [
  {
   "cell_type": "code",
   "execution_count": 6,
   "metadata": {},
   "outputs": [],
   "source": [
    "import numpy as np\n",
    "import galois\n",
    "from itertools import chain, combinations\n",
    "import matplotlib.pyplot as plt\n",
    "from scipy import sparse\n",
    "GF = galois.GF(2)"
   ]
  },
  {
   "cell_type": "code",
   "execution_count": 17,
   "metadata": {},
   "outputs": [],
   "source": [
    "# H = np.loadtxt('./ccod/16_4_3.txt', dtype=np.int8)"
   ]
  },
  {
   "cell_type": "code",
   "execution_count": 18,
   "metadata": {},
   "outputs": [],
   "source": [
    "# https://scialert.net/fulltext/?doi=tasr.2012.929.934\n",
    "def girth(H, g):\n",
    "    # girth can only be even in bipartite graphs\n",
    "    combs = list(combinations(np.arange(H.shape[0]), g//2))\n",
    "    for c in combs:\n",
    "        w = np.zeros(H.shape[1])\n",
    "        for r in range(g//2):\n",
    "            w += np.array(H[c[r]])\n",
    "        if (np.count_nonzero(w == 2) == g//2):\n",
    "            return True\n",
    "    return False"
   ]
  },
  {
   "cell_type": "code",
   "execution_count": 84,
   "metadata": {},
   "outputs": [],
   "source": [
    "# configuration model\n",
    "# https://en.wikipedia.org/wiki/Configuration_model\n",
    "\n",
    "n = 12\n",
    "deg_v = 3 # w_c. Every bit is in this many checks\n",
    "deg_c = 4 # w_r. Every check has this many bits in it\n",
    "num_checks = (n*deg_v)//deg_c\n",
    "k = n - num_checks\n",
    "\n",
    "vs = np.array([[j for i in range(deg_v)] for j in range(n)]).flatten()\n",
    "cs = np.array([[j for i in range(deg_c)] for j in range(num_checks)]).flatten()\n",
    "\n",
    "H = np.zeros((num_checks, n), dtype=bool)\n",
    "\n",
    "while (vs.size and cs.size):\n",
    "    # choose random 'stub' from each array\n",
    "    double_edge = True\n",
    "    while(double_edge):\n",
    "        v_ind = np.random.randint(0, len(vs))\n",
    "        c_ind = np.random.randint(0, len(cs))\n",
    "\n",
    "        if (H[cs[c_ind]][vs[v_ind]] != 1):\n",
    "            double_edge = False\n",
    "            H[cs[c_ind]][vs[v_ind]] = 1\n",
    "            # if (girth(H, 4)):\n",
    "            #     H[cs[c_ind]][vs[v_ind]] = 0\n",
    "            #     break\n",
    "            vs = np.delete(vs, v_ind)\n",
    "            cs =np.delete(cs, c_ind)\n",
    "            \n",
    "H = sparse.csc_matrix(H)\n",
    "\n",
    "\n",
    "\n",
    "hx1 = sparse.kron(H, np.eye(H.shape[1], dtype=bool))\n",
    "hx2 = sparse.kron(np.eye(H.shape[0], dtype=bool), H.T)\n",
    "Hx = sparse.csr_matrix(sparse.hstack([hx1, hx2], ))\n",
    "\n",
    "hz1 = sparse.kron(np.eye(H.shape[1], dtype=bool), H)\n",
    "hz2 = sparse.kron(H.T, np.eye(H.shape[0], dtype=bool))\n",
    "Hz = sparse.csr_matrix(sparse.hstack([hz1, hz2]))"
   ]
  },
  {
   "cell_type": "code",
   "execution_count": 86,
   "metadata": {},
   "outputs": [
    {
     "data": {
      "text/plain": [
       "array([[1, 1, 1, 0, 0, 0, 0, 0, 0, 1, 0, 0],\n",
       "       [1, 0, 0, 1, 0, 0, 0, 0, 0, 1, 0, 1],\n",
       "       [0, 1, 1, 0, 0, 0, 0, 1, 0, 0, 1, 0],\n",
       "       [1, 0, 0, 0, 0, 1, 0, 0, 1, 0, 0, 1],\n",
       "       [0, 0, 0, 0, 1, 0, 0, 0, 1, 1, 0, 1],\n",
       "       [0, 0, 0, 0, 1, 1, 1, 0, 0, 0, 1, 0],\n",
       "       [0, 0, 0, 1, 1, 1, 0, 1, 0, 0, 0, 0],\n",
       "       [0, 0, 0, 1, 0, 0, 1, 1, 0, 0, 1, 0],\n",
       "       [0, 1, 1, 0, 0, 0, 1, 0, 1, 0, 0, 0]])"
      ]
     },
     "execution_count": 86,
     "metadata": {},
     "output_type": "execute_result"
    }
   ],
   "source": [
    "H.toarray()*1"
   ]
  },
  {
   "cell_type": "code",
   "execution_count": 81,
   "metadata": {},
   "outputs": [],
   "source": [
    "l = np.arange(Hx.shape[1])\n",
    "combs = combinations(l,3)\n",
    "\n",
    "for c in combs:\n",
    "    e = GF(np.zeros(Hx.shape[1], dtype=np.int8))\n",
    "    for qb in c:\n",
    "        e[qb] = 1\n",
    "    \n",
    "    synd = Hx @ e\n",
    "    mask = GF(np.zeros(Hx.shape[0], dtype=np.int8))\n",
    "    mask[7] = 1\n",
    "\n",
    "    if (np.array_equal(synd, mask)):\n",
    "        print(c)\n",
    "    else:\n",
    "        continue"
   ]
  },
  {
   "cell_type": "code",
   "execution_count": 83,
   "metadata": {},
   "outputs": [
    {
     "data": {
      "text/plain": [
       "10586800"
      ]
     },
     "execution_count": 83,
     "metadata": {},
     "output_type": "execute_result"
    }
   ],
   "source": [
    "len(set(combinations(np.arange(400),3)))"
   ]
  },
  {
   "cell_type": "code",
   "execution_count": null,
   "metadata": {},
   "outputs": [],
   "source": [
    "count = [[0 for _ in range(q_dc)] for _ in range(Hx.shape[0])]\n",
    "rows = Hx.shape[0]\n",
    "for j in range(rows):\n",
    "    for i in range(rows):\n",
    "        if (j != i):\n",
    "            num_overlap = len(set(Hz[j].indices) & set(Hz[i].indices))\n",
    "            count[j][num_overlap] += 1\n",
    "# for i in range(rows):\n",
    "#     num_overlap = len(set(Hx[0].indices) & set(Hz[i].indices))\n",
    "#     count[num_overlap] += 1\n",
    "print(count)"
   ]
  },
  {
   "cell_type": "code",
   "execution_count": 128,
   "metadata": {},
   "outputs": [],
   "source": [
    "counts2 = []\n",
    "\n",
    "for j in range(rows):\n",
    "    count2 = set()\n",
    "    for i in range(rows):\n",
    "        if (i != j):\n",
    "            if ((set(Hx[j].indices) & set(Hx[i].indices))):\n",
    "                count2.add(i)\n",
    "    counts2.append(count2)"
   ]
  },
  {
   "cell_type": "code",
   "execution_count": 132,
   "metadata": {},
   "outputs": [
    {
     "name": "stdout",
     "output_type": "stream",
     "text": [
      "2\n"
     ]
    }
   ],
   "source": [
    "lst = []\n",
    "# for j in range(len(counts2)):\n",
    "#     for i in range(len(counts2)):\n",
    "#         if (i != j):\n",
    "#             lst.append(len(counts2[j] & counts2[i]))\n",
    "\n",
    "num = 6\n",
    "for n in range(10000):\n",
    "    ints = np.random.choice(np.arange(len(counts2)), size=num, replace=False)\n",
    "    s = counts2[ints[0]]\n",
    "\n",
    "    for i in range(1, num):\n",
    "        s = s | counts2[ints[i]]\n",
    "\n",
    "    if (len(s) == 17*num):\n",
    "        lst.append(1)\n",
    "print(len(lst))"
   ]
  },
  {
   "cell_type": "code",
   "execution_count": 81,
   "metadata": {},
   "outputs": [
    {
     "name": "stdout",
     "output_type": "stream",
     "text": [
      "[[174  17   0 ...   0   0   0]\n",
      " [174  17   0 ...   0   0   0]\n",
      " [174  17   0 ...   0   0   0]\n",
      " ...\n",
      " [174  17   0 ...   0   0   0]\n",
      " [174  17   0 ...   0   0   0]\n",
      " [174  17   0 ...   0   0   0]]\n"
     ]
    }
   ],
   "source": [
    "count2 = np.array(count)\n",
    "# count2 = count2/Hx.shape[0]\n",
    "print(count2)"
   ]
  },
  {
   "cell_type": "code",
   "execution_count": 47,
   "metadata": {},
   "outputs": [
    {
     "data": {
      "text/plain": [
       "array([0.94      , 0.05666667, 0.        , 0.        , 0.        ,\n",
       "       0.        , 0.        ])"
      ]
     },
     "execution_count": 47,
     "metadata": {},
     "output_type": "execute_result"
    }
   ],
   "source": [
    "count_avg = np.sum(count2, axis=0)/Hx.shape[0]\n",
    "count_avg"
   ]
  },
  {
   "cell_type": "code",
   "execution_count": 60,
   "metadata": {},
   "outputs": [
    {
     "name": "stdout",
     "output_type": "stream",
     "text": [
      "[[3, 8, 0, 0], [3, 8, 0, 0], [3, 8, 0, 0], [3, 8, 0, 0], [3, 8, 0, 0], [3, 8, 0, 0], [3, 8, 0, 0], [3, 8, 0, 0], [3, 8, 0, 0], [3, 8, 0, 0], [3, 8, 0, 0], [3, 8, 0, 0]]\n"
     ]
    }
   ],
   "source": [
    "H = H.tocsr()\n",
    "count = [[0 for _ in range(deg_c)] for _ in range(H.shape[0])]\n",
    "rows = H.shape[0]\n",
    "for j in range(rows):\n",
    "    for i in range(rows):\n",
    "        if (j != i):\n",
    "            num_overlap = len(set(H[j].indices) & set(H[i].indices))\n",
    "            count[j][num_overlap] += 1\n",
    "# for i in range(rows):\n",
    "#     num_overlap = len(set(Hx[0].indices) & set(Hz[i].indices))\n",
    "#     count[num_overlap] += 1\n",
    "print(count)"
   ]
  },
  {
   "cell_type": "code",
   "execution_count": 55,
   "metadata": {},
   "outputs": [
    {
     "data": {
      "text/plain": [
       "<matplotlib.lines.Line2D at 0x132a17fc070>"
      ]
     },
     "execution_count": 55,
     "metadata": {},
     "output_type": "execute_result"
    },
    {
     "data": {
      "image/png": "[encoded data removed]",
      "text/plain": [
       "<Figure size 720x360 with 1 Axes>"
      ]
     },
     "metadata": {
      "needs_background": "light"
     },
     "output_type": "display_data"
    }
   ],
   "source": [
    "plt.figure(figsize=(10,5))\n",
    "plt.spy(Hx, markersize=1)"
   ]
  },
  {
   "cell_type": "code",
   "execution_count": 56,
   "metadata": {},
   "outputs": [
    {
     "data": {
      "text/plain": [
       "<matplotlib.lines.Line2D at 0x132a191c880>"
      ]
     },
     "execution_count": 56,
     "metadata": {},
     "output_type": "execute_result"
    },
    {
     "data": {
      "image/png": "[encoded data removed]",
      "text/plain": [
       "<Figure size 720x360 with 1 Axes>"
      ]
     },
     "metadata": {
      "needs_background": "light"
     },
     "output_type": "display_data"
    }
   ],
   "source": [
    "plt.figure(figsize=(10,5))\n",
    "plt.spy(Hz, markersize=1)"
   ]
  },
  {
   "cell_type": "code",
   "execution_count": 78,
   "metadata": {},
   "outputs": [
    {
     "data": {
      "text/plain": [
       "{1, 6, 9, 11, 17, 22, 25, 27, 256, 268, 304, 340, 352, 364}"
      ]
     },
     "execution_count": 78,
     "metadata": {},
     "output_type": "execute_result"
    }
   ],
   "source": [
    "inds = set(Hz[0].indices) | set(Hz[12].indices)\n",
    "inds"
   ]
  },
  {
   "cell_type": "code",
   "execution_count": 79,
   "metadata": {},
   "outputs": [
    {
     "name": "stdout",
     "output_type": "stream",
     "text": [
      "{352, 1, 6, 9, 11, 268, 304}\n",
      "{6}\n",
      "{11}\n",
      "{9}\n",
      "set()\n",
      "set()\n",
      "set()\n",
      "{1}\n",
      "{11}\n",
      "{1}\n",
      "{6}\n",
      "{9}\n",
      "{256, 364, 17, 340, 22, 25, 27}\n",
      "{22}\n",
      "{27}\n",
      "{25}\n",
      "set()\n",
      "set()\n",
      "set()\n",
      "{17}\n",
      "{27}\n",
      "{17}\n",
      "{22}\n",
      "{25}\n",
      "{268}\n",
      "set()\n",
      "set()\n",
      "set()\n",
      "set()\n",
      "set()\n",
      "set()\n",
      "set()\n",
      "set()\n",
      "set()\n",
      "set()\n",
      "set()\n",
      "{268, 340}\n",
      "set()\n",
      "set()\n",
      "set()\n",
      "set()\n",
      "set()\n",
      "set()\n",
      "set()\n",
      "set()\n",
      "set()\n",
      "set()\n",
      "set()\n",
      "{340}\n",
      "set()\n",
      "set()\n",
      "set()\n",
      "set()\n",
      "set()\n",
      "set()\n",
      "set()\n",
      "set()\n",
      "set()\n",
      "set()\n",
      "set()\n",
      "{304}\n",
      "set()\n",
      "set()\n",
      "set()\n",
      "set()\n",
      "set()\n",
      "set()\n",
      "set()\n",
      "set()\n",
      "set()\n",
      "set()\n",
      "set()\n",
      "{256, 268}\n",
      "set()\n",
      "set()\n",
      "set()\n",
      "set()\n",
      "set()\n",
      "set()\n",
      "set()\n",
      "set()\n",
      "set()\n",
      "set()\n",
      "set()\n",
      "{364}\n",
      "set()\n",
      "set()\n",
      "set()\n",
      "set()\n",
      "set()\n",
      "set()\n",
      "set()\n",
      "set()\n",
      "set()\n",
      "set()\n",
      "set()\n",
      "set()\n",
      "set()\n",
      "set()\n",
      "set()\n",
      "set()\n",
      "set()\n",
      "set()\n",
      "set()\n",
      "set()\n",
      "set()\n",
      "set()\n",
      "set()\n",
      "{256}\n",
      "set()\n",
      "set()\n",
      "set()\n",
      "set()\n",
      "set()\n",
      "set()\n",
      "set()\n",
      "set()\n",
      "set()\n",
      "set()\n",
      "set()\n",
      "{304, 364}\n",
      "set()\n",
      "set()\n",
      "set()\n",
      "set()\n",
      "set()\n",
      "set()\n",
      "set()\n",
      "set()\n",
      "set()\n",
      "set()\n",
      "set()\n",
      "{256, 352}\n",
      "set()\n",
      "set()\n",
      "set()\n",
      "set()\n",
      "set()\n",
      "set()\n",
      "set()\n",
      "set()\n",
      "set()\n",
      "set()\n",
      "set()\n",
      "set()\n",
      "set()\n",
      "set()\n",
      "set()\n",
      "set()\n",
      "set()\n",
      "set()\n",
      "set()\n",
      "set()\n",
      "set()\n",
      "set()\n",
      "set()\n",
      "{352}\n",
      "set()\n",
      "set()\n",
      "set()\n",
      "set()\n",
      "set()\n",
      "set()\n",
      "set()\n",
      "set()\n",
      "set()\n",
      "set()\n",
      "set()\n",
      "{304, 340}\n",
      "set()\n",
      "set()\n",
      "set()\n",
      "set()\n",
      "set()\n",
      "set()\n",
      "set()\n",
      "set()\n",
      "set()\n",
      "set()\n",
      "set()\n",
      "{352, 364}\n",
      "set()\n",
      "set()\n",
      "set()\n",
      "set()\n",
      "set()\n",
      "set()\n",
      "set()\n",
      "set()\n",
      "set()\n",
      "set()\n",
      "set()\n"
     ]
    }
   ],
   "source": [
    "for i in range(Hz.shape[0]):\n",
    "    print(set(Hz[i].indices) & inds)"
   ]
  },
  {
   "cell_type": "code",
   "execution_count": 38,
   "metadata": {},
   "outputs": [],
   "source": [
    "def powerset(iterable):\n",
    "    s = list(iterable)\n",
    "    return chain.from_iterable(combinations(s, r) for r in range(len(s)+1))\n",
    "\n",
    "def syn_from_F(F, H):\n",
    "    eF = GF(np.zeros(H.shape[1], dtype=np.int8))\n",
    "    np.put(eF, F, [1])\n",
    "    return set(np.where(H @ eF)[0])\n",
    "\n",
    "Fx = [list(powerset(np.where(Hx[i])[0]))[1:] for i in range(Hx.shape[0])]\n",
    "Fx = list(chain(*Fx)) # can take set of this list for slight reduction in size\n",
    "# Fx = [set(g) for g in Fx] \n",
    "Fz = [list(powerset(np.where(Hz[i])[0]))[1:] for i in range(Hz.shape[0])]\n",
    "Fz = list(chain(*Fz))\n",
    "# Fz = [set(g) for g in Fz]\n",
    "\n",
    "sigma_Fx = [syn_from_F(g, Hz) for g in Fx] # set of indices where syndrome is 1\n",
    "sigma_Fz = [syn_from_F(g, Hx) for g in Fz]"
   ]
  },
  {
   "cell_type": "code",
   "execution_count": 39,
   "metadata": {},
   "outputs": [],
   "source": [
    "def ssf(syn, x_z):\n",
    "    # given a syndrome, syn: sigma_x or sigma_z \n",
    "    # x_z false for x stabilizers, true for z stabilizers\n",
    "    s = set(np.where(syn.copy())[0])\n",
    "    e = set()\n",
    "    F = Fx if x_z else Fz\n",
    "    sigma_F = sigma_Fx if x_z else sigma_Fz\n",
    "    \n",
    "    while True:\n",
    "        max = -1\n",
    "        max_gen = None\n",
    "        max_sigma_gen = None\n",
    "        for g, sigma_g in zip(F, sigma_F):\n",
    "            s_i = s ^ sigma_g\n",
    "            if (len(s_i) < len(s)):\n",
    "                rel_weight = (len(s) - len(s_i)) / len(g)\n",
    "                if (rel_weight > max):\n",
    "                    max = rel_weight\n",
    "                    max_gen = g\n",
    "                    max_sigma_gen = sigma_g\n",
    "            else:\n",
    "                continue\n",
    "\n",
    "        if (max == -1):\n",
    "            if (len(s) == 0):\n",
    "                return e\n",
    "            else:\n",
    "                return \"FAIL\"\n",
    "        else:\n",
    "            e = e ^ set(max_gen)\n",
    "            s = s ^ max_sigma_gen"
   ]
  },
  {
   "cell_type": "code",
   "execution_count": null,
   "metadata": {},
   "outputs": [],
   "source": [
    "p = 0.05\n",
    "\n",
    "# how is this able to decode an error with more than (d-1)/2 errors?\n",
    "sum = 0\n",
    "num_iters = 100\n",
    "for i in range(num_iters):\n",
    "    eX = GF([1 if np.random.uniform() < p else 0 for i in range(Hx.shape[1])])\n",
    "    # eZ = GF([1 if np.random.uniform() < p else 0 for i in range(Hz.shape[1])])\n",
    "\n",
    "    sigma_eX = Hx @ eX.T\n",
    "    # sigma_eZ = Hz @ eZ.T\n",
    "    e1 = ssf(sigma_eX, False)\n",
    "    # e2 = ssf(sigma_eZ, True)\n",
    "    # print(\"X-error: \", np.where(eX)[0])\n",
    "    # print(e1)\n",
    "    if (set(np.where(eX)[0]) == e1):\n",
    "        sum += 1"
   ]
  },
  {
   "cell_type": "code",
   "execution_count": 232,
   "metadata": {},
   "outputs": [
    {
     "data": {
      "text/plain": [
       "[9476, 511, 13, 0, 0, 0, 0]"
      ]
     },
     "execution_count": 232,
     "metadata": {},
     "output_type": "execute_result"
    }
   ],
   "source": [
    "arr = np.array([1] * q_dc + [0] * (Hx.shape[1]-q_dc))\n",
    "np.random.shuffle(arr)\n",
    "\n",
    "random_count = [0 for _ in range(q_dc)]\n",
    "for i in range(10000):\n",
    "    arr2 = np.array([1] * q_dc + [0] * (Hx.shape[1]-q_dc))\n",
    "    np.random.shuffle(arr2)\n",
    "\n",
    "    num_overlap = np.count_nonzero(GF(arr) & GF(arr2))\n",
    "    random_count[num_overlap] += 1\n",
    "\n",
    "random_count"
   ]
  },
  {
   "cell_type": "code",
   "execution_count": 4,
   "metadata": {},
   "outputs": [
    {
     "ename": "NameError",
     "evalue": "name 'q_dc' is not defined",
     "output_type": "error",
     "traceback": [
      "\u001b[1;31m---------------------------------------------------------------------------\u001b[0m",
      "\u001b[1;31mNameError\u001b[0m                                 Traceback (most recent call last)",
      "\u001b[1;32m~\\AppData\\Local\\Temp/ipykernel_1776/1513074990.py\u001b[0m in \u001b[0;36m<module>\u001b[1;34m\u001b[0m\n\u001b[0;32m      6\u001b[0m     \u001b[1;32mreturn\u001b[0m \u001b[1;33m(\u001b[0m\u001b[0mmath\u001b[0m\u001b[1;33m.\u001b[0m\u001b[0mcomb\u001b[0m\u001b[1;33m(\u001b[0m\u001b[0mK\u001b[0m\u001b[1;33m,\u001b[0m\u001b[0mk\u001b[0m\u001b[1;33m)\u001b[0m \u001b[1;33m*\u001b[0m \u001b[0mmath\u001b[0m\u001b[1;33m.\u001b[0m\u001b[0mcomb\u001b[0m\u001b[1;33m(\u001b[0m\u001b[0mN\u001b[0m\u001b[1;33m-\u001b[0m\u001b[0mK\u001b[0m\u001b[1;33m,\u001b[0m\u001b[0mn\u001b[0m\u001b[1;33m-\u001b[0m\u001b[0mk\u001b[0m\u001b[1;33m)\u001b[0m\u001b[1;33m)\u001b[0m \u001b[1;33m/\u001b[0m \u001b[0mmath\u001b[0m\u001b[1;33m.\u001b[0m\u001b[0mcomb\u001b[0m\u001b[1;33m(\u001b[0m\u001b[0mN\u001b[0m\u001b[1;33m,\u001b[0m\u001b[0mn\u001b[0m\u001b[1;33m)\u001b[0m\u001b[1;33m\u001b[0m\u001b[1;33m\u001b[0m\u001b[0m\n\u001b[0;32m      7\u001b[0m \u001b[1;33m\u001b[0m\u001b[0m\n\u001b[1;32m----> 8\u001b[1;33m \u001b[0mpmf\u001b[0m \u001b[1;33m=\u001b[0m \u001b[1;33m[\u001b[0m\u001b[0mhgd\u001b[0m\u001b[1;33m(\u001b[0m\u001b[0mHx\u001b[0m\u001b[1;33m.\u001b[0m\u001b[0mshape\u001b[0m\u001b[1;33m[\u001b[0m\u001b[1;36m1\u001b[0m\u001b[1;33m]\u001b[0m\u001b[1;33m,\u001b[0m\u001b[0mq_dc\u001b[0m\u001b[1;33m,\u001b[0m\u001b[0mq_dc\u001b[0m\u001b[1;33m,\u001b[0m\u001b[0mk\u001b[0m\u001b[1;33m)\u001b[0m \u001b[1;32mfor\u001b[0m \u001b[0mk\u001b[0m \u001b[1;32min\u001b[0m \u001b[0mrange\u001b[0m\u001b[1;33m(\u001b[0m\u001b[0mq_dc\u001b[0m\u001b[1;33m)\u001b[0m\u001b[1;33m]\u001b[0m\u001b[1;33m\u001b[0m\u001b[1;33m\u001b[0m\u001b[0m\n\u001b[0m\u001b[0;32m      9\u001b[0m \u001b[1;31m# pmf = [hgd(500,70,300,k) for k in range(60)]\u001b[0m\u001b[1;33m\u001b[0m\u001b[1;33m\u001b[0m\u001b[1;33m\u001b[0m\u001b[0m\n\u001b[0;32m     10\u001b[0m \u001b[1;33m\u001b[0m\u001b[0m\n",
      "\u001b[1;31mNameError\u001b[0m: name 'q_dc' is not defined"
     ]
    }
   ],
   "source": [
    "import math\n",
    "import matplotlib.pyplot as plt\n",
    "import numpy as np\n",
    "\n",
    "def hgd(N,K,n,k):\n",
    "    return (math.comb(K,k) * math.comb(N-K,n-k)) / math.comb(N,n)\n",
    "\n",
    "pmf = [hgd(Hx.shape[1],q_dc,q_dc,k) for k in range(q_dc)]\n",
    "# pmf = [hgd(500,70,300,k) for k in range(60)]\n",
    "\n",
    "print(pmf)\n",
    "# plt.scatter(np.arange(60), pmf, label='hgd')\n",
    "\n",
    "plt.scatter(np.arange(q_dc), pmf, label='hgd')\n",
    "# plt.scatter(np.arange(q_dc), [x/Hx.shape[0] for x in count[2]], label='code')\n",
    "plt.scatter(np.arange(q_dc), count_avg, label='code')\n",
    "\n",
    "plt.scatter(np.arange(q_dc), [x/10000 for x in random_count], label='random')\n",
    "plt.legend(loc='upper right')\n",
    "plt.yscale('log')"
   ]
  },
  {
   "cell_type": "code",
   "execution_count": 15,
   "metadata": {},
   "outputs": [
    {
     "data": {
      "image/png": "[encoded data removed]",
      "text/plain": [
       "<Figure size 432x288 with 1 Axes>"
      ]
     },
     "metadata": {
      "needs_background": "light"
     },
     "output_type": "display_data"
    }
   ],
   "source": [
    "def prob(num_checks, deg_c, deg_v):\n",
    "    prod = 1\n",
    "    for i in range(1, deg_c):\n",
    "        prod *= hgd(num_checks-1, deg_v*i-i, deg_v-1, 0)\n",
    "    return prod\n",
    "\n",
    "def prob2(num_checks, deg_c, deg_v, k):\n",
    "    return hgd(num_checks,deg_c,deg_v,k)\n",
    "\n",
    "# data = [1 - prob(i, deg_c, deg_v) for i in range(20, 20000)]\n",
    "data = [1 - (hgd(i, 4, 3, 0) + hgd(i, 4, 3, 1))**i**2 for i in range(20, 20000)]\n",
    "test = [30/i for i in range(20, 20000)]\n",
    "plt.plot(np.arange(20,20000), data, label='data')\n",
    "plt.plot(np.arange(20,20000), test, label='test')\n",
    "plt.legend(loc='upper right')\n",
    "plt.yscale('log')"
   ]
  },
  {
   "cell_type": "code",
   "execution_count": 2,
   "metadata": {},
   "outputs": [
    {
     "name": "stdout",
     "output_type": "stream",
     "text": [
      "0.0\n",
      "-1.9900000000000002\n",
      "-48.309999999999995\n",
      "1.9900000000000002\n",
      "0.0\n",
      "-46.31999999999999\n",
      "48.309999999999995\n",
      "46.31999999999999\n",
      "0.0\n"
     ]
    }
   ],
   "source": [
    "a = [15.06, 17.05, 63.37]\n",
    "\n",
    "for i in range(3):\n",
    "    for j in range(3):\n",
    "        print(a[i]-a[j])"
   ]
  },
  {
   "cell_type": "code",
   "execution_count": 3,
   "metadata": {},
   "outputs": [
    {
     "data": {
      "text/plain": [
       "-28.559999999999988"
      ]
     },
     "execution_count": 3,
     "metadata": {},
     "output_type": "execute_result"
    }
   ],
   "source": [
    "71.29- 99.85"
   ]
  },
  {
   "cell_type": "code",
   "execution_count": 5,
   "metadata": {},
   "outputs": [
    {
     "data": {
      "text/plain": [
       "-10.950000000000003"
      ]
     },
     "execution_count": 5,
     "metadata": {},
     "output_type": "execute_result"
    }
   ],
   "source": [
    "70.75- 81.7"
   ]
  },
  {
   "cell_type": "code",
   "execution_count": null,
   "metadata": {},
   "outputs": [],
   "source": []
  }
 ],
 "metadata": {
  "interpreter": {
   "hash": "0ec6a07b5680b7cd4331b54bc02dbe3823b9a431e7975ff6d8e95dcfb04b0c38"
  },
  "kernelspec": {
   "display_name": "Python 3.8.12 ('qc')",
   "language": "python",
   "name": "python3"
  },
  "language_info": {
   "codemirror_mode": {
    "name": "ipython",
    "version": 3
   },
   "file_extension": ".py",
   "mimetype": "text/x-python",
   "name": "python",
   "nbconvert_exporter": "python",
   "pygments_lexer": "ipython3",
   "version": "3.8.12"
  },
  "orig_nbformat": 4
 },
 "nbformat": 4,
 "nbformat_minor": 2
}
