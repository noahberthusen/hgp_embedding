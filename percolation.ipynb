{
 "cells": [
  {
   "cell_type": "code",
   "execution_count": 125,
   "metadata": {},
   "outputs": [],
   "source": [
    "import networkx as nx\n",
    "import numpy as np\n",
    "from scipy import sparse\n",
    "from prebuilt_code.ssf_masked.src_py.read_ccodes import *\n",
    "import matplotlib.pyplot as plt\n",
    "import itertools"
   ]
  },
  {
   "cell_type": "code",
   "execution_count": 135,
   "metadata": {},
   "outputs": [],
   "source": [
    "n_list = []\n",
    "m_list = []\n",
    "dv_list = []\n",
    "dc_list = []\n",
    "id_list = []\n",
    "file_name_list = [\"prebuilt_code/ssf_masked/ccode/60_50_5_6.code\"]\n",
    "\n",
    "code_list = read_ccode(file_name_list, n_list, m_list, dv_list, dc_list, id_list)\n",
    "ccode = code_list[0]"
   ]
  },
  {
   "cell_type": "code",
   "execution_count": 136,
   "metadata": {},
   "outputs": [],
   "source": [
    "check_nbhd = ccode.check_nbhd\n",
    "\n",
    "H = np.zeros((ccode.m, ccode.n))\n",
    "for i, check in enumerate(check_nbhd):\n",
    "    for bit in check:\n",
    "        H[i][bit] = 1\n",
    "H = sparse.csc_matrix(H)\n",
    "\n",
    "hx1 = sparse.kron(H, np.eye(H.shape[1], dtype=bool))\n",
    "hx2 = sparse.kron(np.eye(H.shape[0], dtype=bool), H.T)\n",
    "Hx = sparse.csr_matrix(sparse.hstack([hx1, hx2], ))\n",
    "\n",
    "hz1 = sparse.kron(np.eye(H.shape[1], dtype=bool), H)\n",
    "hz2 = sparse.kron(H.T, np.eye(H.shape[0], dtype=bool))\n",
    "Hz = sparse.csr_matrix(sparse.hstack([hz1, hz2]))\n",
    "qH = sparse.vstack([Hx, Hz]).tocsc()\n",
    "\n",
    "n = qH.shape[1]\n",
    "m = qH.shape[0]"
   ]
  },
  {
   "cell_type": "code",
   "execution_count": 137,
   "metadata": {},
   "outputs": [],
   "source": [
    "G = nx.Graph()\n",
    "G.add_nodes_from(np.arange(qH.shape[0]))"
   ]
  },
  {
   "cell_type": "code",
   "execution_count": 138,
   "metadata": {},
   "outputs": [],
   "source": [
    "for i in range(qH.shape[1]):\n",
    "    checks = qH[:, i].indices\n",
    "    for pair in itertools.combinations(checks, 2):\n",
    "        G.add_edge(pair[0], pair[1])"
   ]
  },
  {
   "cell_type": "code",
   "execution_count": 132,
   "metadata": {},
   "outputs": [],
   "source": [
    "def percolation(G, p):\n",
    "    \"\"\"\n",
    "    returns components if edges are removed from G with probability p\n",
    "    (starting from empty graph adding edges with probability (1-p))\n",
    "    \"\"\"\n",
    "    G_copy = G.copy()\n",
    "    edges = list(G_copy.edges)\n",
    "    for edge in edges:\n",
    "        if (np.random.random() < p):\n",
    "            G_copy.remove_edge(edge[0], edge[1])\n",
    "            \n",
    "    comps = sorted(nx.connected_components(G_copy), key=len, reverse=True)\n",
    "    return comps[0] # return giant component"
   ]
  },
  {
   "cell_type": "code",
   "execution_count": 140,
   "metadata": {},
   "outputs": [],
   "source": [
    "ps = np.linspace(0,0.1,100)\n",
    "gcc_sizes = [len(percolation(G, 1-p)) for p in ps]"
   ]
  },
  {
   "cell_type": "code",
   "execution_count": 141,
   "metadata": {},
   "outputs": [
    {
     "data": {
      "text/plain": [
       "<matplotlib.collections.PathCollection at 0x17e1ebbcb50>"
      ]
     },
     "execution_count": 141,
     "metadata": {},
     "output_type": "execute_result"
    },
    {
     "data": {
      "image/png": "[encoded data removed]",
      "text/plain": [
       "<Figure size 432x288 with 1 Axes>"
      ]
     },
     "metadata": {
      "needs_background": "light"
     },
     "output_type": "display_data"
    }
   ],
   "source": [
    "plt.scatter(ps, gcc_sizes)"
   ]
  },
  {
   "cell_type": "code",
   "execution_count": null,
   "metadata": {},
   "outputs": [],
   "source": []
  }
 ],
 "metadata": {
  "interpreter": {
   "hash": "0ec6a07b5680b7cd4331b54bc02dbe3823b9a431e7975ff6d8e95dcfb04b0c38"
  },
  "kernelspec": {
   "display_name": "Python 3.8.12 ('qc')",
   "language": "python",
   "name": "python3"
  },
  "language_info": {
   "codemirror_mode": {
    "name": "ipython",
    "version": 3
   },
   "file_extension": ".py",
   "mimetype": "text/x-python",
   "name": "python",
   "nbconvert_exporter": "python",
   "pygments_lexer": "ipython3",
   "version": "3.8.12"
  },
  "orig_nbformat": 4
 },
 "nbformat": 4,
 "nbformat_minor": 2
}
